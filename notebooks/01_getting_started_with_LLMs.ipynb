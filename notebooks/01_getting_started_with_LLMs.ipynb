{
 "cells": [
  {
   "cell_type": "markdown",
   "metadata": {
    "id": "TqvGA4D4tx5g"
   },
   "source": [
    "# Getting started with LLMs"
   ]
  },
  {
   "cell_type": "markdown",
   "metadata": {
    "id": "8vRuUpH6w90-"
   },
   "source": [
    "# Setup\n",
    "\n",
    "Most of the time, you will interact with LLMs via an API.\n",
    "OpenAI has an API standard that's been adopted by most other LLM providers.\n",
    "Today, we'll be using `litellm`, a package that wraps multiple LLM providers with a common interface."
   ]
  },
  {
   "cell_type": "code",
   "execution_count": 1,
   "metadata": {},
   "outputs": [],
   "source": [
    "%load_ext autoreload\n",
    "%autoreload 2"
   ]
  },
  {
   "cell_type": "code",
   "execution_count": 2,
   "metadata": {},
   "outputs": [],
   "source": [
    "# Imports\n",
    "from ctme.utils import get_root_dotenv\n",
    "import os\n",
    "from rich import print"
   ]
  },
  {
   "cell_type": "code",
   "execution_count": 3,
   "metadata": {},
   "outputs": [],
   "source": [
    "env_path = get_root_dotenv(load=True)\n",
    "\n",
    "expected_variables = [\n",
    "    \"GEMINI_API_KEY\",\n",
    "    \"OPENROUTER_API_KEY\"\n",
    "]\n",
    "\n",
    "assert any([os.getenv(e) for e in expected_variables]),  f\"Expect at one of {expected_variables} to be populated\""
   ]
  },
  {
   "cell_type": "code",
   "execution_count": 4,
   "metadata": {},
   "outputs": [],
   "source": [
    "# ...existing code...\n",
    "env_path = get_root_dotenv(load=True)\n",
    "\n",
    "expected_variables = [\n",
    "    \"GEMINI_API_KEY\",\n",
    "    \"OPENROUTER_API_KEY\"\n",
    "]\n",
    "\n",
    "missing = [e for e in expected_variables if not os.getenv(e)]\n",
    "if len(missing) == len(expected_variables):\n",
    "    raise EnvironmentError(f\"Missing required environment variable(s): {missing}. At least one of {expected_variables} must be set.\")\n",
    "# ...existing code..."
   ]
  },
  {
   "cell_type": "markdown",
   "metadata": {
    "id": "1gkcSOtYt6jv"
   },
   "source": [
    "# The basics\n",
    "\n",
    "Let's start by using the LLM `gemini-2.0-flash`'s free tier to learn about how to query LLMs.\n",
    "\n",
    "In the cell below 👇, we import `completion` from `litellm`.\n",
    "This is the core function we'll be using to chat with models in this section."
   ]
  },
  {
   "cell_type": "markdown",
   "metadata": {
    "id": "L8UakE552zHd"
   },
   "source": [
    "## Making requests\n",
    "\n",
    "This model happens to be trained for chat.\n",
    "Chat expects a `list` of messages.\n",
    "Each message is a dictionary with a `role` field specifying the type of message, and a `content` field specifying the content of the message.\n",
    "Three `role` values are supported:\n",
    "\n",
    "- `system`, for giving general instructions to the LLM for how to behave\n",
    "- `user`, for a user message, and\n",
    "- `assistant`, for the LLM's response.\n",
    "\n",
    "Let's give the LLM a simple prompt and see what it returns."
   ]
  },
  {
   "cell_type": "code",
   "execution_count": 5,
   "metadata": {},
   "outputs": [],
   "source": [
    "from litellm import completion, acompletion"
   ]
  },
  {
   "cell_type": "code",
   "execution_count": 6,
   "metadata": {
    "executionInfo": {
     "elapsed": 3,
     "status": "ok",
     "timestamp": 1729544855299,
     "user": {
      "displayName": "Mike Frantz",
      "userId": "08482506601269125384"
     },
     "user_tz": 420
    },
    "id": "NPFMR_3wUhj6"
   },
   "outputs": [],
   "source": [
    "GEMINI_MODEL = 'gemini/gemini-2.0-flash'"
   ]
  },
  {
   "cell_type": "code",
   "execution_count": 7,
   "metadata": {
    "colab": {
     "base_uri": "https://localhost:8080/",
     "height": 523
    },
    "executionInfo": {
     "elapsed": 1966,
     "status": "ok",
     "timestamp": 1729544903426,
     "user": {
      "displayName": "Mike Frantz",
      "userId": "08482506601269125384"
     },
     "user_tz": 420
    },
    "id": "EUJhBsmPue4y",
    "outputId": "9e0f147f-69fb-483a-f592-92e8fd566ea4"
   },
   "outputs": [
    {
     "data": {
      "text/html": [
       "<pre style=\"white-space:pre;overflow-x:auto;line-height:normal;font-family:Menlo,'DejaVu Sans Mono',consolas,'Courier New',monospace\"><span style=\"color: #800080; text-decoration-color: #800080; font-weight: bold\">ModelResponse</span><span style=\"font-weight: bold\">(</span>\n",
       "    <span style=\"color: #808000; text-decoration-color: #808000\">id</span>=<span style=\"color: #008000; text-decoration-color: #008000\">'chatcmpl-7f4f6b99-7723-4f37-b799-fcc861c29693'</span>,\n",
       "    <span style=\"color: #808000; text-decoration-color: #808000\">created</span>=<span style=\"color: #008080; text-decoration-color: #008080; font-weight: bold\">1748019800</span>,\n",
       "    <span style=\"color: #808000; text-decoration-color: #808000\">model</span>=<span style=\"color: #008000; text-decoration-color: #008000\">'gemini-2.0-flash'</span>,\n",
       "    <span style=\"color: #808000; text-decoration-color: #808000\">object</span>=<span style=\"color: #008000; text-decoration-color: #008000\">'chat.completion'</span>,\n",
       "    <span style=\"color: #808000; text-decoration-color: #808000\">system_fingerprint</span>=<span style=\"color: #800080; text-decoration-color: #800080; font-style: italic\">None</span>,\n",
       "    <span style=\"color: #808000; text-decoration-color: #808000\">choices</span>=<span style=\"font-weight: bold\">[</span>\n",
       "        <span style=\"color: #800080; text-decoration-color: #800080; font-weight: bold\">Choices</span><span style=\"font-weight: bold\">(</span>\n",
       "            <span style=\"color: #808000; text-decoration-color: #808000\">finish_reason</span>=<span style=\"color: #008000; text-decoration-color: #008000\">'stop'</span>,\n",
       "            <span style=\"color: #808000; text-decoration-color: #808000\">index</span>=<span style=\"color: #008080; text-decoration-color: #008080; font-weight: bold\">0</span>,\n",
       "            <span style=\"color: #808000; text-decoration-color: #808000\">message</span>=<span style=\"color: #800080; text-decoration-color: #800080; font-weight: bold\">Message</span><span style=\"font-weight: bold\">(</span>\n",
       "                <span style=\"color: #808000; text-decoration-color: #808000\">content</span>=<span style=\"color: #008000; text-decoration-color: #008000\">'Okay, let\\'s reverse the string \\'abcde\\' step by step.\\n\\n1.  **Identify the string:** We</span>\n",
       "<span style=\"color: #008000; text-decoration-color: #008000\">have the string \"abcde\".\\n2.  **Determine the length:** The string has 5 characters.\\n3.  **Iterate and swap (or </span>\n",
       "<span style=\"color: #008000; text-decoration-color: #008000\">build a new string in reverse):** There are a couple of ways to do this.  We could think about swapping characters </span>\n",
       "<span style=\"color: #008000; text-decoration-color: #008000\">from the outside in (a with e, then b with d, and c stays in the middle). Alternatively, we can construct a new </span>\n",
       "<span style=\"color: #008000; text-decoration-color: #008000\">string by taking the last character first, then the second to last, and so on. Let\\'s do it that way.\\n\\n    *   </span>\n",
       "<span style=\"color: #008000; text-decoration-color: #008000\">The last character \\'e\\' goes first.\\n    *   Then the second to last character \\'d\\'.\\n    *   Then \\'c\\'.\\n    * </span>\n",
       "<span style=\"color: #008000; text-decoration-color: #008000\">Then \\'b\\'.\\n    *   Then \\'a\\'.\\n\\n4.  **Combine the characters:**  Combining these in the reversed order gives us</span>\n",
       "<span style=\"color: #008000; text-decoration-color: #008000\">\"edcba\".\\n\\nSo, the reversed string is \\'edcba\\'.\\n'</span>,\n",
       "                <span style=\"color: #808000; text-decoration-color: #808000\">role</span>=<span style=\"color: #008000; text-decoration-color: #008000\">'assistant'</span>,\n",
       "                <span style=\"color: #808000; text-decoration-color: #808000\">tool_calls</span>=<span style=\"color: #800080; text-decoration-color: #800080; font-style: italic\">None</span>,\n",
       "                <span style=\"color: #808000; text-decoration-color: #808000\">function_call</span>=<span style=\"color: #800080; text-decoration-color: #800080; font-style: italic\">None</span>,\n",
       "                <span style=\"color: #808000; text-decoration-color: #808000\">provider_specific_fields</span>=<span style=\"color: #800080; text-decoration-color: #800080; font-style: italic\">None</span>\n",
       "            <span style=\"font-weight: bold\">)</span>\n",
       "        <span style=\"font-weight: bold\">)</span>\n",
       "    <span style=\"font-weight: bold\">]</span>,\n",
       "    <span style=\"color: #808000; text-decoration-color: #808000\">usage</span>=<span style=\"color: #800080; text-decoration-color: #800080; font-weight: bold\">Usage</span><span style=\"font-weight: bold\">(</span>\n",
       "        <span style=\"color: #808000; text-decoration-color: #808000\">completion_tokens</span>=<span style=\"color: #008080; text-decoration-color: #008080; font-weight: bold\">223</span>,\n",
       "        <span style=\"color: #808000; text-decoration-color: #808000\">prompt_tokens</span>=<span style=\"color: #008080; text-decoration-color: #008080; font-weight: bold\">23</span>,\n",
       "        <span style=\"color: #808000; text-decoration-color: #808000\">total_tokens</span>=<span style=\"color: #008080; text-decoration-color: #008080; font-weight: bold\">246</span>,\n",
       "        <span style=\"color: #808000; text-decoration-color: #808000\">completion_tokens_details</span>=<span style=\"color: #800080; text-decoration-color: #800080; font-style: italic\">None</span>,\n",
       "        <span style=\"color: #808000; text-decoration-color: #808000\">prompt_tokens_details</span>=<span style=\"color: #800080; text-decoration-color: #800080; font-weight: bold\">PromptTokensDetailsWrapper</span><span style=\"font-weight: bold\">(</span>\n",
       "            <span style=\"color: #808000; text-decoration-color: #808000\">audio_tokens</span>=<span style=\"color: #800080; text-decoration-color: #800080; font-style: italic\">None</span>,\n",
       "            <span style=\"color: #808000; text-decoration-color: #808000\">cached_tokens</span>=<span style=\"color: #800080; text-decoration-color: #800080; font-style: italic\">None</span>,\n",
       "            <span style=\"color: #808000; text-decoration-color: #808000\">text_tokens</span>=<span style=\"color: #008080; text-decoration-color: #008080; font-weight: bold\">23</span>,\n",
       "            <span style=\"color: #808000; text-decoration-color: #808000\">image_tokens</span>=<span style=\"color: #800080; text-decoration-color: #800080; font-style: italic\">None</span>\n",
       "        <span style=\"font-weight: bold\">)</span>\n",
       "    <span style=\"font-weight: bold\">)</span>,\n",
       "    <span style=\"color: #808000; text-decoration-color: #808000\">vertex_ai_grounding_metadata</span>=<span style=\"font-weight: bold\">[]</span>,\n",
       "    <span style=\"color: #808000; text-decoration-color: #808000\">vertex_ai_safety_results</span>=<span style=\"font-weight: bold\">[]</span>,\n",
       "    <span style=\"color: #808000; text-decoration-color: #808000\">vertex_ai_citation_metadata</span>=<span style=\"font-weight: bold\">[]</span>\n",
       "<span style=\"font-weight: bold\">)</span>\n",
       "</pre>\n"
      ],
      "text/plain": [
       "\u001b[1;35mModelResponse\u001b[0m\u001b[1m(\u001b[0m\n",
       "    \u001b[33mid\u001b[0m=\u001b[32m'chatcmpl-7f4f6b99-7723-4f37-b799-fcc861c29693'\u001b[0m,\n",
       "    \u001b[33mcreated\u001b[0m=\u001b[1;36m1748019800\u001b[0m,\n",
       "    \u001b[33mmodel\u001b[0m=\u001b[32m'gemini-2.0-flash'\u001b[0m,\n",
       "    \u001b[33mobject\u001b[0m=\u001b[32m'chat.completion'\u001b[0m,\n",
       "    \u001b[33msystem_fingerprint\u001b[0m=\u001b[3;35mNone\u001b[0m,\n",
       "    \u001b[33mchoices\u001b[0m=\u001b[1m[\u001b[0m\n",
       "        \u001b[1;35mChoices\u001b[0m\u001b[1m(\u001b[0m\n",
       "            \u001b[33mfinish_reason\u001b[0m=\u001b[32m'stop'\u001b[0m,\n",
       "            \u001b[33mindex\u001b[0m=\u001b[1;36m0\u001b[0m,\n",
       "            \u001b[33mmessage\u001b[0m=\u001b[1;35mMessage\u001b[0m\u001b[1m(\u001b[0m\n",
       "                \u001b[33mcontent\u001b[0m=\u001b[32m'Okay, let\\'s reverse the string \\'abcde\\' step by step.\\n\\n1.  **Identify the string:** We\u001b[0m\n",
       "\u001b[32mhave the string \"abcde\".\\n2.  **Determine the length:** The string has 5 characters.\\n3.  **Iterate and swap \u001b[0m\u001b[32m(\u001b[0m\u001b[32mor \u001b[0m\n",
       "\u001b[32mbuild a new string in reverse\u001b[0m\u001b[32m)\u001b[0m\u001b[32m:** There are a couple of ways to do this.  We could think about swapping characters \u001b[0m\n",
       "\u001b[32mfrom the outside in \u001b[0m\u001b[32m(\u001b[0m\u001b[32ma with e, then b with d, and c stays in the middle\u001b[0m\u001b[32m)\u001b[0m\u001b[32m. Alternatively, we can construct a new \u001b[0m\n",
       "\u001b[32mstring by taking the last character first, then the second to last, and so on. Let\\'s do it that way.\\n\\n    *   \u001b[0m\n",
       "\u001b[32mThe last character \\'e\\' goes first.\\n    *   Then the second to last character \\'d\\'.\\n    *   Then \\'c\\'.\\n    * \u001b[0m\n",
       "\u001b[32mThen \\'b\\'.\\n    *   Then \\'a\\'.\\n\\n4.  **Combine the characters:**  Combining these in the reversed order gives us\u001b[0m\n",
       "\u001b[32m\"edcba\".\\n\\nSo, the reversed string is \\'edcba\\'.\\n'\u001b[0m,\n",
       "                \u001b[33mrole\u001b[0m=\u001b[32m'assistant'\u001b[0m,\n",
       "                \u001b[33mtool_calls\u001b[0m=\u001b[3;35mNone\u001b[0m,\n",
       "                \u001b[33mfunction_call\u001b[0m=\u001b[3;35mNone\u001b[0m,\n",
       "                \u001b[33mprovider_specific_fields\u001b[0m=\u001b[3;35mNone\u001b[0m\n",
       "            \u001b[1m)\u001b[0m\n",
       "        \u001b[1m)\u001b[0m\n",
       "    \u001b[1m]\u001b[0m,\n",
       "    \u001b[33musage\u001b[0m=\u001b[1;35mUsage\u001b[0m\u001b[1m(\u001b[0m\n",
       "        \u001b[33mcompletion_tokens\u001b[0m=\u001b[1;36m223\u001b[0m,\n",
       "        \u001b[33mprompt_tokens\u001b[0m=\u001b[1;36m23\u001b[0m,\n",
       "        \u001b[33mtotal_tokens\u001b[0m=\u001b[1;36m246\u001b[0m,\n",
       "        \u001b[33mcompletion_tokens_details\u001b[0m=\u001b[3;35mNone\u001b[0m,\n",
       "        \u001b[33mprompt_tokens_details\u001b[0m=\u001b[1;35mPromptTokensDetailsWrapper\u001b[0m\u001b[1m(\u001b[0m\n",
       "            \u001b[33maudio_tokens\u001b[0m=\u001b[3;35mNone\u001b[0m,\n",
       "            \u001b[33mcached_tokens\u001b[0m=\u001b[3;35mNone\u001b[0m,\n",
       "            \u001b[33mtext_tokens\u001b[0m=\u001b[1;36m23\u001b[0m,\n",
       "            \u001b[33mimage_tokens\u001b[0m=\u001b[3;35mNone\u001b[0m\n",
       "        \u001b[1m)\u001b[0m\n",
       "    \u001b[1m)\u001b[0m,\n",
       "    \u001b[33mvertex_ai_grounding_metadata\u001b[0m=\u001b[1m[\u001b[0m\u001b[1m]\u001b[0m,\n",
       "    \u001b[33mvertex_ai_safety_results\u001b[0m=\u001b[1m[\u001b[0m\u001b[1m]\u001b[0m,\n",
       "    \u001b[33mvertex_ai_citation_metadata\u001b[0m=\u001b[1m[\u001b[0m\u001b[1m]\u001b[0m\n",
       "\u001b[1m)\u001b[0m\n"
      ]
     },
     "metadata": {},
     "output_type": "display_data"
    }
   ],
   "source": [
    "messages = [\n",
    "    {\"role\": \"system\", \"content\": \"You are a helpful assistant.\"},\n",
    "    {\"role\": \"user\", \"content\": \"Reverse the following string: 'abcde'. Let's think step by step:\"},\n",
    "]\n",
    "response = completion(model=GEMINI_MODEL, messages=messages)\n",
    "print(response)"
   ]
  },
  {
   "cell_type": "markdown",
   "metadata": {
    "id": "qEnTwuRy34vR"
   },
   "source": [
    "The response actually has a lot of useful information.\n",
    "It has the model, a timestamp, other identifiers, and model-specific metadata like safety ratings in several different capacities.\n",
    "But the real content is in the `choices` field.\n",
    "Currently, the `choices` field only has one element containing the message returned by the LLM.\n",
    "Let's access the LLM's response:"
   ]
  },
  {
   "cell_type": "code",
   "execution_count": 8,
   "metadata": {
    "colab": {
     "base_uri": "https://localhost:8080/",
     "height": 180
    },
    "executionInfo": {
     "elapsed": 378,
     "status": "ok",
     "timestamp": 1729545070900,
     "user": {
      "displayName": "Mike Frantz",
      "userId": "08482506601269125384"
     },
     "user_tz": 420
    },
    "id": "7FIjwRtfufe9",
    "outputId": "c1ec88ac-8c9b-4610-ddd0-34209fcf752e"
   },
   "outputs": [
    {
     "data": {
      "text/html": [
       "<pre style=\"white-space:pre;overflow-x:auto;line-height:normal;font-family:Menlo,'DejaVu Sans Mono',consolas,'Courier New',monospace\">Okay, let's reverse the string <span style=\"color: #008000; text-decoration-color: #008000\">'abcde'</span> step by step.\n",
       "\n",
       "<span style=\"color: #008080; text-decoration-color: #008080; font-weight: bold\">1</span>.  **Identify the string:** We have the string <span style=\"color: #008000; text-decoration-color: #008000\">\"abcde\"</span>.\n",
       "<span style=\"color: #008080; text-decoration-color: #008080; font-weight: bold\">2</span>.  **Determine the length:** The string has <span style=\"color: #008080; text-decoration-color: #008080; font-weight: bold\">5</span> characters.\n",
       "<span style=\"color: #008080; text-decoration-color: #008080; font-weight: bold\">3</span>.  **Iterate and swap <span style=\"font-weight: bold\">(</span>or build a new string in reverse<span style=\"font-weight: bold\">)</span>:** There are a couple of ways to do this.  We could think\n",
       "about swapping characters from the outside in <span style=\"font-weight: bold\">(</span>a with e, then b with d, and c stays in the middle<span style=\"font-weight: bold\">)</span>. Alternatively, \n",
       "we can construct a new string by taking the last character first, then the second to last, and so on. Let's do it \n",
       "that way.\n",
       "\n",
       "    *   The last character <span style=\"color: #008000; text-decoration-color: #008000\">'e'</span> goes first.\n",
       "    *   Then the second to last character <span style=\"color: #008000; text-decoration-color: #008000\">'d'</span>.\n",
       "    *   Then <span style=\"color: #008000; text-decoration-color: #008000\">'c'</span>.\n",
       "    *   Then <span style=\"color: #008000; text-decoration-color: #008000\">'b'</span>.\n",
       "    *   Then <span style=\"color: #008000; text-decoration-color: #008000\">'a'</span>.\n",
       "\n",
       "<span style=\"color: #008080; text-decoration-color: #008080; font-weight: bold\">4</span>.  **Combine the characters:**  Combining these in the reversed order gives us <span style=\"color: #008000; text-decoration-color: #008000\">\"edcba\"</span>.\n",
       "\n",
       "So, the reversed string is <span style=\"color: #008000; text-decoration-color: #008000\">'edcba'</span>.\n",
       "\n",
       "</pre>\n"
      ],
      "text/plain": [
       "Okay, let's reverse the string \u001b[32m'abcde'\u001b[0m step by step.\n",
       "\n",
       "\u001b[1;36m1\u001b[0m.  **Identify the string:** We have the string \u001b[32m\"abcde\"\u001b[0m.\n",
       "\u001b[1;36m2\u001b[0m.  **Determine the length:** The string has \u001b[1;36m5\u001b[0m characters.\n",
       "\u001b[1;36m3\u001b[0m.  **Iterate and swap \u001b[1m(\u001b[0mor build a new string in reverse\u001b[1m)\u001b[0m:** There are a couple of ways to do this.  We could think\n",
       "about swapping characters from the outside in \u001b[1m(\u001b[0ma with e, then b with d, and c stays in the middle\u001b[1m)\u001b[0m. Alternatively, \n",
       "we can construct a new string by taking the last character first, then the second to last, and so on. Let's do it \n",
       "that way.\n",
       "\n",
       "    *   The last character \u001b[32m'e'\u001b[0m goes first.\n",
       "    *   Then the second to last character \u001b[32m'd'\u001b[0m.\n",
       "    *   Then \u001b[32m'c'\u001b[0m.\n",
       "    *   Then \u001b[32m'b'\u001b[0m.\n",
       "    *   Then \u001b[32m'a'\u001b[0m.\n",
       "\n",
       "\u001b[1;36m4\u001b[0m.  **Combine the characters:**  Combining these in the reversed order gives us \u001b[32m\"edcba\"\u001b[0m.\n",
       "\n",
       "So, the reversed string is \u001b[32m'edcba'\u001b[0m.\n",
       "\n"
      ]
     },
     "metadata": {},
     "output_type": "display_data"
    }
   ],
   "source": [
    "print(response.choices[0].message.content)"
   ]
  },
  {
   "cell_type": "markdown",
   "metadata": {
    "id": "st4sP6TQ4drQ"
   },
   "source": [
    "## Extending the chat history\n",
    "\n",
    "In a chat setting, we also want to persist the response so we can continue the chat.\n",
    "we can add it to the `messages` so we can ask a new question in the same dialog, assuming we want to create a message history."
   ]
  },
  {
   "cell_type": "code",
   "execution_count": 9,
   "metadata": {
    "colab": {
     "base_uri": "https://localhost:8080/",
     "height": 148
    },
    "executionInfo": {
     "elapsed": 407,
     "status": "ok",
     "timestamp": 1729545127786,
     "user": {
      "displayName": "Mike Frantz",
      "userId": "08482506601269125384"
     },
     "user_tz": 420
    },
    "id": "uaxmhLLA3Tyk",
    "outputId": "48b2f1a0-4ef8-4677-ee10-44e22c5ff239"
   },
   "outputs": [
    {
     "data": {
      "text/html": [
       "<pre style=\"white-space:pre;overflow-x:auto;line-height:normal;font-family:Menlo,'DejaVu Sans Mono',consolas,'Courier New',monospace\"><span style=\"font-weight: bold\">{</span>\n",
       "    <span style=\"color: #008000; text-decoration-color: #008000\">'content'</span>: <span style=\"color: #008000; text-decoration-color: #008000\">'Okay, let\\'s reverse the string \\'abcde\\' step by step.\\n\\n1.  **Identify the string:** We have the</span>\n",
       "<span style=\"color: #008000; text-decoration-color: #008000\">string \"abcde\".\\n2.  **Determine the length:** The string has 5 characters.\\n3.  **Iterate and swap (or build a new</span>\n",
       "<span style=\"color: #008000; text-decoration-color: #008000\">string in reverse):** There are a couple of ways to do this.  We could think about swapping characters from the </span>\n",
       "<span style=\"color: #008000; text-decoration-color: #008000\">outside in (a with e, then b with d, and c stays in the middle). Alternatively, we can construct a new string by </span>\n",
       "<span style=\"color: #008000; text-decoration-color: #008000\">taking the last character first, then the second to last, and so on. Let\\'s do it that way.\\n\\n    *   The last </span>\n",
       "<span style=\"color: #008000; text-decoration-color: #008000\">character \\'e\\' goes first.\\n    *   Then the second to last character \\'d\\'.\\n    *   Then \\'c\\'.\\n    *   Then </span>\n",
       "<span style=\"color: #008000; text-decoration-color: #008000\">\\'b\\'.\\n    *   Then \\'a\\'.\\n\\n4.  **Combine the characters:**  Combining these in the reversed order gives us </span>\n",
       "<span style=\"color: #008000; text-decoration-color: #008000\">\"edcba\".\\n\\nSo, the reversed string is \\'edcba\\'.\\n'</span>,\n",
       "    <span style=\"color: #008000; text-decoration-color: #008000\">'role'</span>: <span style=\"color: #008000; text-decoration-color: #008000\">'assistant'</span>,\n",
       "    <span style=\"color: #008000; text-decoration-color: #008000\">'tool_calls'</span>: <span style=\"color: #800080; text-decoration-color: #800080; font-style: italic\">None</span>,\n",
       "    <span style=\"color: #008000; text-decoration-color: #008000\">'function_call'</span>: <span style=\"color: #800080; text-decoration-color: #800080; font-style: italic\">None</span>\n",
       "<span style=\"font-weight: bold\">}</span>\n",
       "</pre>\n"
      ],
      "text/plain": [
       "\u001b[1m{\u001b[0m\n",
       "    \u001b[32m'content'\u001b[0m: \u001b[32m'Okay, let\\'s reverse the string \\'abcde\\' step by step.\\n\\n1.  **Identify the string:** We have the\u001b[0m\n",
       "\u001b[32mstring \"abcde\".\\n2.  **Determine the length:** The string has 5 characters.\\n3.  **Iterate and swap \u001b[0m\u001b[32m(\u001b[0m\u001b[32mor build a new\u001b[0m\n",
       "\u001b[32mstring in reverse\u001b[0m\u001b[32m)\u001b[0m\u001b[32m:** There are a couple of ways to do this.  We could think about swapping characters from the \u001b[0m\n",
       "\u001b[32moutside in \u001b[0m\u001b[32m(\u001b[0m\u001b[32ma with e, then b with d, and c stays in the middle\u001b[0m\u001b[32m)\u001b[0m\u001b[32m. Alternatively, we can construct a new string by \u001b[0m\n",
       "\u001b[32mtaking the last character first, then the second to last, and so on. Let\\'s do it that way.\\n\\n    *   The last \u001b[0m\n",
       "\u001b[32mcharacter \\'e\\' goes first.\\n    *   Then the second to last character \\'d\\'.\\n    *   Then \\'c\\'.\\n    *   Then \u001b[0m\n",
       "\u001b[32m\\'b\\'.\\n    *   Then \\'a\\'.\\n\\n4.  **Combine the characters:**  Combining these in the reversed order gives us \u001b[0m\n",
       "\u001b[32m\"edcba\".\\n\\nSo, the reversed string is \\'edcba\\'.\\n'\u001b[0m,\n",
       "    \u001b[32m'role'\u001b[0m: \u001b[32m'assistant'\u001b[0m,\n",
       "    \u001b[32m'tool_calls'\u001b[0m: \u001b[3;35mNone\u001b[0m,\n",
       "    \u001b[32m'function_call'\u001b[0m: \u001b[3;35mNone\u001b[0m\n",
       "\u001b[1m}\u001b[0m\n"
      ]
     },
     "metadata": {},
     "output_type": "display_data"
    }
   ],
   "source": [
    "assistant_message = response.choices[0].message.model_dump() # convert the last assistant message to a dictionary\n",
    "messages.append(assistant_message) # append to the messages\n",
    "print(assistant_message)"
   ]
  },
  {
   "cell_type": "markdown",
   "metadata": {
    "id": "9asE8Hwo4_iE"
   },
   "source": [
    "Since the whole history of messages is in-context and passed to the LLM, it can perform logical extensions of the original task as seen here:"
   ]
  },
  {
   "cell_type": "code",
   "execution_count": 10,
   "metadata": {
    "colab": {
     "base_uri": "https://localhost:8080/",
     "height": 180
    },
    "executionInfo": {
     "elapsed": 2526,
     "status": "ok",
     "timestamp": 1729545169468,
     "user": {
      "displayName": "Mike Frantz",
      "userId": "08482506601269125384"
     },
     "user_tz": 420
    },
    "id": "kC-BgGWY4yqm",
    "outputId": "eb4acfb6-69ad-4a73-a88c-05bf69a5657c"
   },
   "outputs": [
    {
     "data": {
      "text/html": [
       "<pre style=\"white-space:pre;overflow-x:auto;line-height:normal;font-family:Menlo,'DejaVu Sans Mono',consolas,'Courier New',monospace\">Okay, let's reverse <span style=\"color: #008000; text-decoration-color: #008000\">\"edcba\"</span> back to its original order. We'll follow the same process:\n",
       "\n",
       "<span style=\"color: #008080; text-decoration-color: #008080; font-weight: bold\">1</span>. **Identify the string:** We have the string <span style=\"color: #008000; text-decoration-color: #008000\">\"edcba\"</span>.\n",
       "<span style=\"color: #008080; text-decoration-color: #008080; font-weight: bold\">2</span>. **Determine the length:** The string has <span style=\"color: #008080; text-decoration-color: #008080; font-weight: bold\">5</span> characters.\n",
       "<span style=\"color: #008080; text-decoration-color: #008080; font-weight: bold\">3</span>. **Iterate and swap <span style=\"font-weight: bold\">(</span>or build a new string in reverse<span style=\"font-weight: bold\">)</span>:** Again, we'll construct a new string in reverse order.\n",
       "\n",
       "    * The last character <span style=\"color: #008000; text-decoration-color: #008000\">'a'</span> goes first.\n",
       "    * Then the second to last character <span style=\"color: #008000; text-decoration-color: #008000\">'b'</span>.\n",
       "    * Then <span style=\"color: #008000; text-decoration-color: #008000\">'c'</span>.\n",
       "    * Then <span style=\"color: #008000; text-decoration-color: #008000\">'d'</span>.\n",
       "    * Then <span style=\"color: #008000; text-decoration-color: #008000\">'e'</span>.\n",
       "\n",
       "<span style=\"color: #008080; text-decoration-color: #008080; font-weight: bold\">4</span>. **Combine the characters:** Combining these gives us <span style=\"color: #008000; text-decoration-color: #008000\">\"abcde\"</span>.\n",
       "\n",
       "So, the reversed string is <span style=\"color: #008000; text-decoration-color: #008000\">'abcde'</span>.\n",
       "\n",
       "</pre>\n"
      ],
      "text/plain": [
       "Okay, let's reverse \u001b[32m\"edcba\"\u001b[0m back to its original order. We'll follow the same process:\n",
       "\n",
       "\u001b[1;36m1\u001b[0m. **Identify the string:** We have the string \u001b[32m\"edcba\"\u001b[0m.\n",
       "\u001b[1;36m2\u001b[0m. **Determine the length:** The string has \u001b[1;36m5\u001b[0m characters.\n",
       "\u001b[1;36m3\u001b[0m. **Iterate and swap \u001b[1m(\u001b[0mor build a new string in reverse\u001b[1m)\u001b[0m:** Again, we'll construct a new string in reverse order.\n",
       "\n",
       "    * The last character \u001b[32m'a'\u001b[0m goes first.\n",
       "    * Then the second to last character \u001b[32m'b'\u001b[0m.\n",
       "    * Then \u001b[32m'c'\u001b[0m.\n",
       "    * Then \u001b[32m'd'\u001b[0m.\n",
       "    * Then \u001b[32m'e'\u001b[0m.\n",
       "\n",
       "\u001b[1;36m4\u001b[0m. **Combine the characters:** Combining these gives us \u001b[32m\"abcde\"\u001b[0m.\n",
       "\n",
       "So, the reversed string is \u001b[32m'abcde'\u001b[0m.\n",
       "\n"
      ]
     },
     "metadata": {},
     "output_type": "display_data"
    }
   ],
   "source": [
    "new_message = {'role': 'user', 'content': \"Now reverse it back to the same order.\"}\n",
    "messages.append(new_message)\n",
    "\n",
    "response = completion(model=GEMINI_MODEL, messages=messages)\n",
    "print(response.choices[0].message.content)"
   ]
  },
  {
   "cell_type": "markdown",
   "metadata": {
    "id": "FBbGkOByWfu1"
   },
   "source": [
    "## Streaming responses\n",
    "\n",
    "Another popular feature is streaming.\n",
    "Since we're generating 1 token at a time, the API can also return text as it's generated.\n",
    "This can be extra useful when you have long responses, and is nice in a user interface."
   ]
  },
  {
   "cell_type": "code",
   "execution_count": 11,
   "metadata": {
    "colab": {
     "base_uri": "https://localhost:8080/",
     "height": 246
    },
    "executionInfo": {
     "elapsed": 1644,
     "status": "ok",
     "timestamp": 1729545240637,
     "user": {
      "displayName": "Mike Frantz",
      "userId": "08482506601269125384"
     },
     "user_tz": 420
    },
    "id": "C_UubCeUWGec",
    "outputId": "68d56709-685f-401c-e210-103a9769ff61"
   },
   "outputs": [
    {
     "data": {
      "text/html": [
       "<pre style=\"white-space:pre;overflow-x:auto;line-height:normal;font-family:Menlo,'DejaVu Sans Mono',consolas,'Courier New',monospace\">Okay</pre>\n"
      ],
      "text/plain": [
       "Okay"
      ]
     },
     "metadata": {},
     "output_type": "display_data"
    },
    {
     "data": {
      "text/html": [
       "<pre style=\"white-space:pre;overflow-x:auto;line-height:normal;font-family:Menlo,'DejaVu Sans Mono',consolas,'Courier New',monospace\">, let</pre>\n"
      ],
      "text/plain": [
       ", let"
      ]
     },
     "metadata": {},
     "output_type": "display_data"
    },
    {
     "data": {
      "text/html": [
       "<pre style=\"white-space:pre;overflow-x:auto;line-height:normal;font-family:Menlo,'DejaVu Sans Mono',consolas,'Courier New',monospace\">'s reverse <span style=\"color: #008000; text-decoration-color: #008000\">\"edcba\"</span> back to its original order, again step by step</pre>\n"
      ],
      "text/plain": [
       "'s reverse \u001b[32m\"edcba\"\u001b[0m back to its original order, again step by step"
      ]
     },
     "metadata": {},
     "output_type": "display_data"
    },
    {
     "data": {
      "text/html": [
       "<pre style=\"white-space:pre;overflow-x:auto;line-height:normal;font-family:Menlo,'DejaVu Sans Mono',consolas,'Courier New',monospace\">:\n",
       "\n",
       "<span style=\"color: #008080; text-decoration-color: #008080; font-weight: bold\">1</span>. **Identify the string:** We now have the string <span style=\"color: #008000; text-decoration-color: #008000\">\"edcba\"</span>.</pre>\n"
      ],
      "text/plain": [
       ":\n",
       "\n",
       "\u001b[1;36m1\u001b[0m. **Identify the string:** We now have the string \u001b[32m\"edcba\"\u001b[0m."
      ]
     },
     "metadata": {},
     "output_type": "display_data"
    },
    {
     "data": {
      "text/html": [
       "<pre style=\"white-space:pre;overflow-x:auto;line-height:normal;font-family:Menlo,'DejaVu Sans Mono',consolas,'Courier New',monospace\">\n",
       "<span style=\"color: #008080; text-decoration-color: #008080; font-weight: bold\">2</span>. **Determine the length:** The string has <span style=\"color: #008080; text-decoration-color: #008080; font-weight: bold\">5</span> characters.\n",
       "<span style=\"color: #008080; text-decoration-color: #008080; font-weight: bold\">3</span>. **Iterate and swap <span style=\"font-weight: bold\">(</span>or build a new string in reverse<span style=\"font-weight: bold\">)</span>:</pre>\n"
      ],
      "text/plain": [
       "\n",
       "\u001b[1;36m2\u001b[0m. **Determine the length:** The string has \u001b[1;36m5\u001b[0m characters.\n",
       "\u001b[1;36m3\u001b[0m. **Iterate and swap \u001b[1m(\u001b[0mor build a new string in reverse\u001b[1m)\u001b[0m:"
      ]
     },
     "metadata": {},
     "output_type": "display_data"
    },
    {
     "data": {
      "text/html": [
       "<pre style=\"white-space:pre;overflow-x:auto;line-height:normal;font-family:Menlo,'DejaVu Sans Mono',consolas,'Courier New',monospace\">**  Let's use the same approach as before, building a new string by taking the characters in reverse order.\n",
       "\n",
       "    * The last character 'a</pre>\n"
      ],
      "text/plain": [
       "**  Let's use the same approach as before, building a new string by taking the characters in reverse order.\n",
       "\n",
       "    * The last character 'a"
      ]
     },
     "metadata": {},
     "output_type": "display_data"
    },
    {
     "data": {
      "text/html": [
       "<pre style=\"white-space:pre;overflow-x:auto;line-height:normal;font-family:Menlo,'DejaVu Sans Mono',consolas,'Courier New',monospace\">' goes first.\n",
       "    * Then the second to last character <span style=\"color: #008000; text-decoration-color: #008000\">'b'</span>.\n",
       "    * Then <span style=\"color: #008000; text-decoration-color: #008000\">'c'</span>.\n",
       "    * Then <span style=\"color: #008000; text-decoration-color: #008000\">'d'</span>.\n",
       "    * Then <span style=\"color: #008000; text-decoration-color: #008000\">'e'</span>.\n",
       "\n",
       "<span style=\"color: #008080; text-decoration-color: #008080; font-weight: bold\">4</span>. **Combine the characters:** Combining these in</pre>\n"
      ],
      "text/plain": [
       "' goes first.\n",
       "    * Then the second to last character \u001b[32m'b'\u001b[0m.\n",
       "    * Then \u001b[32m'c'\u001b[0m.\n",
       "    * Then \u001b[32m'd'\u001b[0m.\n",
       "    * Then \u001b[32m'e'\u001b[0m.\n",
       "\n",
       "\u001b[1;36m4\u001b[0m. **Combine the characters:** Combining these in"
      ]
     },
     "metadata": {},
     "output_type": "display_data"
    },
    {
     "data": {
      "text/html": [
       "<pre style=\"white-space:pre;overflow-x:auto;line-height:normal;font-family:Menlo,'DejaVu Sans Mono',consolas,'Courier New',monospace\"> the reversed order of the current string gives us <span style=\"color: #008000; text-decoration-color: #008000\">\"abcde\"</span>.\n",
       "\n",
       "So, the reversed string is <span style=\"color: #008000; text-decoration-color: #008000\">'abcde'</span>.\n",
       "</pre>\n"
      ],
      "text/plain": [
       " the reversed order of the current string gives us \u001b[32m\"abcde\"\u001b[0m.\n",
       "\n",
       "So, the reversed string is \u001b[32m'abcde'\u001b[0m.\n"
      ]
     },
     "metadata": {},
     "output_type": "display_data"
    },
    {
     "data": {
      "text/html": [
       "<pre style=\"white-space:pre;overflow-x:auto;line-height:normal;font-family:Menlo,'DejaVu Sans Mono',consolas,'Courier New',monospace\"><span style=\"color: #800080; text-decoration-color: #800080; font-style: italic\">None</span></pre>\n"
      ],
      "text/plain": [
       "\u001b[3;35mNone\u001b[0m"
      ]
     },
     "metadata": {},
     "output_type": "display_data"
    }
   ],
   "source": [
    "# streaming\n",
    "response = completion(model=GEMINI_MODEL, messages=messages, stream=True)\n",
    "for chunk in response:\n",
    "    print(chunk.choices[0].delta.content, end='')"
   ]
  },
  {
   "cell_type": "markdown",
   "metadata": {
    "id": "J57Bv03WW7MU"
   },
   "source": [
    "## Async responses\n",
    "\n",
    "When we make API calls to these models, the time it takes to make a request is relatively short but the inference time can be long.\n",
    "Calling these APIs asynchronously lets us do other things while we're waiting for a response.\n",
    "Without async, we are waiting for the first API call to be complete to begin making the second call.\n",
    "Using async, we can make all the calls and `await` responses as they come in.\n",
    "\n",
    "Here's an example of an async request 👇"
   ]
  },
  {
   "cell_type": "code",
   "execution_count": 12,
   "metadata": {
    "colab": {
     "base_uri": "https://localhost:8080/",
     "height": 180
    },
    "executionInfo": {
     "elapsed": 1957,
     "status": "ok",
     "timestamp": 1729545295112,
     "user": {
      "displayName": "Mike Frantz",
      "userId": "08482506601269125384"
     },
     "user_tz": 420
    },
    "id": "fv2crtB6W2wS",
    "outputId": "50cd128a-a8d0-433d-e4a1-8893b92c6458"
   },
   "outputs": [
    {
     "data": {
      "text/html": [
       "<pre style=\"white-space:pre;overflow-x:auto;line-height:normal;font-family:Menlo,'DejaVu Sans Mono',consolas,'Courier New',monospace\">Okay, let's reverse the string <span style=\"color: #008000; text-decoration-color: #008000\">\"edcba\"</span> back to its original order. We'll follow a similar process:\n",
       "\n",
       "<span style=\"color: #008080; text-decoration-color: #008080; font-weight: bold\">1</span>. **Identify the string:** We have the string <span style=\"color: #008000; text-decoration-color: #008000\">\"edcba\"</span>.\n",
       "<span style=\"color: #008080; text-decoration-color: #008080; font-weight: bold\">2</span>. **Determine the length:** The string has <span style=\"color: #008080; text-decoration-color: #008080; font-weight: bold\">5</span> characters.\n",
       "<span style=\"color: #008080; text-decoration-color: #008080; font-weight: bold\">3</span>. **Iterate and swap <span style=\"font-weight: bold\">(</span>or build a new string in reverse<span style=\"font-weight: bold\">)</span>:** Again, let's construct a new string in reverse order \n",
       "from the current string.\n",
       "\n",
       "    * The last character <span style=\"color: #008000; text-decoration-color: #008000\">'a'</span> goes first.\n",
       "    * Then the second to last character <span style=\"color: #008000; text-decoration-color: #008000\">'b'</span>.\n",
       "    * Then <span style=\"color: #008000; text-decoration-color: #008000\">'c'</span>.\n",
       "    * Then <span style=\"color: #008000; text-decoration-color: #008000\">'d'</span>.\n",
       "    * Then <span style=\"color: #008000; text-decoration-color: #008000\">'e'</span>.\n",
       "\n",
       "<span style=\"color: #008080; text-decoration-color: #008080; font-weight: bold\">4</span>. **Combine the characters:** Combining these in the reversed order of the current string gives us <span style=\"color: #008000; text-decoration-color: #008000\">\"abcde\"</span>.\n",
       "\n",
       "Therefore, reversing <span style=\"color: #008000; text-decoration-color: #008000\">\"edcba\"</span> gives us back <span style=\"color: #008000; text-decoration-color: #008000\">\"abcde\"</span>.\n",
       "\n",
       "</pre>\n"
      ],
      "text/plain": [
       "Okay, let's reverse the string \u001b[32m\"edcba\"\u001b[0m back to its original order. We'll follow a similar process:\n",
       "\n",
       "\u001b[1;36m1\u001b[0m. **Identify the string:** We have the string \u001b[32m\"edcba\"\u001b[0m.\n",
       "\u001b[1;36m2\u001b[0m. **Determine the length:** The string has \u001b[1;36m5\u001b[0m characters.\n",
       "\u001b[1;36m3\u001b[0m. **Iterate and swap \u001b[1m(\u001b[0mor build a new string in reverse\u001b[1m)\u001b[0m:** Again, let's construct a new string in reverse order \n",
       "from the current string.\n",
       "\n",
       "    * The last character \u001b[32m'a'\u001b[0m goes first.\n",
       "    * Then the second to last character \u001b[32m'b'\u001b[0m.\n",
       "    * Then \u001b[32m'c'\u001b[0m.\n",
       "    * Then \u001b[32m'd'\u001b[0m.\n",
       "    * Then \u001b[32m'e'\u001b[0m.\n",
       "\n",
       "\u001b[1;36m4\u001b[0m. **Combine the characters:** Combining these in the reversed order of the current string gives us \u001b[32m\"abcde\"\u001b[0m.\n",
       "\n",
       "Therefore, reversing \u001b[32m\"edcba\"\u001b[0m gives us back \u001b[32m\"abcde\"\u001b[0m.\n",
       "\n"
      ]
     },
     "metadata": {},
     "output_type": "display_data"
    }
   ],
   "source": [
    "# async\n",
    "response = await acompletion(model=GEMINI_MODEL, messages=messages)\n",
    "print(response.choices[0].message.content)"
   ]
  },
  {
   "cell_type": "markdown",
   "metadata": {
    "id": "iXRB_rGFYkkO"
   },
   "source": [
    "Now, let's demonstrate that we can make multiple simultaneous requests with async than we can with blocking requests."
   ]
  },
  {
   "cell_type": "code",
   "execution_count": 13,
   "metadata": {
    "colab": {
     "base_uri": "https://localhost:8080/",
     "height": 115
    },
    "executionInfo": {
     "elapsed": 8427,
     "status": "ok",
     "timestamp": 1729545327817,
     "user": {
      "displayName": "Mike Frantz",
      "userId": "08482506601269125384"
     },
     "user_tz": 420
    },
    "id": "5PYZ1bLnYw3m",
    "outputId": "843b5d6d-3ad5-4852-ee4b-2fccef084dbb"
   },
   "outputs": [
    {
     "data": {
      "text/html": [
       "<pre style=\"white-space:pre;overflow-x:auto;line-height:normal;font-family:Menlo,'DejaVu Sans Mono',consolas,'Courier New',monospace\">Making request <span style=\"color: #008080; text-decoration-color: #008080; font-weight: bold\">0</span>\n",
       "</pre>\n"
      ],
      "text/plain": [
       "Making request \u001b[1;36m0\u001b[0m\n"
      ]
     },
     "metadata": {},
     "output_type": "display_data"
    },
    {
     "data": {
      "text/html": [
       "<pre style=\"white-space:pre;overflow-x:auto;line-height:normal;font-family:Menlo,'DejaVu Sans Mono',consolas,'Courier New',monospace\">Making request <span style=\"color: #008080; text-decoration-color: #008080; font-weight: bold\">1</span>\n",
       "</pre>\n"
      ],
      "text/plain": [
       "Making request \u001b[1;36m1\u001b[0m\n"
      ]
     },
     "metadata": {},
     "output_type": "display_data"
    },
    {
     "data": {
      "text/html": [
       "<pre style=\"white-space:pre;overflow-x:auto;line-height:normal;font-family:Menlo,'DejaVu Sans Mono',consolas,'Courier New',monospace\">Making request <span style=\"color: #008080; text-decoration-color: #008080; font-weight: bold\">2</span>\n",
       "</pre>\n"
      ],
      "text/plain": [
       "Making request \u001b[1;36m2\u001b[0m\n"
      ]
     },
     "metadata": {},
     "output_type": "display_data"
    },
    {
     "data": {
      "text/html": [
       "<pre style=\"white-space:pre;overflow-x:auto;line-height:normal;font-family:Menlo,'DejaVu Sans Mono',consolas,'Courier New',monospace\">Making request <span style=\"color: #008080; text-decoration-color: #008080; font-weight: bold\">3</span>\n",
       "</pre>\n"
      ],
      "text/plain": [
       "Making request \u001b[1;36m3\u001b[0m\n"
      ]
     },
     "metadata": {},
     "output_type": "display_data"
    },
    {
     "data": {
      "text/html": [
       "<pre style=\"white-space:pre;overflow-x:auto;line-height:normal;font-family:Menlo,'DejaVu Sans Mono',consolas,'Courier New',monospace\">Making request <span style=\"color: #008080; text-decoration-color: #008080; font-weight: bold\">4</span>\n",
       "</pre>\n"
      ],
      "text/plain": [
       "Making request \u001b[1;36m4\u001b[0m\n"
      ]
     },
     "metadata": {},
     "output_type": "display_data"
    },
    {
     "data": {
      "text/html": [
       "<pre style=\"white-space:pre;overflow-x:auto;line-height:normal;font-family:Menlo,'DejaVu Sans Mono',consolas,'Courier New',monospace\">Total time: <span style=\"color: #008080; text-decoration-color: #008080; font-weight: bold\">8.750880002975464</span> seconds\n",
       "</pre>\n"
      ],
      "text/plain": [
       "Total time: \u001b[1;36m8.750880002975464\u001b[0m seconds\n"
      ]
     },
     "metadata": {},
     "output_type": "display_data"
    }
   ],
   "source": [
    "import time\n",
    "# With blocking requests\n",
    "start = time.time()\n",
    "for i in range(5):\n",
    "    print(f\"Making request {i}\")\n",
    "    response = completion(model=GEMINI_MODEL, messages=messages)\n",
    "total_seconds = time.time() - start\n",
    "print(f'Total time: {total_seconds} seconds')"
   ]
  },
  {
   "cell_type": "code",
   "execution_count": 14,
   "metadata": {
    "colab": {
     "base_uri": "https://localhost:8080/",
     "height": 115
    },
    "executionInfo": {
     "elapsed": 2395,
     "status": "ok",
     "timestamp": 1729545366496,
     "user": {
      "displayName": "Mike Frantz",
      "userId": "08482506601269125384"
     },
     "user_tz": 420
    },
    "id": "iL5btG25Y5h6",
    "outputId": "6d865bd9-afa1-4b79-8cb1-4188240afdd1"
   },
   "outputs": [
    {
     "data": {
      "text/html": [
       "<pre style=\"white-space:pre;overflow-x:auto;line-height:normal;font-family:Menlo,'DejaVu Sans Mono',consolas,'Courier New',monospace\">Making request <span style=\"color: #008080; text-decoration-color: #008080; font-weight: bold\">0</span>\n",
       "</pre>\n"
      ],
      "text/plain": [
       "Making request \u001b[1;36m0\u001b[0m\n"
      ]
     },
     "metadata": {},
     "output_type": "display_data"
    },
    {
     "data": {
      "text/html": [
       "<pre style=\"white-space:pre;overflow-x:auto;line-height:normal;font-family:Menlo,'DejaVu Sans Mono',consolas,'Courier New',monospace\">Making request <span style=\"color: #008080; text-decoration-color: #008080; font-weight: bold\">1</span>\n",
       "</pre>\n"
      ],
      "text/plain": [
       "Making request \u001b[1;36m1\u001b[0m\n"
      ]
     },
     "metadata": {},
     "output_type": "display_data"
    },
    {
     "data": {
      "text/html": [
       "<pre style=\"white-space:pre;overflow-x:auto;line-height:normal;font-family:Menlo,'DejaVu Sans Mono',consolas,'Courier New',monospace\">Making request <span style=\"color: #008080; text-decoration-color: #008080; font-weight: bold\">2</span>\n",
       "</pre>\n"
      ],
      "text/plain": [
       "Making request \u001b[1;36m2\u001b[0m\n"
      ]
     },
     "metadata": {},
     "output_type": "display_data"
    },
    {
     "data": {
      "text/html": [
       "<pre style=\"white-space:pre;overflow-x:auto;line-height:normal;font-family:Menlo,'DejaVu Sans Mono',consolas,'Courier New',monospace\">Making request <span style=\"color: #008080; text-decoration-color: #008080; font-weight: bold\">3</span>\n",
       "</pre>\n"
      ],
      "text/plain": [
       "Making request \u001b[1;36m3\u001b[0m\n"
      ]
     },
     "metadata": {},
     "output_type": "display_data"
    },
    {
     "data": {
      "text/html": [
       "<pre style=\"white-space:pre;overflow-x:auto;line-height:normal;font-family:Menlo,'DejaVu Sans Mono',consolas,'Courier New',monospace\">Making request <span style=\"color: #008080; text-decoration-color: #008080; font-weight: bold\">4</span>\n",
       "</pre>\n"
      ],
      "text/plain": [
       "Making request \u001b[1;36m4\u001b[0m\n"
      ]
     },
     "metadata": {},
     "output_type": "display_data"
    },
    {
     "data": {
      "text/html": [
       "<pre style=\"white-space:pre;overflow-x:auto;line-height:normal;font-family:Menlo,'DejaVu Sans Mono',consolas,'Courier New',monospace\">Total time: <span style=\"color: #008080; text-decoration-color: #008080; font-weight: bold\">1.6470861434936523</span> seconds\n",
       "</pre>\n"
      ],
      "text/plain": [
       "Total time: \u001b[1;36m1.6470861434936523\u001b[0m seconds\n"
      ]
     },
     "metadata": {},
     "output_type": "display_data"
    }
   ],
   "source": [
    "import asyncio\n",
    "async def _acomplete(model, messages, i):\n",
    "    print(f\"Making request {i}\")\n",
    "    response = await acompletion(model=model, messages=messages)\n",
    "    return response.choices[0].message.content\n",
    "\n",
    "start = time.time()\n",
    "tasks = [_acomplete(GEMINI_MODEL, messages, i) for i in range(5)]\n",
    "responses = await asyncio.gather(*tasks)\n",
    "total_seconds = time.time() - start\n",
    "print(f'Total time: {total_seconds} seconds')"
   ]
  },
  {
   "cell_type": "markdown",
   "metadata": {
    "id": "S2tqIr-S5Tm4"
   },
   "source": [
    "##  Exercise 1: Simple chatbot\n",
    "\n",
    "Plese refer to the `01_our_first_chatbot` directory in the root of the repository.\n",
    "In this exercise, you will complete the `chat` function in `chat.py` using the tools you learned in this notebook so far.\n",
    "Documentation on `gradio.ChatInterface` can be found [here](https://www.gradio.app/guides/creating-a-chatbot-fast).\n",
    "Follow this guide to make a chatbot.\n",
    "\n",
    "**Bonus**: figure out how to add a system prompt and stream resopnses."
   ]
  },
  {
   "cell_type": "markdown",
   "metadata": {
    "id": "ulxH8d6UatUx"
   },
   "source": [
    "# Generation hyperparameters\n",
    "\n",
    "Each model has different supported hyperparameters.\n",
    "Let's evaluate the hyperparameters here and get a good feeling for what they do.\n",
    "`litellm` has a handy function to tell us what parameters the model expects."
   ]
  },
  {
   "cell_type": "code",
   "execution_count": 15,
   "metadata": {
    "colab": {
     "base_uri": "https://localhost:8080/"
    },
    "executionInfo": {
     "elapsed": 304,
     "status": "ok",
     "timestamp": 1729546343319,
     "user": {
      "displayName": "Mike Frantz",
      "userId": "08482506601269125384"
     },
     "user_tz": 420
    },
    "id": "ZqBkbaHba9Pv",
    "outputId": "cb95e795-1ceb-400e-e361-512e4772e7b4"
   },
   "outputs": [
    {
     "data": {
      "text/plain": [
       "['temperature',\n",
       " 'top_p',\n",
       " 'max_tokens',\n",
       " 'max_completion_tokens',\n",
       " 'stream',\n",
       " 'tools',\n",
       " 'tool_choice',\n",
       " 'functions',\n",
       " 'response_format',\n",
       " 'n',\n",
       " 'stop',\n",
       " 'logprobs',\n",
       " 'frequency_penalty',\n",
       " 'modalities']"
      ]
     },
     "execution_count": 15,
     "metadata": {},
     "output_type": "execute_result"
    }
   ],
   "source": [
    "from litellm import get_supported_openai_params\n",
    "get_supported_openai_params(model=GEMINI_MODEL)"
   ]
  },
  {
   "cell_type": "markdown",
   "metadata": {
    "id": "X64EAcnCawtW"
   },
   "source": [
    "## `temperature`\n",
    "\n",
    "Let's recall that temperature alters the softmax function to skew the probability distribution of tokens during decoding.\n",
    "To illustrate, let's look at the interactive plot below 👇.\n",
    "We have a small probability distribution representing the top probabilities at a single decoding step.\n",
    "There are 5 tokens, `A`, `B`, `C`, `D`, and `E`, where `A` is the most probable with a score of 0.5 and `D` and `E` are at the bottom with a score of 0.05."
   ]
  },
  {
   "cell_type": "markdown",
   "metadata": {
    "id": "PxCRX4aiStox"
   },
   "source": [
    "## `softmax_with_temperature` visualization\n",
    "\n",
    "Please fill in the `softmax_with_temperature` function.\n",
    "Since we're not doing any backpropagation, let's use `numpy`.\n",
    "\n",
    "The softmax with temperature function is as follows:\n",
    "\n",
    "$\\text{softmax}(p, T) = \\frac{\\exp\\left(\\frac{\\log(p_i)}{T}\\right)}{\\sum_{j}\n",
    "\\exp\\left(\\frac{\\log(p_j)}{T}\\right)}$\n",
    "\n",
    "Where:\n",
    "- $p_i$  represents the original probability values.\n",
    "- $T$  is the temperature parameter.\n",
    "- $\\exp$  is the exponential function.\n",
    "\n",
    "Run the cell and play with the widget below.\n",
    "If temperature is smaller, how do you think that will affect text generation?\n",
    "What about when temperature is large?\n",
    "Most LLM providers cap temperature at 2.0.\n",
    "Why might you do this?"
   ]
  },
  {
   "cell_type": "code",
   "execution_count": 16,
   "metadata": {},
   "outputs": [
    {
     "data": {
      "application/vnd.jupyter.widget-view+json": {
       "model_id": "77b4cee6d9c74fd696721dc1f5e6e07b",
       "version_major": 2,
       "version_minor": 0
      },
      "text/plain": [
       "interactive(children=(FloatSlider(value=0.9, description='temperature', max=3.0, min=0.1), Output()), _dom_cla…"
      ]
     },
     "metadata": {},
     "output_type": "display_data"
    },
    {
     "data": {
      "text/plain": [
       "<function ctme.basics.plot_temperature.temperature_plot_distribution(probs: numpy.ndarray, temperature: float)>"
      ]
     },
     "execution_count": 16,
     "metadata": {},
     "output_type": "execute_result"
    }
   ],
   "source": [
    "from ctme.basics import temperature_plot_distribution\n",
    "import numpy as np\n",
    "from ipywidgets import interact, fixed, FloatSlider\n",
    "\n",
    "probs = fixed(np.array([0.5, 0.3, 0.1, 0.05, 0.05]))\n",
    "temperature=FloatSlider(value=0.9, min=.1, max=3)\n",
    "\n",
    "\n",
    "interact(temperature_plot_distribution, probs=probs, temperature=temperature)"
   ]
  },
  {
   "cell_type": "markdown",
   "metadata": {
    "id": "rnZpDQ9WUe8h"
   },
   "source": [
    "Now that we've got a good feeling for what `temperature` does to the probability distribution, let's examine some of the outputs.\n",
    "In addition to qualitatively observing the outputs, we will calculate the similarity between each pair of generations using `fuzzywuzzy`, a library that calculates similarity using levenshtein distance.\n",
    "Roughly, it's based on the number of characters we'd have to change to turn string 1 into string 2.\n",
    "100 is exact match, and 0 is no match.\n"
   ]
  },
  {
   "cell_type": "code",
   "execution_count": 17,
   "metadata": {},
   "outputs": [],
   "source": [
    "from thefuzz import fuzz"
   ]
  },
  {
   "cell_type": "code",
   "execution_count": 18,
   "metadata": {
    "colab": {
     "base_uri": "https://localhost:8080/"
    },
    "executionInfo": {
     "elapsed": 339,
     "status": "ok",
     "timestamp": 1729546566641,
     "user": {
      "displayName": "Mike Frantz",
      "userId": "08482506601269125384"
     },
     "user_tz": 420
    },
    "id": "Id-GuGWlWhVZ",
    "outputId": "c50d34ed-078c-4d3a-d237-e80d6998ffc7"
   },
   "outputs": [
    {
     "data": {
      "text/plain": [
       "(100, 50, 0)"
      ]
     },
     "execution_count": 18,
     "metadata": {},
     "output_type": "execute_result"
    }
   ],
   "source": [
    "# perfect match, 50% matc, 0 match\n",
    "fuzz.ratio('a', 'a'), fuzz.ratio('ab', 'bb'), fuzz.ratio('a', 'b')"
   ]
  },
  {
   "cell_type": "code",
   "execution_count": 19,
   "metadata": {
    "executionInfo": {
     "elapsed": 319,
     "status": "ok",
     "timestamp": 1729546570407,
     "user": {
      "displayName": "Mike Frantz",
      "userId": "08482506601269125384"
     },
     "user_tz": 420
    },
    "id": "S4LX3fCvcIcd"
   },
   "outputs": [],
   "source": [
    "messages = [\n",
    "    {'role': 'user', 'content': 'write a limerick about python'}\n",
    "]"
   ]
  },
  {
   "cell_type": "code",
   "execution_count": 20,
   "metadata": {},
   "outputs": [],
   "source": [
    "from itertools import combinations\n",
    "from thefuzz import fuzz"
   ]
  },
  {
   "cell_type": "code",
   "execution_count": 21,
   "metadata": {
    "colab": {
     "base_uri": "https://localhost:8080/",
     "height": 605
    },
    "executionInfo": {
     "elapsed": 1811,
     "status": "ok",
     "timestamp": 1729546689781,
     "user": {
      "displayName": "Mike Frantz",
      "userId": "08482506601269125384"
     },
     "user_tz": 420
    },
    "id": "r1kP4mDOba5N",
    "outputId": "a5003d59-2bb0-4913-ad7d-b56263115e35"
   },
   "outputs": [
    {
     "data": {
      "text/html": [
       "<pre style=\"white-space:pre;overflow-x:auto;line-height:normal;font-family:Menlo,'DejaVu Sans Mono',consolas,'Courier New',monospace\">Average text similarity <span style=\"font-weight: bold\">(</span>fuzz.ratio<span style=\"font-weight: bold\">)</span>: <span style=\"color: #008080; text-decoration-color: #008080; font-weight: bold\">100.0</span>\n",
       "</pre>\n"
      ],
      "text/plain": [
       "Average text similarity \u001b[1m(\u001b[0mfuzz.ratio\u001b[1m)\u001b[0m: \u001b[1;36m100.0\u001b[0m\n"
      ]
     },
     "metadata": {},
     "output_type": "display_data"
    },
    {
     "data": {
      "text/html": [
       "<pre style=\"white-space:pre;overflow-x:auto;line-height:normal;font-family:Menlo,'DejaVu Sans Mono',consolas,'Courier New',monospace\">A coder named Guido, so grand,\n",
       "Made Python, a language at hand.\n",
       "With syntax so neat,\n",
       "It can't be beat,\n",
       "A joy for the whole coding land.\n",
       "\n",
       "</pre>\n"
      ],
      "text/plain": [
       "A coder named Guido, so grand,\n",
       "Made Python, a language at hand.\n",
       "With syntax so neat,\n",
       "It can't be beat,\n",
       "A joy for the whole coding land.\n",
       "\n"
      ]
     },
     "metadata": {},
     "output_type": "display_data"
    },
    {
     "data": {
      "text/html": [
       "<pre style=\"white-space:pre;overflow-x:auto;line-height:normal;font-family:Menlo,'DejaVu Sans Mono',consolas,'Courier New',monospace\">========================================\n",
       "</pre>\n"
      ],
      "text/plain": [
       "========================================\n"
      ]
     },
     "metadata": {},
     "output_type": "display_data"
    },
    {
     "data": {
      "text/html": [
       "<pre style=\"white-space:pre;overflow-x:auto;line-height:normal;font-family:Menlo,'DejaVu Sans Mono',consolas,'Courier New',monospace\">A coder named Guido, so grand,\n",
       "Made Python, a language at hand.\n",
       "With syntax so neat,\n",
       "It can't be beat,\n",
       "A joy for the whole coding land.\n",
       "\n",
       "</pre>\n"
      ],
      "text/plain": [
       "A coder named Guido, so grand,\n",
       "Made Python, a language at hand.\n",
       "With syntax so neat,\n",
       "It can't be beat,\n",
       "A joy for the whole coding land.\n",
       "\n"
      ]
     },
     "metadata": {},
     "output_type": "display_data"
    },
    {
     "data": {
      "text/html": [
       "<pre style=\"white-space:pre;overflow-x:auto;line-height:normal;font-family:Menlo,'DejaVu Sans Mono',consolas,'Courier New',monospace\">========================================\n",
       "</pre>\n"
      ],
      "text/plain": [
       "========================================\n"
      ]
     },
     "metadata": {},
     "output_type": "display_data"
    },
    {
     "data": {
      "text/html": [
       "<pre style=\"white-space:pre;overflow-x:auto;line-height:normal;font-family:Menlo,'DejaVu Sans Mono',consolas,'Courier New',monospace\">A coder named Guido, so grand,\n",
       "Made Python, a language at hand.\n",
       "With syntax so neat,\n",
       "It can't be beat,\n",
       "A joy for the whole coding land.\n",
       "\n",
       "</pre>\n"
      ],
      "text/plain": [
       "A coder named Guido, so grand,\n",
       "Made Python, a language at hand.\n",
       "With syntax so neat,\n",
       "It can't be beat,\n",
       "A joy for the whole coding land.\n",
       "\n"
      ]
     },
     "metadata": {},
     "output_type": "display_data"
    },
    {
     "data": {
      "text/html": [
       "<pre style=\"white-space:pre;overflow-x:auto;line-height:normal;font-family:Menlo,'DejaVu Sans Mono',consolas,'Courier New',monospace\">========================================\n",
       "</pre>\n"
      ],
      "text/plain": [
       "========================================\n"
      ]
     },
     "metadata": {},
     "output_type": "display_data"
    },
    {
     "data": {
      "text/html": [
       "<pre style=\"white-space:pre;overflow-x:auto;line-height:normal;font-family:Menlo,'DejaVu Sans Mono',consolas,'Courier New',monospace\">A coder named Guido, so grand,\n",
       "Made Python, a language at hand.\n",
       "With syntax so neat,\n",
       "It can't be beat,\n",
       "A joy for the whole coding land.\n",
       "\n",
       "</pre>\n"
      ],
      "text/plain": [
       "A coder named Guido, so grand,\n",
       "Made Python, a language at hand.\n",
       "With syntax so neat,\n",
       "It can't be beat,\n",
       "A joy for the whole coding land.\n",
       "\n"
      ]
     },
     "metadata": {},
     "output_type": "display_data"
    },
    {
     "data": {
      "text/html": [
       "<pre style=\"white-space:pre;overflow-x:auto;line-height:normal;font-family:Menlo,'DejaVu Sans Mono',consolas,'Courier New',monospace\">========================================\n",
       "</pre>\n"
      ],
      "text/plain": [
       "========================================\n"
      ]
     },
     "metadata": {},
     "output_type": "display_data"
    },
    {
     "data": {
      "text/html": [
       "<pre style=\"white-space:pre;overflow-x:auto;line-height:normal;font-family:Menlo,'DejaVu Sans Mono',consolas,'Courier New',monospace\">A coder named Guido, so grand,\n",
       "Made Python, a language at hand.\n",
       "With syntax so neat,\n",
       "It can't be beat,\n",
       "A joy for the whole coding land.\n",
       "\n",
       "</pre>\n"
      ],
      "text/plain": [
       "A coder named Guido, so grand,\n",
       "Made Python, a language at hand.\n",
       "With syntax so neat,\n",
       "It can't be beat,\n",
       "A joy for the whole coding land.\n",
       "\n"
      ]
     },
     "metadata": {},
     "output_type": "display_data"
    },
    {
     "data": {
      "text/html": [
       "<pre style=\"white-space:pre;overflow-x:auto;line-height:normal;font-family:Menlo,'DejaVu Sans Mono',consolas,'Courier New',monospace\">========================================\n",
       "</pre>\n"
      ],
      "text/plain": [
       "========================================\n"
      ]
     },
     "metadata": {},
     "output_type": "display_data"
    }
   ],
   "source": [
    "contents = []\n",
    "for choice in completion(model=GEMINI_MODEL, messages=messages, temperature=0, n=5).choices:\n",
    "    content = choice.message.content\n",
    "    contents.append(content)\n",
    "combos = combinations(contents, 2)\n",
    "ratios = [fuzz.ratio(c1, c2) for c1, c2 in combos]\n",
    "print(f\"Average text similarity (fuzz.ratio): {np.mean(ratios)}\")\n",
    "for c in contents:\n",
    "    print(c)\n",
    "    print('='*40)"
   ]
  },
  {
   "cell_type": "code",
   "execution_count": 22,
   "metadata": {
    "colab": {
     "base_uri": "https://localhost:8080/",
     "height": 605
    },
    "executionInfo": {
     "elapsed": 1976,
     "status": "ok",
     "timestamp": 1729546727214,
     "user": {
      "displayName": "Mike Frantz",
      "userId": "08482506601269125384"
     },
     "user_tz": 420
    },
    "id": "ENoxOMcUbr_i",
    "outputId": "6893c750-fdfc-4753-aa47-025d2663245c"
   },
   "outputs": [
    {
     "data": {
      "text/html": [
       "<pre style=\"white-space:pre;overflow-x:auto;line-height:normal;font-family:Menlo,'DejaVu Sans Mono',consolas,'Courier New',monospace\">Average text similarity <span style=\"font-weight: bold\">(</span>fuzz.ratio<span style=\"font-weight: bold\">)</span>: <span style=\"color: #008080; text-decoration-color: #008080; font-weight: bold\">46.9</span>\n",
       "</pre>\n"
      ],
      "text/plain": [
       "Average text similarity \u001b[1m(\u001b[0mfuzz.ratio\u001b[1m)\u001b[0m: \u001b[1;36m46.9\u001b[0m\n"
      ]
     },
     "metadata": {},
     "output_type": "display_data"
    },
    {
     "data": {
      "text/html": [
       "<pre style=\"white-space:pre;overflow-x:auto;line-height:normal;font-family:Menlo,'DejaVu Sans Mono',consolas,'Courier New',monospace\">There once was a coder named Lou,\n",
       "Whose scripts were a beautiful hue.\n",
       "With Python he'd weave,\n",
       "Code that would cleave,\n",
       "Tasks finished before his code brewed!\n",
       "\n",
       "</pre>\n"
      ],
      "text/plain": [
       "There once was a coder named Lou,\n",
       "Whose scripts were a beautiful hue.\n",
       "With Python he'd weave,\n",
       "Code that would cleave,\n",
       "Tasks finished before his code brewed!\n",
       "\n"
      ]
     },
     "metadata": {},
     "output_type": "display_data"
    },
    {
     "data": {
      "text/html": [
       "<pre style=\"white-space:pre;overflow-x:auto;line-height:normal;font-family:Menlo,'DejaVu Sans Mono',consolas,'Courier New',monospace\">========================================\n",
       "</pre>\n"
      ],
      "text/plain": [
       "========================================\n"
      ]
     },
     "metadata": {},
     "output_type": "display_data"
    },
    {
     "data": {
      "text/html": [
       "<pre style=\"white-space:pre;overflow-x:auto;line-height:normal;font-family:Menlo,'DejaVu Sans Mono',consolas,'Courier New',monospace\">A coder named Stan, quite astute,\n",
       "Used Python for all he would do.\n",
       "With elegant grace,\n",
       "He'd fill up his space,\n",
       "And build programs that ran straight through.\n",
       "\n",
       "</pre>\n"
      ],
      "text/plain": [
       "A coder named Stan, quite astute,\n",
       "Used Python for all he would do.\n",
       "With elegant grace,\n",
       "He'd fill up his space,\n",
       "And build programs that ran straight through.\n",
       "\n"
      ]
     },
     "metadata": {},
     "output_type": "display_data"
    },
    {
     "data": {
      "text/html": [
       "<pre style=\"white-space:pre;overflow-x:auto;line-height:normal;font-family:Menlo,'DejaVu Sans Mono',consolas,'Courier New',monospace\">========================================\n",
       "</pre>\n"
      ],
      "text/plain": [
       "========================================\n"
      ]
     },
     "metadata": {},
     "output_type": "display_data"
    },
    {
     "data": {
      "text/html": [
       "<pre style=\"white-space:pre;overflow-x:auto;line-height:normal;font-family:Menlo,'DejaVu Sans Mono',consolas,'Courier New',monospace\">A coder named Guido, quite sly,\n",
       "Made Python, reaching for the sky.\n",
       "With syntax so neat,\n",
       "A coder's sweet treat,\n",
       "It helps dreams and ideas to fly!\n",
       "\n",
       "</pre>\n"
      ],
      "text/plain": [
       "A coder named Guido, quite sly,\n",
       "Made Python, reaching for the sky.\n",
       "With syntax so neat,\n",
       "A coder's sweet treat,\n",
       "It helps dreams and ideas to fly!\n",
       "\n"
      ]
     },
     "metadata": {},
     "output_type": "display_data"
    },
    {
     "data": {
      "text/html": [
       "<pre style=\"white-space:pre;overflow-x:auto;line-height:normal;font-family:Menlo,'DejaVu Sans Mono',consolas,'Courier New',monospace\">========================================\n",
       "</pre>\n"
      ],
      "text/plain": [
       "========================================\n"
      ]
     },
     "metadata": {},
     "output_type": "display_data"
    },
    {
     "data": {
      "text/html": [
       "<pre style=\"white-space:pre;overflow-x:auto;line-height:normal;font-family:Menlo,'DejaVu Sans Mono',consolas,'Courier New',monospace\">There once was a snake named Python,\n",
       "Whose code was quite easy to write on.\n",
       "With a loop and a function,\n",
       "And no punctuation,\n",
       "It could charm with its slithery bright on.\n",
       "\n",
       "</pre>\n"
      ],
      "text/plain": [
       "There once was a snake named Python,\n",
       "Whose code was quite easy to write on.\n",
       "With a loop and a function,\n",
       "And no punctuation,\n",
       "It could charm with its slithery bright on.\n",
       "\n"
      ]
     },
     "metadata": {},
     "output_type": "display_data"
    },
    {
     "data": {
      "text/html": [
       "<pre style=\"white-space:pre;overflow-x:auto;line-height:normal;font-family:Menlo,'DejaVu Sans Mono',consolas,'Courier New',monospace\">========================================\n",
       "</pre>\n"
      ],
      "text/plain": [
       "========================================\n"
      ]
     },
     "metadata": {},
     "output_type": "display_data"
    },
    {
     "data": {
      "text/html": [
       "<pre style=\"white-space:pre;overflow-x:auto;line-height:normal;font-family:Menlo,'DejaVu Sans Mono',consolas,'Courier New',monospace\">Young Guido, with foresight so keen,\n",
       "Made Python, a coding machine.\n",
       "With syntax so neat,\n",
       "It's a joy to repeat,\n",
       "And write scripts that are awfully mean.\n",
       "\n",
       "</pre>\n"
      ],
      "text/plain": [
       "Young Guido, with foresight so keen,\n",
       "Made Python, a coding machine.\n",
       "With syntax so neat,\n",
       "It's a joy to repeat,\n",
       "And write scripts that are awfully mean.\n",
       "\n"
      ]
     },
     "metadata": {},
     "output_type": "display_data"
    },
    {
     "data": {
      "text/html": [
       "<pre style=\"white-space:pre;overflow-x:auto;line-height:normal;font-family:Menlo,'DejaVu Sans Mono',consolas,'Courier New',monospace\">========================================\n",
       "</pre>\n"
      ],
      "text/plain": [
       "========================================\n"
      ]
     },
     "metadata": {},
     "output_type": "display_data"
    }
   ],
   "source": [
    "contents = []\n",
    "for choice in completion(model=GEMINI_MODEL, messages=messages, temperature=1.9, n=5).choices:\n",
    "    content = choice.message.content\n",
    "    contents.append(content)\n",
    "combos = combinations(contents, 2)\n",
    "ratios = [fuzz.ratio(c1, c2) for c1, c2 in combos]\n",
    "print(f\"Average text similarity (fuzz.ratio): {np.mean(ratios)}\")\n",
    "for c in contents:\n",
    "    print(c)\n",
    "    print('='*40)"
   ]
  },
  {
   "cell_type": "markdown",
   "metadata": {
    "id": "O8hP8SG8a3_-"
   },
   "source": [
    "## `top_p` (nucleus sampling)\n",
    "\n",
    "Let's re-visit top-p sampling.\n",
    "We definie the cumulative sum of the probabilitity distribution we want to allow for decoding.\n",
    "Let's formally define it:\n",
    "\n",
    "\n",
    "$\\text{Top-p sampling:} \\quad P(S) = \\{x_i \\mid \\sum_{x_j \\in S} P(x_j) \\geq p \\}$\n",
    "\n",
    "Where:\n",
    "\n",
    "- $P(x_i)$  is the probability of token  x_i .\n",
    "- $S$  is the set of selected tokens.\n",
    "- $p$  is the cumulative probability threshold (top-p value).\n",
    "\n",
    "In short, we take the set of all tokens such that the sum of the token probabilities is greater than or equal to the parameter $p$.\n",
    "Let's illustrate this in anoher widget.\n"
   ]
  },
  {
   "cell_type": "code",
   "execution_count": 23,
   "metadata": {},
   "outputs": [
    {
     "data": {
      "application/vnd.jupyter.widget-view+json": {
       "model_id": "8af32a490c0342a2a1a08dd2ab4cafd8",
       "version_major": 2,
       "version_minor": 0
      },
      "text/plain": [
       "interactive(children=(FloatSlider(value=0.46, description='p', max=1.0, min=0.01, step=0.05), Output()), _dom_…"
      ]
     },
     "metadata": {},
     "output_type": "display_data"
    },
    {
     "data": {
      "text/plain": [
       "<function ctme.basics.plot_top_p.top_p_plot_distribution(probs, p)>"
      ]
     },
     "execution_count": 23,
     "metadata": {},
     "output_type": "execute_result"
    }
   ],
   "source": [
    "from ctme.basics import top_p_plot_distribution\n",
    "\n",
    "# Define a small probability distribution (can simulate a language model's logits)\n",
    "probs = fixed(np.array([0.4, 0.2, 0.15, 0.1, 0.08, 0.05, 0.02]))\n",
    "\n",
    "interact(top_p_plot_distribution, probs=probs, p=(0.01, 1.0, 0.05))"
   ]
  },
  {
   "cell_type": "markdown",
   "metadata": {
    "id": "L4c7p2NZa6B7"
   },
   "source": [
    "## Relationship between `top_p` and sequence similarity\n",
    "\n",
    "Just like `temperature`, `top_p` is another lever to control how text is generated.\n",
    "Let's visualize how modulating `top_p` affects average similarity."
   ]
  },
  {
   "cell_type": "code",
   "execution_count": 24,
   "metadata": {},
   "outputs": [],
   "source": [
    "import pandas as pd\n",
    "import seaborn as sns"
   ]
  },
  {
   "cell_type": "code",
   "execution_count": 26,
   "metadata": {
    "colab": {
     "base_uri": "https://localhost:8080/",
     "height": 466
    },
    "executionInfo": {
     "elapsed": 15054,
     "status": "ok",
     "timestamp": 1729547005820,
     "user": {
      "displayName": "Mike Frantz",
      "userId": "08482506601269125384"
     },
     "user_tz": 420
    },
    "id": "MURTGbua1BMy",
    "outputId": "42893248-08e0-4dfe-9f7d-9fbf4a6696df"
   },
   "outputs": [
    {
     "data": {
      "text/plain": [
       "<Axes: xlabel='top_p', ylabel='ratio'>"
      ]
     },
     "execution_count": 26,
     "metadata": {},
     "output_type": "execute_result"
    },
    {
     "data": {
      "image/png": "[encoded data removed]",
      "text/plain": [
       "<Figure size 640x480 with 1 Axes>"
      ]
     },
     "metadata": {},
     "output_type": "display_data"
    }
   ],
   "source": [
    "results = []\n",
    "# Create a range of p values\n",
    "ps = np.arange(0.1,1.1,.1)\n",
    "# For each p...\n",
    "results = []\n",
    "for p in ps:\n",
    "    # Generate 5 choices at that top p\n",
    "    contents = []\n",
    "    for choice in completion(model=GEMINI_MODEL, messages=messages, top_p=p, n=5).choices:\n",
    "        content = choice.message.content\n",
    "        contents.append(content)\n",
    "    # Make combinations of each pair of contents\n",
    "    combos = combinations(contents, 2)\n",
    "    # Calculate the ratio of each of those combinations\n",
    "    ratios = [fuzz.ratio(c1, c2) for c1, c2 in combos]\n",
    "    for r in ratios:\n",
    "        results.append(dict(top_p=p, ratio=r))\n",
    "results = pd.DataFrame(results)\n",
    "\n",
    "sns.lineplot(x='top_p', y='ratio', data=results)"
   ]
  },
  {
   "cell_type": "markdown",
   "metadata": {
    "id": "dYOI0k9WbPbp"
   },
   "source": [
    "# Structured outputs\n",
    "\n",
    "Many times, we want to use LLMs as middleware in other systems.\n",
    "That means they may have to do things like extract structured data, populate parameters to API calls, etc.\n",
    "This is really hard to do with plain text LLM responses - you have to do lots of \"begging\" to get the LLM to output a consistent structure.\n",
    "\n",
    "For this next section, we're going to switch to OpenAI's API since it's much better than gemini at producing structured outputs.\n",
    "We will be using `gpt-4o-mini`.\n",
    "\n",
    "The most convenient way to declare what you want to return is with `pydantic` models.\n",
    "These are really useful because you can define exactly the values, formats, and types you expect back.\n",
    "As you can see in the `EventDetails` class below, we've specified all the information we want to know about an event.\n",
    "We can even describe complex objects, like lists or dicts of other objects."
   ]
  },
  {
   "cell_type": "code",
   "execution_count": 27,
   "metadata": {},
   "outputs": [],
   "source": [
    "from pydantic import BaseModel, Field\n",
    "from typing import List, Optional\n",
    "from datetime import date\n",
    "import json"
   ]
  },
  {
   "cell_type": "code",
   "execution_count": 28,
   "metadata": {
    "executionInfo": {
     "elapsed": 1738,
     "status": "ok",
     "timestamp": 1729547715861,
     "user": {
      "displayName": "Mike Frantz",
      "userId": "08482506601269125384"
     },
     "user_tz": 420
    },
    "id": "GeFElBvpbnww"
   },
   "outputs": [],
   "source": [
    "class EventDetails(BaseModel):\n",
    "    attendees: List[str] = Field(..., description=\"List of attendees\")\n",
    "    date: Optional[str] = Field(..., description=\"Date of the event, in the YYYY-MM-DD format\")\n",
    "    eventName: str = Field(..., description=\"Name of the event\")"
   ]
  },
  {
   "cell_type": "code",
   "execution_count": 29,
   "metadata": {
    "executionInfo": {
     "elapsed": 1295,
     "status": "ok",
     "timestamp": 1729547742919,
     "user": {
      "displayName": "Mike Frantz",
      "userId": "08482506601269125384"
     },
     "user_tz": 420
    },
    "id": "V2uhFO5Nb--A"
   },
   "outputs": [],
   "source": [
    "text = \"Jan and Peter are going to have dinner\"\n",
    "resp = completion(\n",
    "    model=GEMINI_MODEL,\n",
    "    messages=[\n",
    "        {'role': 'system', 'content': f\"Today's date is {date.today()}. Do not include any information not in the message.\"},\n",
    "        {\"role\": \"user\", \"content\": text}\n",
    "        ],\n",
    "    response_format=EventDetails)"
   ]
  },
  {
   "cell_type": "code",
   "execution_count": null,
   "metadata": {
    "colab": {
     "base_uri": "https://localhost:8080/",
     "height": 0
    },
    "executionInfo": {
     "elapsed": 3,
     "status": "ok",
     "timestamp": 1729547742919,
     "user": {
      "displayName": "Mike Frantz",
      "userId": "08482506601269125384"
     },
     "user_tz": 420
    },
    "id": "qctGF9iic-Fn",
    "outputId": "59749fb7-078d-4139-a072-f6e18fd5e480"
   },
   "outputs": [
    {
     "data": {
      "text/html": [
       "<pre style=\"white-space:pre;overflow-x:auto;line-height:normal;font-family:Menlo,'DejaVu Sans Mono',consolas,'Courier New',monospace\">Response text:\n",
       " <span style=\"font-weight: bold\">{</span>\n",
       "  <span style=\"color: #008000; text-decoration-color: #008000\">\"attendees\"</span>: <span style=\"font-weight: bold\">[</span><span style=\"color: #008000; text-decoration-color: #008000\">\"Jan\"</span>, <span style=\"color: #008000; text-decoration-color: #008000\">\"Peter\"</span><span style=\"font-weight: bold\">]</span>,\n",
       "  <span style=\"color: #008000; text-decoration-color: #008000\">\"date\"</span>: <span style=\"color: #008000; text-decoration-color: #008000\">\"2025-05-23\"</span>,\n",
       "  <span style=\"color: #008000; text-decoration-color: #008000\">\"eventName\"</span>: <span style=\"color: #008000; text-decoration-color: #008000\">\"Dinner\"</span>\n",
       "<span style=\"font-weight: bold\">}</span>\n",
       "</pre>\n"
      ],
      "text/plain": [
       "Response text:\n",
       " \u001b[1m{\u001b[0m\n",
       "  \u001b[32m\"attendees\"\u001b[0m: \u001b[1m[\u001b[0m\u001b[32m\"Jan\"\u001b[0m, \u001b[32m\"Peter\"\u001b[0m\u001b[1m]\u001b[0m,\n",
       "  \u001b[32m\"date\"\u001b[0m: \u001b[32m\"2025-05-23\"\u001b[0m,\n",
       "  \u001b[32m\"eventName\"\u001b[0m: \u001b[32m\"Dinner\"\u001b[0m\n",
       "\u001b[1m}\u001b[0m\n"
      ]
     },
     "metadata": {},
     "output_type": "display_data"
    },
    {
     "data": {
      "text/html": [
       "<pre style=\"white-space:pre;overflow-x:auto;line-height:normal;font-family:Menlo,'DejaVu Sans Mono',consolas,'Courier New',monospace\">Loaded JSON:\n",
       "<span style=\"font-weight: bold\">{</span><span style=\"color: #008000; text-decoration-color: #008000\">'attendees'</span>: <span style=\"font-weight: bold\">[</span><span style=\"color: #008000; text-decoration-color: #008000\">'Jan'</span>, <span style=\"color: #008000; text-decoration-color: #008000\">'Peter'</span><span style=\"font-weight: bold\">]</span>, <span style=\"color: #008000; text-decoration-color: #008000\">'date'</span>: <span style=\"color: #008000; text-decoration-color: #008000\">'2025-05-23'</span>, <span style=\"color: #008000; text-decoration-color: #008000\">'eventName'</span>: <span style=\"color: #008000; text-decoration-color: #008000\">'Dinner'</span><span style=\"font-weight: bold\">}</span>\n",
       "</pre>\n"
      ],
      "text/plain": [
       "Loaded JSON:\n",
       "\u001b[1m{\u001b[0m\u001b[32m'attendees'\u001b[0m: \u001b[1m[\u001b[0m\u001b[32m'Jan'\u001b[0m, \u001b[32m'Peter'\u001b[0m\u001b[1m]\u001b[0m, \u001b[32m'date'\u001b[0m: \u001b[32m'2025-05-23'\u001b[0m, \u001b[32m'eventName'\u001b[0m: \u001b[32m'Dinner'\u001b[0m\u001b[1m}\u001b[0m\n"
      ]
     },
     "metadata": {},
     "output_type": "display_data"
    },
    {
     "data": {
      "text/html": [
       "<pre style=\"white-space:pre;overflow-x:auto;line-height:normal;font-family:Menlo,'DejaVu Sans Mono',consolas,'Courier New',monospace\">Pydantic object:\n",
       "<span style=\"color: #800080; text-decoration-color: #800080; font-weight: bold\">EventDetails</span><span style=\"font-weight: bold\">(</span><span style=\"color: #808000; text-decoration-color: #808000\">attendees</span>=<span style=\"font-weight: bold\">[</span><span style=\"color: #008000; text-decoration-color: #008000\">'Jan'</span>, <span style=\"color: #008000; text-decoration-color: #008000\">'Peter'</span><span style=\"font-weight: bold\">]</span>, <span style=\"color: #808000; text-decoration-color: #808000\">date</span>=<span style=\"color: #008000; text-decoration-color: #008000\">'2025-05-23'</span>, <span style=\"color: #808000; text-decoration-color: #808000\">eventName</span>=<span style=\"color: #008000; text-decoration-color: #008000\">'Dinner'</span><span style=\"font-weight: bold\">)</span>\n",
       "</pre>\n"
      ],
      "text/plain": [
       "Pydantic object:\n",
       "\u001b[1;35mEventDetails\u001b[0m\u001b[1m(\u001b[0m\u001b[33mattendees\u001b[0m=\u001b[1m[\u001b[0m\u001b[32m'Jan'\u001b[0m, \u001b[32m'Peter'\u001b[0m\u001b[1m]\u001b[0m, \u001b[33mdate\u001b[0m=\u001b[32m'2025-05-23'\u001b[0m, \u001b[33meventName\u001b[0m=\u001b[32m'Dinner'\u001b[0m\u001b[1m)\u001b[0m\n"
      ]
     },
     "metadata": {},
     "output_type": "display_data"
    }
   ],
   "source": [
    "# Print the raw content from the response\n",
    "print(\"Response text:\\n\", c:=resp.choices[0].message.content)\n",
    "# Print the JSON content\n",
    "print(\"Loaded JSON:\", j:=json.loads(c))\n",
    "# Print the Pydantic object\n",
    "print(\"Pydantic object:\", o:=EventDetails.model_validate_json(c))"
   ]
  },
  {
   "cell_type": "markdown",
   "metadata": {
    "id": "3Ib4kKQToAOt"
   },
   "source": [
    "# Function calling"
   ]
  },
  {
   "cell_type": "code",
   "execution_count": 39,
   "metadata": {},
   "outputs": [],
   "source": [
    "import litellm"
   ]
  },
  {
   "cell_type": "code",
   "execution_count": 40,
   "metadata": {
    "colab": {
     "base_uri": "https://localhost:8080/",
     "height": 0
    },
    "executionInfo": {
     "elapsed": 4,
     "status": "ok",
     "timestamp": 1729547770910,
     "user": {
      "displayName": "Mike Frantz",
      "userId": "08482506601269125384"
     },
     "user_tz": 420
    },
    "id": "N-zmtwsiolTY",
    "outputId": "3850c1b9-0d2c-4fb5-83e6-3498542dadb9"
   },
   "outputs": [
    {
     "data": {
      "text/html": [
       "<pre style=\"white-space:pre;overflow-x:auto;line-height:normal;font-family:Menlo,'DejaVu Sans Mono',consolas,'Courier New',monospace\">gemini/gemini-<span style=\"color: #008080; text-decoration-color: #008080; font-weight: bold\">2.0</span>-flash supports function calling:  <span style=\"color: #00ff00; text-decoration-color: #00ff00; font-style: italic\">True</span>\n",
       "</pre>\n"
      ],
      "text/plain": [
       "gemini/gemini-\u001b[1;36m2.0\u001b[0m-flash supports function calling:  \u001b[3;92mTrue\u001b[0m\n"
      ]
     },
     "metadata": {},
     "output_type": "display_data"
    }
   ],
   "source": [
    "print(f\"{GEMINI_MODEL} supports function calling: \", litellm.supports_function_calling(model=GEMINI_MODEL))\n"
   ]
  },
  {
   "cell_type": "code",
   "execution_count": 41,
   "metadata": {},
   "outputs": [],
   "source": [
    "from typing import Union\n",
    "from datetime import timedelta\n",
    "import yfinance as yf\n",
    "from IPython.display import display, Markdown"
   ]
  },
  {
   "cell_type": "code",
   "execution_count": 43,
   "metadata": {
    "executionInfo": {
     "elapsed": 308,
     "status": "ok",
     "timestamp": 1729547820807,
     "user": {
      "displayName": "Mike Frantz",
      "userId": "08482506601269125384"
     },
     "user_tz": 420
    },
    "id": "bkuetfoVqBHb"
   },
   "outputs": [],
   "source": [
    "def get_stock_data(\n",
    "        symbols:Union[str, List[str]],\n",
    "        start_date:Optional[str]=str(date.today() - timedelta(days=7)),\n",
    "        end_date:Optional[str] = str(date.today())\n",
    "):\n",
    "    \"\"\"\n",
    "    Gets stock data using the yfinance package.\n",
    "\n",
    "    Args:\n",
    "        symbols (Union[str, List[str]]): Ticker symbol or list of ticker symbols\n",
    "        start_date (str): Earliest date to capture. Default is 7 days ago from today.\n",
    "        end_date (str): Latest date to capture. Default is today.\n",
    "    \"\"\"\n",
    "    result:pd.DataFrame = yf.download(symbols, start=start_date, end=end_date)\n",
    "    return result.to_markdown()"
   ]
  },
  {
   "cell_type": "code",
   "execution_count": 44,
   "metadata": {
    "colab": {
     "base_uri": "https://localhost:8080/",
     "height": 0
    },
    "executionInfo": {
     "elapsed": 314,
     "status": "ok",
     "timestamp": 1729547860561,
     "user": {
      "displayName": "Mike Frantz",
      "userId": "08482506601269125384"
     },
     "user_tz": 420
    },
    "id": "cv9sc-Z1rceF",
    "outputId": "31e3bd4e-a3dc-42d3-fb3a-5df043a4cb95"
   },
   "outputs": [
    {
     "name": "stdout",
     "output_type": "stream",
     "text": [
      "YF.download() has changed argument auto_adjust default to True\n"
     ]
    },
    {
     "name": "stderr",
     "output_type": "stream",
     "text": [
      "[*********************100%***********************]  1 of 1 completed\n"
     ]
    },
    {
     "data": {
      "text/markdown": [
       "| Date                |   ('Close', 'MSFT') |   ('High', 'MSFT') |   ('Low', 'MSFT') |   ('Open', 'MSFT') |   ('Volume', 'MSFT') |\n",
       "|:--------------------|--------------------:|-------------------:|------------------:|-------------------:|---------------------:|\n",
       "| 2025-05-16 00:00:00 |              454.27 |             454.36 |            448.73 |             452.05 |          2.38498e+07 |\n",
       "| 2025-05-19 00:00:00 |              458.87 |             459.59 |            450.8  |             450.88 |          2.13365e+07 |\n",
       "| 2025-05-20 00:00:00 |              458.17 |             458.34 |            454.32 |             455.59 |          1.54418e+07 |\n",
       "| 2025-05-21 00:00:00 |              452.57 |             457.78 |            451.81 |             454.57 |          1.92169e+07 |\n",
       "| 2025-05-22 00:00:00 |              454.86 |             460.25 |            453.9  |             454.95 |          1.79954e+07 |"
      ],
      "text/plain": [
       "<IPython.core.display.Markdown object>"
      ]
     },
     "metadata": {},
     "output_type": "display_data"
    }
   ],
   "source": [
    "display(Markdown(get_stock_data('MSFT')))"
   ]
  },
  {
   "cell_type": "code",
   "execution_count": 45,
   "metadata": {},
   "outputs": [
    {
     "data": {
      "text/html": [
       "<pre style=\"white-space:pre;overflow-x:auto;line-height:normal;font-family:Menlo,'DejaVu Sans Mono',consolas,'Courier New',monospace\"><span style=\"font-weight: bold\">[</span>\n",
       "    <span style=\"font-weight: bold\">{</span>\n",
       "        <span style=\"color: #008000; text-decoration-color: #008000\">'name'</span>: <span style=\"color: #008000; text-decoration-color: #008000\">'get_stock_data'</span>,\n",
       "        <span style=\"color: #008000; text-decoration-color: #008000\">'description'</span>: <span style=\"color: #008000; text-decoration-color: #008000\">'Gets stock data using the yfinance package.'</span>,\n",
       "        <span style=\"color: #008000; text-decoration-color: #008000\">'parameters'</span>: <span style=\"font-weight: bold\">{</span>\n",
       "            <span style=\"color: #008000; text-decoration-color: #008000\">'type'</span>: <span style=\"color: #008000; text-decoration-color: #008000\">'object'</span>,\n",
       "            <span style=\"color: #008000; text-decoration-color: #008000\">'properties'</span>: <span style=\"font-weight: bold\">{</span>\n",
       "                <span style=\"color: #008000; text-decoration-color: #008000\">'symbols'</span>: <span style=\"font-weight: bold\">{</span><span style=\"color: #008000; text-decoration-color: #008000\">'type'</span>: <span style=\"color: #008000; text-decoration-color: #008000\">'string'</span><span style=\"font-weight: bold\">}</span>,\n",
       "                <span style=\"color: #008000; text-decoration-color: #008000\">'start_date'</span>: <span style=\"font-weight: bold\">{</span><span style=\"color: #008000; text-decoration-color: #008000\">'type'</span>: <span style=\"color: #008000; text-decoration-color: #008000\">'string'</span><span style=\"font-weight: bold\">}</span>,\n",
       "                <span style=\"color: #008000; text-decoration-color: #008000\">'end_date'</span>: <span style=\"font-weight: bold\">{</span><span style=\"color: #008000; text-decoration-color: #008000\">'type'</span>: <span style=\"color: #008000; text-decoration-color: #008000\">'string'</span><span style=\"font-weight: bold\">}</span>\n",
       "            <span style=\"font-weight: bold\">}</span>,\n",
       "            <span style=\"color: #008000; text-decoration-color: #008000\">'required'</span>: <span style=\"font-weight: bold\">[</span><span style=\"color: #008000; text-decoration-color: #008000\">'symbols'</span><span style=\"font-weight: bold\">]</span>\n",
       "        <span style=\"font-weight: bold\">}</span>\n",
       "    <span style=\"font-weight: bold\">}</span>\n",
       "<span style=\"font-weight: bold\">]</span>\n",
       "</pre>\n"
      ],
      "text/plain": [
       "\u001b[1m[\u001b[0m\n",
       "    \u001b[1m{\u001b[0m\n",
       "        \u001b[32m'name'\u001b[0m: \u001b[32m'get_stock_data'\u001b[0m,\n",
       "        \u001b[32m'description'\u001b[0m: \u001b[32m'Gets stock data using the yfinance package.'\u001b[0m,\n",
       "        \u001b[32m'parameters'\u001b[0m: \u001b[1m{\u001b[0m\n",
       "            \u001b[32m'type'\u001b[0m: \u001b[32m'object'\u001b[0m,\n",
       "            \u001b[32m'properties'\u001b[0m: \u001b[1m{\u001b[0m\n",
       "                \u001b[32m'symbols'\u001b[0m: \u001b[1m{\u001b[0m\u001b[32m'type'\u001b[0m: \u001b[32m'string'\u001b[0m\u001b[1m}\u001b[0m,\n",
       "                \u001b[32m'start_date'\u001b[0m: \u001b[1m{\u001b[0m\u001b[32m'type'\u001b[0m: \u001b[32m'string'\u001b[0m\u001b[1m}\u001b[0m,\n",
       "                \u001b[32m'end_date'\u001b[0m: \u001b[1m{\u001b[0m\u001b[32m'type'\u001b[0m: \u001b[32m'string'\u001b[0m\u001b[1m}\u001b[0m\n",
       "            \u001b[1m}\u001b[0m,\n",
       "            \u001b[32m'required'\u001b[0m: \u001b[1m[\u001b[0m\u001b[32m'symbols'\u001b[0m\u001b[1m]\u001b[0m\n",
       "        \u001b[1m}\u001b[0m\n",
       "    \u001b[1m}\u001b[0m\n",
       "\u001b[1m]\u001b[0m\n"
      ]
     },
     "metadata": {},
     "output_type": "display_data"
    }
   ],
   "source": [
    "fn_json = litellm.utils.function_to_dict(get_stock_data)\n",
    "functions = [fn_json]\n",
    "print(functions)"
   ]
  },
  {
   "cell_type": "code",
   "execution_count": 46,
   "metadata": {
    "executionInfo": {
     "elapsed": 1368,
     "status": "ok",
     "timestamp": 1729548028224,
     "user": {
      "displayName": "Mike Frantz",
      "userId": "08482506601269125384"
     },
     "user_tz": 420
    },
    "id": "iMr0-8X6st9s"
   },
   "outputs": [],
   "source": [
    "messages = [{\"role\": \"user\", \"content\": f\"What's the most recent week's high and low for MSFT? Today's date is {date.today()}.\"}]\n",
    "resp = completion(\n",
    "    model=GEMINI_MODEL,\n",
    "    messages=messages,\n",
    "    tools=functions,\n",
    "    tool_choice='auto'\n",
    ")"
   ]
  },
  {
   "cell_type": "code",
   "execution_count": 47,
   "metadata": {
    "colab": {
     "base_uri": "https://localhost:8080/"
    },
    "executionInfo": {
     "elapsed": 2,
     "status": "ok",
     "timestamp": 1729548028224,
     "user": {
      "displayName": "Mike Frantz",
      "userId": "08482506601269125384"
     },
     "user_tz": 420
    },
    "id": "FvlW7YaEwYr1",
    "outputId": "cccac773-7b79-47a7-dc6d-c306bba6f455"
   },
   "outputs": [
    {
     "data": {
      "text/html": [
       "<pre style=\"white-space:pre;overflow-x:auto;line-height:normal;font-family:Menlo,'DejaVu Sans Mono',consolas,'Courier New',monospace\"><span style=\"color: #800080; text-decoration-color: #800080; font-weight: bold\">Message</span><span style=\"font-weight: bold\">(</span>\n",
       "    <span style=\"color: #808000; text-decoration-color: #808000\">content</span>=<span style=\"color: #800080; text-decoration-color: #800080; font-style: italic\">None</span>,\n",
       "    <span style=\"color: #808000; text-decoration-color: #808000\">role</span>=<span style=\"color: #008000; text-decoration-color: #008000\">'assistant'</span>,\n",
       "    <span style=\"color: #808000; text-decoration-color: #808000\">tool_calls</span>=<span style=\"font-weight: bold\">[</span>\n",
       "        <span style=\"color: #800080; text-decoration-color: #800080; font-weight: bold\">ChatCompletionMessageToolCall</span><span style=\"font-weight: bold\">(</span>\n",
       "            <span style=\"color: #808000; text-decoration-color: #808000\">index</span>=<span style=\"color: #008080; text-decoration-color: #008080; font-weight: bold\">0</span>,\n",
       "            <span style=\"color: #808000; text-decoration-color: #808000\">function</span>=<span style=\"color: #800080; text-decoration-color: #800080; font-weight: bold\">Function</span><span style=\"font-weight: bold\">(</span>\n",
       "                <span style=\"color: #808000; text-decoration-color: #808000\">arguments</span>=<span style=\"color: #008000; text-decoration-color: #008000\">'{\"start_date\": \"2025-05-16\", \"end_date\": \"2025-05-23\", \"symbols\": \"MSFT\"}'</span>,\n",
       "                <span style=\"color: #808000; text-decoration-color: #808000\">name</span>=<span style=\"color: #008000; text-decoration-color: #008000\">'get_stock_data'</span>\n",
       "            <span style=\"font-weight: bold\">)</span>,\n",
       "            <span style=\"color: #808000; text-decoration-color: #808000\">id</span>=<span style=\"color: #008000; text-decoration-color: #008000\">'call_240f8004-e41c-45f8-afa1-c989f9c884bf'</span>,\n",
       "            <span style=\"color: #808000; text-decoration-color: #808000\">type</span>=<span style=\"color: #008000; text-decoration-color: #008000\">'function'</span>\n",
       "        <span style=\"font-weight: bold\">)</span>\n",
       "    <span style=\"font-weight: bold\">]</span>,\n",
       "    <span style=\"color: #808000; text-decoration-color: #808000\">function_call</span>=<span style=\"color: #800080; text-decoration-color: #800080; font-style: italic\">None</span>,\n",
       "    <span style=\"color: #808000; text-decoration-color: #808000\">provider_specific_fields</span>=<span style=\"color: #800080; text-decoration-color: #800080; font-style: italic\">None</span>\n",
       "<span style=\"font-weight: bold\">)</span>\n",
       "</pre>\n"
      ],
      "text/plain": [
       "\u001b[1;35mMessage\u001b[0m\u001b[1m(\u001b[0m\n",
       "    \u001b[33mcontent\u001b[0m=\u001b[3;35mNone\u001b[0m,\n",
       "    \u001b[33mrole\u001b[0m=\u001b[32m'assistant'\u001b[0m,\n",
       "    \u001b[33mtool_calls\u001b[0m=\u001b[1m[\u001b[0m\n",
       "        \u001b[1;35mChatCompletionMessageToolCall\u001b[0m\u001b[1m(\u001b[0m\n",
       "            \u001b[33mindex\u001b[0m=\u001b[1;36m0\u001b[0m,\n",
       "            \u001b[33mfunction\u001b[0m=\u001b[1;35mFunction\u001b[0m\u001b[1m(\u001b[0m\n",
       "                \u001b[33marguments\u001b[0m=\u001b[32m'\u001b[0m\u001b[32m{\u001b[0m\u001b[32m\"start_date\": \"2025-05-16\", \"end_date\": \"2025-05-23\", \"symbols\": \"MSFT\"\u001b[0m\u001b[32m}\u001b[0m\u001b[32m'\u001b[0m,\n",
       "                \u001b[33mname\u001b[0m=\u001b[32m'get_stock_data'\u001b[0m\n",
       "            \u001b[1m)\u001b[0m,\n",
       "            \u001b[33mid\u001b[0m=\u001b[32m'call_240f8004-e41c-45f8-afa1-c989f9c884bf'\u001b[0m,\n",
       "            \u001b[33mtype\u001b[0m=\u001b[32m'function'\u001b[0m\n",
       "        \u001b[1m)\u001b[0m\n",
       "    \u001b[1m]\u001b[0m,\n",
       "    \u001b[33mfunction_call\u001b[0m=\u001b[3;35mNone\u001b[0m,\n",
       "    \u001b[33mprovider_specific_fields\u001b[0m=\u001b[3;35mNone\u001b[0m\n",
       "\u001b[1m)\u001b[0m\n"
      ]
     },
     "metadata": {},
     "output_type": "display_data"
    }
   ],
   "source": [
    "message = resp.choices[0].message\n",
    "print(message)"
   ]
  },
  {
   "cell_type": "code",
   "execution_count": 48,
   "metadata": {
    "colab": {
     "base_uri": "https://localhost:8080/"
    },
    "executionInfo": {
     "elapsed": 3,
     "status": "ok",
     "timestamp": 1729548029020,
     "user": {
      "displayName": "Mike Frantz",
      "userId": "08482506601269125384"
     },
     "user_tz": 420
    },
    "id": "z1zqM7RctLUm",
    "outputId": "bb8d2ea2-62f0-4de9-d7b9-5fd8bd8cac4e"
   },
   "outputs": [
    {
     "data": {
      "text/html": [
       "<pre style=\"white-space:pre;overflow-x:auto;line-height:normal;font-family:Menlo,'DejaVu Sans Mono',consolas,'Courier New',monospace\"><span style=\"color: #800080; text-decoration-color: #800080; font-weight: bold\">ChatCompletionMessageToolCall</span><span style=\"font-weight: bold\">(</span>\n",
       "    <span style=\"color: #808000; text-decoration-color: #808000\">index</span>=<span style=\"color: #008080; text-decoration-color: #008080; font-weight: bold\">0</span>,\n",
       "    <span style=\"color: #808000; text-decoration-color: #808000\">function</span>=<span style=\"color: #800080; text-decoration-color: #800080; font-weight: bold\">Function</span><span style=\"font-weight: bold\">(</span>\n",
       "        <span style=\"color: #808000; text-decoration-color: #808000\">arguments</span>=<span style=\"color: #008000; text-decoration-color: #008000\">'{\"start_date\": \"2025-05-16\", \"end_date\": \"2025-05-23\", \"symbols\": \"MSFT\"}'</span>,\n",
       "        <span style=\"color: #808000; text-decoration-color: #808000\">name</span>=<span style=\"color: #008000; text-decoration-color: #008000\">'get_stock_data'</span>\n",
       "    <span style=\"font-weight: bold\">)</span>,\n",
       "    <span style=\"color: #808000; text-decoration-color: #808000\">id</span>=<span style=\"color: #008000; text-decoration-color: #008000\">'call_240f8004-e41c-45f8-afa1-c989f9c884bf'</span>,\n",
       "    <span style=\"color: #808000; text-decoration-color: #808000\">type</span>=<span style=\"color: #008000; text-decoration-color: #008000\">'function'</span>\n",
       "<span style=\"font-weight: bold\">)</span>\n",
       "</pre>\n"
      ],
      "text/plain": [
       "\u001b[1;35mChatCompletionMessageToolCall\u001b[0m\u001b[1m(\u001b[0m\n",
       "    \u001b[33mindex\u001b[0m=\u001b[1;36m0\u001b[0m,\n",
       "    \u001b[33mfunction\u001b[0m=\u001b[1;35mFunction\u001b[0m\u001b[1m(\u001b[0m\n",
       "        \u001b[33marguments\u001b[0m=\u001b[32m'\u001b[0m\u001b[32m{\u001b[0m\u001b[32m\"start_date\": \"2025-05-16\", \"end_date\": \"2025-05-23\", \"symbols\": \"MSFT\"\u001b[0m\u001b[32m}\u001b[0m\u001b[32m'\u001b[0m,\n",
       "        \u001b[33mname\u001b[0m=\u001b[32m'get_stock_data'\u001b[0m\n",
       "    \u001b[1m)\u001b[0m,\n",
       "    \u001b[33mid\u001b[0m=\u001b[32m'call_240f8004-e41c-45f8-afa1-c989f9c884bf'\u001b[0m,\n",
       "    \u001b[33mtype\u001b[0m=\u001b[32m'function'\u001b[0m\n",
       "\u001b[1m)\u001b[0m\n"
      ]
     },
     "metadata": {},
     "output_type": "display_data"
    }
   ],
   "source": [
    "tool_call = message.tool_calls[0]\n",
    "print(tool_call)"
   ]
  },
  {
   "cell_type": "code",
   "execution_count": null,
   "metadata": {
    "colab": {
     "base_uri": "https://localhost:8080/",
     "height": 0
    },
    "executionInfo": {
     "elapsed": 412,
     "status": "ok",
     "timestamp": 1729548035769,
     "user": {
      "displayName": "Mike Frantz",
      "userId": "08482506601269125384"
     },
     "user_tz": 420
    },
    "id": "HxuoG3i5taF0",
    "outputId": "486e64e8-a4e9-4a4e-f248-f4d0e09a3a21"
   },
   "outputs": [
    {
     "name": "stderr",
     "output_type": "stream",
     "text": [
      "[*********************100%***********************]  1 of 1 completed\n"
     ]
    },
    {
     "data": {
      "text/markdown": [
       "| Date                |   ('Close', 'MSFT') |   ('High', 'MSFT') |   ('Low', 'MSFT') |   ('Open', 'MSFT') |   ('Volume', 'MSFT') |\n",
       "|:--------------------|--------------------:|-------------------:|------------------:|-------------------:|---------------------:|\n",
       "| 2025-05-16 00:00:00 |              454.27 |             454.36 |            448.73 |             452.05 |          2.38498e+07 |\n",
       "| 2025-05-19 00:00:00 |              458.87 |             459.59 |            450.8  |             450.88 |          2.13365e+07 |\n",
       "| 2025-05-20 00:00:00 |              458.17 |             458.34 |            454.32 |             455.59 |          1.54418e+07 |\n",
       "| 2025-05-21 00:00:00 |              452.57 |             457.78 |            451.81 |             454.57 |          1.92169e+07 |\n",
       "| 2025-05-22 00:00:00 |              454.86 |             460.25 |            453.9  |             454.95 |          1.79954e+07 |"
      ],
      "text/plain": [
       "<IPython.core.display.Markdown object>"
      ]
     },
     "metadata": {},
     "output_type": "display_data"
    }
   ],
   "source": [
    "# Get the function name\n",
    "func:str|None = tool_call.function.name\n",
    "# Get the function arguments\n",
    "args:str = json.loads(tool_call.function.arguments)\n",
    "output_str:str = eval(f\"{func}(**{args})\")\n",
    "display(Markdown(output_str))"
   ]
  },
  {
   "cell_type": "code",
   "execution_count": 51,
   "metadata": {
    "executionInfo": {
     "elapsed": 354,
     "status": "ok",
     "timestamp": 1729548082255,
     "user": {
      "displayName": "Mike Frantz",
      "userId": "08482506601269125384"
     },
     "user_tz": 420
    },
    "id": "chhfkQmCwOUC"
   },
   "outputs": [],
   "source": [
    "messages.append(message.model_dump())\n",
    "messages.append(\n",
    "    {\n",
    "        \"tool_call_id\": tool_call.id,\n",
    "        \"role\": \"tool\",\n",
    "        \"name\": func,\n",
    "        \"content\": output_str,\n",
    "    }\n",
    ")"
   ]
  },
  {
   "cell_type": "code",
   "execution_count": 52,
   "metadata": {
    "colab": {
     "base_uri": "https://localhost:8080/",
     "height": 0
    },
    "executionInfo": {
     "elapsed": 326,
     "status": "ok",
     "timestamp": 1729548083588,
     "user": {
      "displayName": "Mike Frantz",
      "userId": "08482506601269125384"
     },
     "user_tz": 420
    },
    "id": "R1YRle7owQOD",
    "outputId": "d13fd08e-8c7c-40db-d63f-643a5183238d"
   },
   "outputs": [
    {
     "data": {
      "text/html": [
       "<pre style=\"white-space:pre;overflow-x:auto;line-height:normal;font-family:Menlo,'DejaVu Sans Mono',consolas,'Courier New',monospace\"><span style=\"font-weight: bold\">[</span>\n",
       "    <span style=\"font-weight: bold\">{</span>\n",
       "        <span style=\"color: #008000; text-decoration-color: #008000\">'role'</span>: <span style=\"color: #008000; text-decoration-color: #008000\">'user'</span>,\n",
       "        <span style=\"color: #008000; text-decoration-color: #008000\">'content'</span>: <span style=\"color: #008000; text-decoration-color: #008000\">\"What's the most recent week's high and low for MSFT? Today's date is 2025-05-23.\"</span>\n",
       "    <span style=\"font-weight: bold\">}</span>,\n",
       "    <span style=\"font-weight: bold\">{</span>\n",
       "        <span style=\"color: #008000; text-decoration-color: #008000\">'content'</span>: <span style=\"color: #800080; text-decoration-color: #800080; font-style: italic\">None</span>,\n",
       "        <span style=\"color: #008000; text-decoration-color: #008000\">'role'</span>: <span style=\"color: #008000; text-decoration-color: #008000\">'assistant'</span>,\n",
       "        <span style=\"color: #008000; text-decoration-color: #008000\">'tool_calls'</span>: <span style=\"font-weight: bold\">[</span>\n",
       "            <span style=\"font-weight: bold\">{</span>\n",
       "                <span style=\"color: #008000; text-decoration-color: #008000\">'index'</span>: <span style=\"color: #008080; text-decoration-color: #008080; font-weight: bold\">0</span>,\n",
       "                <span style=\"color: #008000; text-decoration-color: #008000\">'function'</span>: <span style=\"font-weight: bold\">{</span>\n",
       "                    <span style=\"color: #008000; text-decoration-color: #008000\">'arguments'</span>: <span style=\"color: #008000; text-decoration-color: #008000\">'{\"start_date\": \"2025-05-16\", \"end_date\": \"2025-05-23\", \"symbols\": \"MSFT\"}'</span>,\n",
       "                    <span style=\"color: #008000; text-decoration-color: #008000\">'name'</span>: <span style=\"color: #008000; text-decoration-color: #008000\">'get_stock_data'</span>\n",
       "                <span style=\"font-weight: bold\">}</span>,\n",
       "                <span style=\"color: #008000; text-decoration-color: #008000\">'id'</span>: <span style=\"color: #008000; text-decoration-color: #008000\">'call_240f8004-e41c-45f8-afa1-c989f9c884bf'</span>,\n",
       "                <span style=\"color: #008000; text-decoration-color: #008000\">'type'</span>: <span style=\"color: #008000; text-decoration-color: #008000\">'function'</span>\n",
       "            <span style=\"font-weight: bold\">}</span>\n",
       "        <span style=\"font-weight: bold\">]</span>,\n",
       "        <span style=\"color: #008000; text-decoration-color: #008000\">'function_call'</span>: <span style=\"color: #800080; text-decoration-color: #800080; font-style: italic\">None</span>\n",
       "    <span style=\"font-weight: bold\">}</span>,\n",
       "    <span style=\"font-weight: bold\">{</span>\n",
       "        <span style=\"color: #008000; text-decoration-color: #008000\">'tool_call_id'</span>: <span style=\"color: #008000; text-decoration-color: #008000\">'call_240f8004-e41c-45f8-afa1-c989f9c884bf'</span>,\n",
       "        <span style=\"color: #008000; text-decoration-color: #008000\">'role'</span>: <span style=\"color: #008000; text-decoration-color: #008000\">'tool'</span>,\n",
       "        <span style=\"color: #008000; text-decoration-color: #008000\">'name'</span>: <span style=\"color: #008000; text-decoration-color: #008000\">'get_stock_data'</span>,\n",
       "        <span style=\"color: #008000; text-decoration-color: #008000\">'content'</span>: <span style=\"color: #008000; text-decoration-color: #008000\">\"| Date                |   ('Close', 'MSFT') |   ('High', 'MSFT') |   ('Low', 'MSFT') |   </span>\n",
       "<span style=\"color: #008000; text-decoration-color: #008000\">('Open', 'MSFT') |   ('Volume', 'MSFT') </span>\n",
       "<span style=\"color: #008000; text-decoration-color: #008000\">|\\n|:--------------------|--------------------:|-------------------:|------------------:|-------------------:|-----</span>\n",
       "<span style=\"color: #008000; text-decoration-color: #008000\">----------------:|\\n| 2025-05-16 00:00:00 |              454.27 |             454.36 |            448.73 |         </span>\n",
       "<span style=\"color: #008000; text-decoration-color: #008000\">452.05 |          2.38498e+07 |\\n| 2025-05-19 00:00:00 |              458.87 |             459.59 |            </span>\n",
       "<span style=\"color: #008000; text-decoration-color: #008000\">450.8  |             450.88 |          2.13365e+07 |\\n| 2025-05-20 00:00:00 |              458.17 |             </span>\n",
       "<span style=\"color: #008000; text-decoration-color: #008000\">458.34 |            454.32 |             455.59 |          1.54418e+07 |\\n| 2025-05-21 00:00:00 |              </span>\n",
       "<span style=\"color: #008000; text-decoration-color: #008000\">452.57 |             457.78 |            451.81 |             454.57 |          1.92169e+07 |\\n| 2025-05-22 </span>\n",
       "<span style=\"color: #008000; text-decoration-color: #008000\">00:00:00 |              454.86 |             460.25 |            453.9  |             454.95 |          1.79954e+07</span>\n",
       "<span style=\"color: #008000; text-decoration-color: #008000\">|\"</span>\n",
       "    <span style=\"font-weight: bold\">}</span>\n",
       "<span style=\"font-weight: bold\">]</span>\n",
       "</pre>\n"
      ],
      "text/plain": [
       "\u001b[1m[\u001b[0m\n",
       "    \u001b[1m{\u001b[0m\n",
       "        \u001b[32m'role'\u001b[0m: \u001b[32m'user'\u001b[0m,\n",
       "        \u001b[32m'content'\u001b[0m: \u001b[32m\"What's the most recent week's high and low for MSFT? Today's date is 2025-05-23.\"\u001b[0m\n",
       "    \u001b[1m}\u001b[0m,\n",
       "    \u001b[1m{\u001b[0m\n",
       "        \u001b[32m'content'\u001b[0m: \u001b[3;35mNone\u001b[0m,\n",
       "        \u001b[32m'role'\u001b[0m: \u001b[32m'assistant'\u001b[0m,\n",
       "        \u001b[32m'tool_calls'\u001b[0m: \u001b[1m[\u001b[0m\n",
       "            \u001b[1m{\u001b[0m\n",
       "                \u001b[32m'index'\u001b[0m: \u001b[1;36m0\u001b[0m,\n",
       "                \u001b[32m'function'\u001b[0m: \u001b[1m{\u001b[0m\n",
       "                    \u001b[32m'arguments'\u001b[0m: \u001b[32m'\u001b[0m\u001b[32m{\u001b[0m\u001b[32m\"start_date\": \"2025-05-16\", \"end_date\": \"2025-05-23\", \"symbols\": \"MSFT\"\u001b[0m\u001b[32m}\u001b[0m\u001b[32m'\u001b[0m,\n",
       "                    \u001b[32m'name'\u001b[0m: \u001b[32m'get_stock_data'\u001b[0m\n",
       "                \u001b[1m}\u001b[0m,\n",
       "                \u001b[32m'id'\u001b[0m: \u001b[32m'call_240f8004-e41c-45f8-afa1-c989f9c884bf'\u001b[0m,\n",
       "                \u001b[32m'type'\u001b[0m: \u001b[32m'function'\u001b[0m\n",
       "            \u001b[1m}\u001b[0m\n",
       "        \u001b[1m]\u001b[0m,\n",
       "        \u001b[32m'function_call'\u001b[0m: \u001b[3;35mNone\u001b[0m\n",
       "    \u001b[1m}\u001b[0m,\n",
       "    \u001b[1m{\u001b[0m\n",
       "        \u001b[32m'tool_call_id'\u001b[0m: \u001b[32m'call_240f8004-e41c-45f8-afa1-c989f9c884bf'\u001b[0m,\n",
       "        \u001b[32m'role'\u001b[0m: \u001b[32m'tool'\u001b[0m,\n",
       "        \u001b[32m'name'\u001b[0m: \u001b[32m'get_stock_data'\u001b[0m,\n",
       "        \u001b[32m'content'\u001b[0m: \u001b[32m\"| Date                |   \u001b[0m\u001b[32m(\u001b[0m\u001b[32m'Close', 'MSFT'\u001b[0m\u001b[32m)\u001b[0m\u001b[32m |   \u001b[0m\u001b[32m(\u001b[0m\u001b[32m'High', 'MSFT'\u001b[0m\u001b[32m)\u001b[0m\u001b[32m |   \u001b[0m\u001b[32m(\u001b[0m\u001b[32m'Low', 'MSFT'\u001b[0m\u001b[32m)\u001b[0m\u001b[32m |   \u001b[0m\n",
       "\u001b[32m(\u001b[0m\u001b[32m'Open', 'MSFT'\u001b[0m\u001b[32m)\u001b[0m\u001b[32m |   \u001b[0m\u001b[32m(\u001b[0m\u001b[32m'Volume', 'MSFT'\u001b[0m\u001b[32m)\u001b[0m\u001b[32m \u001b[0m\n",
       "\u001b[32m|\\n|:--------------------|--------------------:|-------------------:|------------------:|-------------------:|-----\u001b[0m\n",
       "\u001b[32m----------------:|\\n| 2025-05-16 00:00:00 |              454.27 |             454.36 |            448.73 |         \u001b[0m\n",
       "\u001b[32m452.05 |          2.38498e+07 |\\n| 2025-05-19 00:00:00 |              458.87 |             459.59 |            \u001b[0m\n",
       "\u001b[32m450.8  |             450.88 |          2.13365e+07 |\\n| 2025-05-20 00:00:00 |              458.17 |             \u001b[0m\n",
       "\u001b[32m458.34 |            454.32 |             455.59 |          1.54418e+07 |\\n| 2025-05-21 00:00:00 |              \u001b[0m\n",
       "\u001b[32m452.57 |             457.78 |            451.81 |             454.57 |          1.92169e+07 |\\n| 2025-05-22 \u001b[0m\n",
       "\u001b[32m00:00:00 |              454.86 |             460.25 |            453.9  |             454.95 |          1.79954e+07\u001b[0m\n",
       "\u001b[32m|\"\u001b[0m\n",
       "    \u001b[1m}\u001b[0m\n",
       "\u001b[1m]\u001b[0m\n"
      ]
     },
     "metadata": {},
     "output_type": "display_data"
    }
   ],
   "source": [
    "print(messages)"
   ]
  },
  {
   "cell_type": "code",
   "execution_count": 53,
   "metadata": {
    "executionInfo": {
     "elapsed": 1626,
     "status": "ok",
     "timestamp": 1729548105228,
     "user": {
      "displayName": "Mike Frantz",
      "userId": "08482506601269125384"
     },
     "user_tz": 420
    },
    "id": "m-f5B2xPtq_z"
   },
   "outputs": [],
   "source": [
    "resp = completion(\n",
    "    model=GEMINI_MODEL,\n",
    "    messages=messages\n",
    ")"
   ]
  },
  {
   "cell_type": "code",
   "execution_count": 54,
   "metadata": {
    "colab": {
     "base_uri": "https://localhost:8080/",
     "height": 0
    },
    "executionInfo": {
     "elapsed": 393,
     "status": "ok",
     "timestamp": 1729548107550,
     "user": {
      "displayName": "Mike Frantz",
      "userId": "08482506601269125384"
     },
     "user_tz": 420
    },
    "id": "l_b6H36muXug",
    "outputId": "63164737-4365-4418-b6b4-7fcba32ceeba"
   },
   "outputs": [
    {
     "data": {
      "text/html": [
       "<pre style=\"white-space:pre;overflow-x:auto;line-height:normal;font-family:Menlo,'DejaVu Sans Mono',consolas,'Courier New',monospace\">The most recent week's <span style=\"font-weight: bold\">(</span><span style=\"color: #008080; text-decoration-color: #008080; font-weight: bold\">2025</span>-<span style=\"color: #008080; text-decoration-color: #008080; font-weight: bold\">05</span>-<span style=\"color: #008080; text-decoration-color: #008080; font-weight: bold\">16</span> to <span style=\"color: #008080; text-decoration-color: #008080; font-weight: bold\">2025</span>-<span style=\"color: #008080; text-decoration-color: #008080; font-weight: bold\">05</span>-<span style=\"color: #008080; text-decoration-color: #008080; font-weight: bold\">22</span><span style=\"font-weight: bold\">)</span> high for MSFT was <span style=\"color: #008080; text-decoration-color: #008080; font-weight: bold\">460.25</span> and the low was <span style=\"color: #008080; text-decoration-color: #008080; font-weight: bold\">448.73</span>.\n",
       "</pre>\n"
      ],
      "text/plain": [
       "The most recent week's \u001b[1m(\u001b[0m\u001b[1;36m2025\u001b[0m-\u001b[1;36m05\u001b[0m-\u001b[1;36m16\u001b[0m to \u001b[1;36m2025\u001b[0m-\u001b[1;36m05\u001b[0m-\u001b[1;36m22\u001b[0m\u001b[1m)\u001b[0m high for MSFT was \u001b[1;36m460.25\u001b[0m and the low was \u001b[1;36m448.73\u001b[0m.\n"
      ]
     },
     "metadata": {},
     "output_type": "display_data"
    }
   ],
   "source": [
    "print(resp.choices[0].message.content)"
   ]
  },
  {
   "cell_type": "code",
   "execution_count": null,
   "metadata": {},
   "outputs": [],
   "source": []
  },
  {
   "cell_type": "code",
   "execution_count": null,
   "metadata": {},
   "outputs": [],
   "source": [
    "# ...existing code...\n",
    "env_path = get_root_dotenv(load=True)\n",
    "\n",
    "expected_variables = [\n",
    "    \"GEMINI_API_KEY\",\n",
    "    \"OPENROUTER_API_KEY\"\n",
    "]\n",
    "\n",
    "missing = [e for e in expected_variables if not os.getenv(e)]\n",
    "if len(missing) == len(expected_variables):\n",
    "    raise EnvironmentError(f\"Missing required environment variable(s): {missing}. At least one of {expected_variables} must be set.\")\n",
    "# ...existing code..."
   ]
  }
 ],
 "metadata": {
  "colab": {
   "authorship_tag": "ABX9TyMzD9BqrauolQagFxGMltfD",
   "collapsed_sections": [
    "dYOI0k9WbPbp",
    "3Ib4kKQToAOt",
    "iGEhm_kUTYxR"
   ],
   "mount_file_id": "1hFroQXIb_0cs2AaJjkHg_caJWtItHGVL",
   "provenance": [],
   "toc_visible": true
  },
  "kernelspec": {
   "display_name": ".venv",
   "language": "python",
   "name": "python3"
  },
  "language_info": {
   "codemirror_mode": {
    "name": "ipython",
    "version": 3
   },
   "file_extension": ".py",
   "mimetype": "text/x-python",
   "name": "python",
   "nbconvert_exporter": "python",
   "pygments_lexer": "ipython3",
   "version": "3.12.7"
  },
  "widgets": {
   "application/vnd.jupyter.widget-state+json": {
    "26cb4e59ae2940a29e1a67066b018dcc": {
     "model_module": "@jupyter-widgets/controls",
     "model_module_version": "1.5.0",
     "model_name": "FloatSliderModel",
     "state": {
      "_dom_classes": [],
      "_model_module": "@jupyter-widgets/controls",
      "_model_module_version": "1.5.0",
      "_model_name": "FloatSliderModel",
      "_view_count": null,
      "_view_module": "@jupyter-widgets/controls",
      "_view_module_version": "1.5.0",
      "_view_name": "FloatSliderView",
      "continuous_update": true,
      "description": "temperature",
      "description_tooltip": null,
      "disabled": false,
      "layout": "IPY_MODEL_b72fb479a8c04117a9a6fb129adc2173",
      "max": 2,
      "min": 0.1,
      "orientation": "horizontal",
      "readout": true,
      "readout_format": ".2f",
      "step": 0.1,
      "style": "IPY_MODEL_b9e074dab65848eeb4ebca0fddc8d3a0",
      "value": 0.1
     }
    },
    "66d9e2aa978343d180663b662c8da24e": {
     "model_module": "@jupyter-widgets/base",
     "model_module_version": "1.2.0",
     "model_name": "LayoutModel",
     "state": {
      "_model_module": "@jupyter-widgets/base",
      "_model_module_version": "1.2.0",
      "_model_name": "LayoutModel",
      "_view_count": null,
      "_view_module": "@jupyter-widgets/base",
      "_view_module_version": "1.2.0",
      "_view_name": "LayoutView",
      "align_content": null,
      "align_items": null,
      "align_self": null,
      "border": null,
      "bottom": null,
      "display": null,
      "flex": null,
      "flex_flow": null,
      "grid_area": null,
      "grid_auto_columns": null,
      "grid_auto_flow": null,
      "grid_auto_rows": null,
      "grid_column": null,
      "grid_gap": null,
      "grid_row": null,
      "grid_template_areas": null,
      "grid_template_columns": null,
      "grid_template_rows": null,
      "height": null,
      "justify_content": null,
      "justify_items": null,
      "left": null,
      "margin": null,
      "max_height": null,
      "max_width": null,
      "min_height": null,
      "min_width": null,
      "object_fit": null,
      "object_position": null,
      "order": null,
      "overflow": null,
      "overflow_x": null,
      "overflow_y": null,
      "padding": null,
      "right": null,
      "top": null,
      "visibility": null,
      "width": null
     }
    },
    "6df52dc914e7448389c1dd77ecbb647f": {
     "model_module": "@jupyter-widgets/output",
     "model_module_version": "1.0.0",
     "model_name": "OutputModel",
     "state": {
      "_dom_classes": [],
      "_model_module": "@jupyter-widgets/output",
      "_model_module_version": "1.0.0",
      "_model_name": "OutputModel",
      "_view_count": null,
      "_view_module": "@jupyter-widgets/output",
      "_view_module_version": "1.0.0",
      "_view_name": "OutputView",
      "layout": "IPY_MODEL_e9e03271e94c4d199af63019d2c08097",
      "msg_id": "",
      "outputs": [
       {
        "data": {
         "image/png": "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\n",
         "text/plain": "<Figure size 600x400 with 1 Axes>"
        },
        "metadata": {},
        "output_type": "display_data"
       }
      ]
     }
    },
    "94bdce3af34342dd940312132a86bc2c": {
     "model_module": "@jupyter-widgets/base",
     "model_module_version": "1.2.0",
     "model_name": "LayoutModel",
     "state": {
      "_model_module": "@jupyter-widgets/base",
      "_model_module_version": "1.2.0",
      "_model_name": "LayoutModel",
      "_view_count": null,
      "_view_module": "@jupyter-widgets/base",
      "_view_module_version": "1.2.0",
      "_view_name": "LayoutView",
      "align_content": null,
      "align_items": null,
      "align_self": null,
      "border": null,
      "bottom": null,
      "display": null,
      "flex": null,
      "flex_flow": null,
      "grid_area": null,
      "grid_auto_columns": null,
      "grid_auto_flow": null,
      "grid_auto_rows": null,
      "grid_column": null,
      "grid_gap": null,
      "grid_row": null,
      "grid_template_areas": null,
      "grid_template_columns": null,
      "grid_template_rows": null,
      "height": null,
      "justify_content": null,
      "justify_items": null,
      "left": null,
      "margin": null,
      "max_height": null,
      "max_width": null,
      "min_height": null,
      "min_width": null,
      "object_fit": null,
      "object_position": null,
      "order": null,
      "overflow": null,
      "overflow_x": null,
      "overflow_y": null,
      "padding": null,
      "right": null,
      "top": null,
      "visibility": null,
      "width": null
     }
    },
    "95492ac1f6d446be901aef7f3a1508c7": {
     "model_module": "@jupyter-widgets/base",
     "model_module_version": "1.2.0",
     "model_name": "LayoutModel",
     "state": {
      "_model_module": "@jupyter-widgets/base",
      "_model_module_version": "1.2.0",
      "_model_name": "LayoutModel",
      "_view_count": null,
      "_view_module": "@jupyter-widgets/base",
      "_view_module_version": "1.2.0",
      "_view_name": "LayoutView",
      "align_content": null,
      "align_items": null,
      "align_self": null,
      "border": null,
      "bottom": null,
      "display": null,
      "flex": null,
      "flex_flow": null,
      "grid_area": null,
      "grid_auto_columns": null,
      "grid_auto_flow": null,
      "grid_auto_rows": null,
      "grid_column": null,
      "grid_gap": null,
      "grid_row": null,
      "grid_template_areas": null,
      "grid_template_columns": null,
      "grid_template_rows": null,
      "height": null,
      "justify_content": null,
      "justify_items": null,
      "left": null,
      "margin": null,
      "max_height": null,
      "max_width": null,
      "min_height": null,
      "min_width": null,
      "object_fit": null,
      "object_position": null,
      "order": null,
      "overflow": null,
      "overflow_x": null,
      "overflow_y": null,
      "padding": null,
      "right": null,
      "top": null,
      "visibility": null,
      "width": null
     }
    },
    "a3a98ee7350c493c8a7dbc785246087c": {
     "model_module": "@jupyter-widgets/controls",
     "model_module_version": "1.5.0",
     "model_name": "VBoxModel",
     "state": {
      "_dom_classes": [
       "widget-interact"
      ],
      "_model_module": "@jupyter-widgets/controls",
      "_model_module_version": "1.5.0",
      "_model_name": "VBoxModel",
      "_view_count": null,
      "_view_module": "@jupyter-widgets/controls",
      "_view_module_version": "1.5.0",
      "_view_name": "VBoxView",
      "box_style": "",
      "children": [
       "IPY_MODEL_dea8d3e4653345fe92245fd81f856005",
       "IPY_MODEL_a76c9f6fe7c943b3800e55c67c29c74e"
      ],
      "layout": "IPY_MODEL_95492ac1f6d446be901aef7f3a1508c7"
     }
    },
    "a76c9f6fe7c943b3800e55c67c29c74e": {
     "model_module": "@jupyter-widgets/output",
     "model_module_version": "1.0.0",
     "model_name": "OutputModel",
     "state": {
      "_dom_classes": [],
      "_model_module": "@jupyter-widgets/output",
      "_model_module_version": "1.0.0",
      "_model_name": "OutputModel",
      "_view_count": null,
      "_view_module": "@jupyter-widgets/output",
      "_view_module_version": "1.0.0",
      "_view_name": "OutputView",
      "layout": "IPY_MODEL_aefc8f12e3464164baaecbbe4da8e394",
      "msg_id": "",
      "outputs": [
       {
        "data": {
         "image/png": "iVBORw0KGgoAAAANSUhEUgAABKUAAAHqCAYAAADVi/1VAAAAOXRFWHRTb2Z0d2FyZQBNYXRwbG90bGliIHZlcnNpb24zLjcuMSwgaHR0cHM6Ly9tYXRwbG90bGliLm9yZy/bCgiHAAAACXBIWXMAAA9hAAAPYQGoP6dpAACPf0lEQVR4nOzdeVhU5f//8dcAsqnggoKoiVvuimGSmplJobl+MjWzNDLbxI3KtNwtcUvNJU1zb9GyskXDBTUrKVPTzFxL01RwBwUTgfP7wx/zdWRQQJgD+HxcF9fF3Oc+Z97nzMyZ+7znvu9jMQzDEAAAAAAAAOBATmYHAAAAAAAAgDsPSSkAAAAAAAA4HEkpAAAAAAAAOBxJKQAAAAAAADgcSSkAAAAAAAA4HEkpAAAAAAAAOBxJKQAAAAAAADgcSSkAAAAAAAA4HEkpAAAAAAAAOBxJKcCBFi1aJIvFoiNHjljLHnzwQT344IOmxXTp0iWVLVtWH330kWkxFCRXr15VxYoV9d5775kdyi0dOXJEFotFixYtytH6FotFo0aNytWYbmT2+/9Go0aNksVi0ZkzZ3JtmwEBAWrXrt0t623atEkWi0WbNm2ylj3zzDMKCAiwqZed1yUgIEDPPPNM1oMFkC/deK683fN7Ttk7J5kpvV21bdu2XNvmgw8+qLp1696ynr3XIP075HrZOQ/nt+/EG02aNElVqlSRs7OzAgMDHfrcBfX7zN53e16yWCwKDw93yHPllmPHjsnd3V0//fST2aEUCGfPnlXRokW1evVqs0PJNSSl7hAWiyVLf446Yd6OtLQ0LVmyRMHBwSpVqpSKFy+uu+++Wz179tTPP/9sdngFzrvvvqvixYvriSeeMDuUTB0/flxdu3ZViRIl5OXlpY4dO+rvv//O8vpbtmzR/fffL09PT/n5+al///66dOmS3bo7duxQhw4dVKpUKXl6eqpu3bqaPn26dXmRIkUUERGht99+W//9999t75s9iYmJGjt2rOrXry9PT095e3urefPmWrJkiQzDyJPnzO8CAgJszlVly5ZV8+bN9eWXX5odmum2bNmiUaNG6cKFC2aHApgmPTnh7u6u48ePZ1ie1UQDcseDDz5oc84uVaqU7r33Xi1YsEBpaWlmh2eqP//8U6NGjbL5gbIgWLt2rQYPHqxmzZpp4cKFGjdu3E3rf/PNN2rRooXKli0rT09PValSRV27dlVUVJSDIs6ecePGaeXKlaY8d2G6TsuJMWPGKDg4WM2aNTM7lEzt3btXrVu3VrFixVSqVCk9/fTTOn36dJbX//rrr3XPPffI3d1dd911l0aOHKmUlBS7ddevX6+HHnpI3t7eKl68uIKCgrR8+XLr8tKlS+u5557T8OHDb3u/8gsXswOAYyxdutTm8ZIlS7Ru3boM5bVq1XJkWDnSv39/zZo1Sx07dlSPHj3k4uKi/fv367vvvlOVKlV03333mR1itqxdu9a057569areffddDRo0SM7OzqbFcTOXLl1Sy5YtFR8frzfeeENFihTR1KlT1aJFC+3cuVOlS5e+6fo7d+5Uq1atVKtWLU2ZMkX//vuvJk+erIMHD+q7776zqbt27Vq1b99eDRs21PDhw1WsWDH99ddf+vfff23qhYWFaciQIfr444/17LPP5ur+xsXFqVWrVtq7d6+eeOIJhYeH67///tPnn3+uXr16afXq1froo4+y9HpVqlRJly9fVpEiRXIUy+XLl+Xikn++JgIDA/XKK69Ikk6cOKH3339fjz32mGbPnq0XX3zR5Ohu3wMPPKDLly/L1dX1pvVufF22bNmi0aNH65lnnlGJEiVs6u7fv19OTvz+hDvHlStXNH78eM2YMcPsUPLU7Z7fHaFChQqKjIyUJJ0+fVpLlixR7969deDAAY0fP97k6G5fVl+DG8/Df/75p0aPHq0HH3wwQ68zM9uEt7JhwwY5OTlp/vz5t/yemjx5sl577TW1aNFCQ4cOlaenpw4dOqT169dr2bJlat26tYOizrpx48bp8ccfV6dOnRz+3IXpOi27Tp8+rcWLF2vx4sVmh5Kpf//9Vw888IC8vb01btw4Xbp0SZMnT9bu3bu1devWW34evvvuO3Xq1EkPPvigZsyYod27d+utt97SqVOnNHv2bJu6CxcuVO/evfXwww9r3LhxcnZ21v79+3Xs2DGbei+++KKmT5+uDRs26KGHHsr1fXY4A3ekvn37GgXx5Y+NjTUsFovRp0+fDMvS0tKMuLg4E6LKuoULFxqSjMOHD5sdimEYhvHFF18YkoxDhw6ZHUqmJkyYYEgytm7dai3bu3ev4ezsbAwdOvSW67dp08YoV66cER8fby2bN2+eIclYs2aNtSw+Pt7w9fU1/ve//xmpqam33G67du2M5s2bZ3Nvbi00NNRwcnIyvvrqqwzLXn31VUOSMX78+Jtu4+rVq8aVK1dyPba80KJFC6NFixa3rFepUiWjbdu2NmUnT540ihYtatx9992ZrpfdYzFy5EhDknH69Oksr3Mr9mLPql69ehmVKlW6aZ1Jkyblq/MKYIb079fAwEDDzc3NOH78uM3yFi1aGHXq1MmV50pLSzOSkpJyZVtZldVzZV7LyjnJMOwf78TERKNChQpG0aJFjeTkZLvrpaamGpcvX85yPOmv+6+//prldW7ldt4r6d8hN/PZZ58ZkoyNGzfm6DnMEhYWZhQtWvSW9a5evWp4eXkZDz/8sN3lOW2rV6pUyejVq1eO1s2KokWL5sn2N27cmO3X+3au0yQZffv2zdG6ZpgyZYrh4eFhXLx40exQMvXSSy8ZHh4exj///GMtW7dunSHJeP/992+5fu3atY0GDRoYV69etZa9+eabhsViMfbu3WstO3z4sOHh4WH0798/S3HVrVvXePrpp7OxJ/kXP5/CKjExUa+88ooqVqwoNzc31ahRQ5MnT84wXCh9rPJHH32kGjVqyN3dXUFBQdq8eXOWnueZZ55RsWLF9Pfffys0NFRFixaVv7+/xowZc8uhSYcPH5ZhGHa7d6YP6Ul37tw5vfrqq6pXr56KFSsmLy8vtWnTRrt27bJZL32s96effqrRo0erfPnyKl68uB5//HHFx8frypUrGjhwoMqWLatixYopLCxMV65cybVjcuP8AdfH8/bbb6tChQpyd3dXq1atdOjQoQzrz5o1S1WqVJGHh4caN26sH374IctzEqxcuVIBAQGqWrWqTfntvEa5bcWKFbr33nt17733Wstq1qypVq1a6dNPP73pugkJCVq3bp2eeuopeXl5Wct79uypYsWK2az/8ccfKy4uTm+//bacnJyUmJh40yEGDz/8sH788UedO3fuNvbO1s8//6w1a9bomWeeUYcOHTIsj4yMVPXq1TVhwgRdvnxZ0v/NaTF58mRNmzZNVatWlZubm/78889M5xz57LPPVLt2bbm7u6tu3br68ssvszR3UfpcGYcOHbL2yvH29lZYWJiSkpJs1l24cKEeeughlS1bVm5ubqpdu3aGX4Nul5+fn2rVqqXDhw/f8lhI137lbd68uYoWLaoSJUqoY8eO2rt3r91tnzlzRl27dpWXl5dKly6tAQMGZBiumd19XLt2rQIDA+Xu7q7atWvriy++sFme1Xknrn9dRo0apddee02SVLlyZWsX//RhIfbm4Lhw4YIGDhxoPddXq1ZNEyZMyPB+X7ZsmYKCglS8eHF5eXmpXr16evfdd28aG2C2N954Q6mpqVnqiZOSkqKxY8dazxUBAQF64403MnzHp88Lt2bNGjVq1EgeHh56//33c6X9kNNz5Y3n9/RY7P3deG7/7rvvrOfC4sWLq23bttqzZ0+G51i5cqXq1q1r811xOzw9PXXfffcpMTHROuzl+vZTnTp15ObmZh3e9dtvv6lNmzby8vJSsWLF1KpVq0ynaUhKStILL7yg0qVLy8vLSz179tT58+dt6nz11Vdq27at/P395ebmpqpVq2rs2LFKTU21u83t27eradOm8vDwUOXKlTVnzhyb5Vmd1+v68/CiRYvUpUsXSVLLli0zDMuy1367cuWKRo4cqWrVqsnNzU0VK1bU4MGDM7yX1q1bp/vvv18lSpRQsWLFVKNGDb3xxhs3jU3K2ufAYrFo4cKFSkxMtMac2X6fOXNGCQkJmQ7Fur6tnp39syer32dpaWl69913Va9ePbm7u6tMmTJq3bq1dS4yi8WixMRELV682Lp/1393Hj9+XM8++6x8fX3l5uamOnXqaMGCBRni+ffff9WpUycVLVpUZcuW1aBBg7K0H1mR1es0e9566y05OTnZ9CDNynkg/Xrg+PHj6tSpk4oVK6YyZcro1VdfzfC5yWmbYeXKlQoODlaxYsVsytOHXN/qc+gIn3/+udq1a6e77rrLWhYSEqK77777ltcif/75p/788089//zzNr3cX375ZRmGoRUrVljL5syZo9TUVI0ZM0bStdEiN3t9H374YX3zzTeFYmqP/DMuA6YyDEMdOnTQxo0b1bt3bwUGBmrNmjV67bXXdPz4cU2dOtWm/vfff6/ly5erf//+cnNz03vvvafWrVtr69atWZqzITU1Va1bt9Z9992niRMnKioqyjq2Nv2DaE+lSpUkXbuo7tKlizw9PTOt+/fff2vlypXq0qWLKleurLi4OL3//vtq0aKF/vzzT/n7+9vUj4yMlIeHh4YMGaJDhw5pxowZKlKkiJycnHT+/HmNGjVKP//8sxYtWqTKlStrxIgRuXpMbjR+/Hg5OTnp1VdfVXx8vCZOnKgePXrol19+sdaZPXu2wsPD1bx5cw0aNEhHjhxRp06dVLJkSVWoUOGWz7Flyxbdc889dpfl9DWSrp1EszLfUpEiReTt7Z3p8rS0NP3+++92h8g1btxYa9eu1cWLF1W8eHG76+/evVspKSlq1KiRTbmrq6sCAwP122+/WcvWr18vLy8v6xfvgQMHVLRoUT399NOaOnWq3N3dbbYRFBQkwzC0ZcuWLE1inRXffPONpGtJM3tcXFz05JNPavTo0frpp58UEhJiXbZw4UL9999/ev755+Xm5qZSpUrZTaqtWrVK3bp1U7169RQZGanz58+rd+/eKl++fJbj7Nq1qypXrqzIyEjt2LFDH3zwgcqWLasJEyZY68yePVt16tRRhw4d5OLiom+++UYvv/yy0tLS1Ldv3yw/181cvXpVx44dyzCE096xWL9+vdq0aaMqVapo1KhRunz5smbMmKFmzZppx44dGS7aunbtqoCAAEVGRurnn3/W9OnTdf78eS1ZsiRH+3jw4EF169ZNL774onr16qWFCxeqS5cuioqK0sMPP5zjY/DYY4/pwIED+uSTTzR16lT5+PhIksqUKWO3flJSklq0aKHjx4/rhRde0F133aUtW7Zo6NChOnnypKZNmybp2sVN9+7d1apVK+vrunfvXv30008aMGBAjuMF8lrlypXVs2dPzZs3T0OGDMnwXX+95557TosXL9bjjz+uV155Rb/88osiIyO1d+/eDAmY/fv3q3v37nrhhRfUp08f1ahRw7rsdtoPuXWurFWrVoahPhcuXFBERIRNEmDp0qXq1auXQkNDNWHCBCUlJWn27Nm6//779dtvv1nPhWvXrlXnzp1Vu3ZtRUZG6uzZswoLC8tS2+Jm/v77bzk7O9sMNd6wYYM+/fRThYeHy8fHRwEBAdqzZ4+aN28uLy8vDR48WEWKFNH777+vBx98UN9//72Cg4NtthseHq4SJUpo1KhR2r9/v2bPnq1//vnHmqyTriWEihUrpoiICBUrVkwbNmzQiBEjlJCQoEmTJtls7/z583r00UfVtWtXde/eXZ9++qleeuklubq63taw/QceeED9+/fX9OnT9cYbb1iHY2U2LCstLU0dOnTQjz/+qOeff161atXS7t27NXXqVB04cMA6B9KePXvUrl071a9fX2PGjJGbm5sOHTqUpYmjs/I5WLp0qebOnautW7fqgw8+kCQ1bdrU7vbKli0rDw8PffPNN+rXr59KlSqV6XNndf/syer3mST17t1bixYtUps2bfTcc88pJSVFP/zwg37++Wc1atRIS5cu1XPPPafGjRvr+eeflyTrD7ZxcXG67777rAnUMmXK6LvvvlPv3r2VkJCggQMHSro2tL5Vq1Y6evSo+vfvL39/fy1dulQbNmy45WtwK9m9TrvesGHDNG7cOL3//vvq06ePpKyfB6Rr1wOhoaEKDg7W5MmTtX79er3zzjuqWrWqXnrpJUk5bzNcvXpVv/76q3U7N7qdz2F8fLyuXr160zqS5O7uniEhdr3jx4/r1KlTGa4lpGvXIreabDz9WuPG9f39/VWhQoUM1yI1a9bU6tWrra9tyZIl1bdvX40ePTrDdAxBQUGaOnWq9uzZU/DnTDSphxZMdmO30JUrVxqSjLfeesum3uOPP25YLBab4V2SDEnGtm3brGX//POP4e7ubvzvf/+75XP36tXLkGT069fPWpaWlma0bdvWcHV1veWwmZ49exqSjJIlSxr/+9//jMmTJ9t0fUz333//ZRiGdfjwYcPNzc0YM2aMtSy9W23dunVtupN3797dsFgsRps2bWy20aRJkwxd17N6TOwN37uxS356PLVq1bIZdvTuu+8akozdu3cbhmEYV65cMUqXLm3ce++9Nt1BFy1aZEi6ZTf/q1evGhaLxXjllVcyLLvd1yh9/Vv93SrG06dPG5JsXq90s2bNMiQZ+/bty3T99C7ymzdvzrCsS5cuhp+fn/Vx/fr1DU9PT8PT09Po16+f8fnnnxv9+vUzJBlPPPFEhvVPnDhhSDImTJhw033Ijk6dOhmSjPPnz2daJ33I5fTp0w3DuPaelmR4eXkZp06dsqmbvmzhwoXWsnr16hkVKlSw6Sa9adMmQ5Ld9/XIkSOtj9OHJTz77LM29f73v/8ZpUuXtimzN7QlNDTUqFKlik1ZdobvPfLII8bp06eN06dPG7t27TKeeOIJm/fpzY5FYGCgUbZsWePs2bPWsl27dhlOTk5Gz549M+xjhw4dbNZ/+eWXDUnGrl27sr2PlSpVMiQZn3/+ubUsPj7eKFeunNGwYUNrmb0u/vaGytz4utxs+N6Nwx3Gjh1rFC1a1Dhw4IBNvSFDhhjOzs7G0aNHDcMwjAEDBhheXl5GSkpKhm0C+dH1w7j++usvw8XFxWYIxI1Dsnbu3GlIMp577jmb7aQPk96wYYO1LP0zHBUVZVM3N9oPOT1X2ju/Xy8tLc1o166dUaxYMWPPnj2GYRjGxYsXjRIlSmSYAiE2Ntbw9va2KQ8MDDTKlStnXLhwwVq2du1au98V9rRo0cKoWbOm9Zy9d+9eo3///oYko3379tZ6kgwnJydrjOk6depkuLq6Gn/99Ze17MSJE0bx4sWNBx54wFqW/roHBQXZvAYTJ040JNkMhbd3rF944QXD09PT+O+//2xil2S888471rIrV65Yv0fSn8fea2Bv+N6N5+GbDd+78XVeunSp4eTkZPzwww829ebMmWNIMn766SfDMAxj6tSpORp6np3PQa9evbI0fM8wDGPEiBGGJKNo0aJGmzZtjLffftvYvn17hnpZ3T/DyPn32YYNGwxJdodEpaWlWf/PbPhe7969jXLlyhlnzpyxKX/iiScMb29v6/tq2rRphiTj008/tdZJTEw0qlWrdtvD97J7nZY+fO+VV14xnJycjEWLFlmXZ+c8kN6ev7Ed3rBhQyMoKMj6OKdthkOHDhmSjBkzZmRYltXPYWbS17/V362GbP7666+GJGPJkiUZlr322muGJJvzx43S22jp78fr3XvvvcZ9991nfezl5WWULFnScHNzM4YPH26sWLHCePLJJw1JxpAhQzKsv2XLFkOSsXz58pvuQ0HA8D1IklavXi1nZ2f179/fpvyVV16RYRgZJoRu0qSJgoKCrI/vuusudezYUWvWrMm0G/SNrr9dafqvD8nJyVq/fv1N11u4cKFmzpypypUr68svv9Srr76qWrVqqVWrVjZ33HFzc7NmlFNTU3X27Flrd+YdO3Zk2G7Pnj1tJqsMDg6WYRgZMvHBwcE6duxYhjsm5MYxuV5YWJjNxHnNmzeXJOtd57Zt26azZ8+qT58+Nt1Be/TooZIlS95y++fOnZNhGDetm9PXaPDgwVq3bt0t/955552bbid9iJqbm1uGZek9l9Lr5GT969e9dOmSkpKS1LNnT02fPl2PPfaYpk+frhdeeEHLli3TwYMHbdZPP25nzpy56T5kx8WLFyUp055f1y9LSEiwKe/cuXOmvWPSnThxQrt377YOX0zXokUL1atXL8tx3jipePPmzXX27FmbmDw8PKz/x8fH68yZM2rRooX+/vtvxcfHZ/m5rrd27VqVKVNGZcqUUYMGDfTZZ5/p6aeftumhJWU8FidPntTOnTv1zDPP2PxiW79+fT388MN2f+W6sYdCv379JMmmbnb20d/fX//73/+sj9OHl/z222+KjY3NzmG4LZ999pmaN2+ukiVL6syZM9a/kJAQpaamWocclyhRQomJiVq3bp3DYgNyS5UqVfT0009r7ty5OnnypN066Z/liIgIm/L0mymsWrXKprxy5coKDQ21u63baT/kxblSksaOHatvv/1WixYtUu3atSVd681w4cIFde/e3ebz7+zsrODgYG3cuFHS/50ze/XqZdOb+eGHH7ZuKyv27dtnPWfXqlVLM2bMUNu2bTMMe2rRooXNdlNTU7V27Vp16tRJVapUsZaXK1dOTz75pH788ccM34HPP/+8zWvw0ksvycXFJdNz9sWLF3XmzBk1b95cSUlJ2rdvn832XFxc9MILL1gfu7q66oUXXtCpU6e0ffv2LB+D2/XZZ5+pVq1aqlmzps1rlj6xcfprlt7z7KuvvsrW3Q2z+znIqtGjR+vjjz9Ww4YNtWbNGr355psKCgrSPffcYzNsPqv7Z09Wv88+//xzWSwWjRw5MsM20nvRZcYwDH3++edq3769DMOweZ7Q0FDFx8dbrylWr16tcuXK6fHHH7eu7+npae15dTuye51mGIbCw8P17rvv6sMPP1SvXr2sy7J6HrievXbf9XfBzmmb4ezZs5KU6bXI7XwO33nnnSxdiwwePPim23H0tcj58+c1evRojRkzRp07d9ZHH32k1q1b691337VeJ6TLi2sRszB8D5Kkf/75R/7+/hkuhtO7E//zzz825dWrV8+wjbvvvltJSUk6ffq0SpUqlWGunTJlyljvGObk5GTT0EhfX9Itb5Hr5OSkvn37qm/fvjp79qx++uknzZkzR999952eeOIJ/fDDD5L+b/z4e++9p8OHD9skhuzdse36ccKSrA2xihUrZihPS0tTfHy8zXZudUz8/Pxuul+3iif9xJM+R0L6a1KtWjWbei4uLhmGIt2Mkck45Nt5jWrXrp2thmtm0huQ9sbjpw8PvL6Rmd31r183/f/u3bvb1HvyySf1/vvvKyYmxuY1Tj9ut2rQ3Jhw8Pb2zjTm9M/fxYsXM9xFLV1miavKlSvfNA4p8/dMepm9ZK09N3tvps/d9dNPP2nkyJGKiYnJMN9UfHz8TYdtZiY4OFhvvfWWLBaLPD09VatWLbvH6cZjkb7f1w+3SVerVi2tWbNGiYmJKlq0qLX8xs9z1apV5eTkZPPez84+VqtWLcN75frPU3bPDzl18OBB/f7775kmME+dOiXp2lwHn376qdq0aaPy5cvrkUceUdeuXfPlHZMAe4YNG6alS5dq/Pjxduc1+eeff+Tk5JThfOjn56cSJUpkaPfc7Bx7O+2HvDhXRkVFafTo0Ro6dKg6d+5sLU//cSWzOzWln7/T991euyazH/bsCQgI0Lx582SxWOTu7q7q1atnmE9IynhsT58+raSkpEzP2WlpaTp27Jjq1KljLb8x1mLFiqlcuXI25+w9e/Zo2LBh2rBhQ4aklr0fEq7/TpBsz9mOutPzwYMHtXfv3lues7t166YPPvhAzz33nIYMGaJWrVrpscce0+OPP37TO7Bm93OQHd27d1f37t2VkJCgX375RYsWLdLHH3+s9u3b648//pC7u3uW98+erH6f/fXXX/L397/pMMLMnD59WhcuXNDcuXM1d+7cmz7PP//8Y/e73t77OLuye522ZMkSXbp0SbNnz87Qrs3qeSBd+hxc1ytZsqTNnG2322bI7Frkdj6H13cUuB2OvhZJTEzM8Jp1795dUVFR+u233/TAAw9Yy7N6LVIQkJRCntiyZYtatmxpU3b48OFsJUuyonTp0urQoYM6dOhgnWfgn3/+UaVKlTRu3DgNHz5czz77rMaOHatSpUrJyclJAwcOtPsrUnrCLKvlmZ1Ac0teP2+pUqVksVgyTASaG+Lj42/6q0E6V1fXmzYSSpUqJTc3N7u/dKeX3Wy+kHLlytnUvXH969f19/fXnj175Ovra1MvvQF943FKf5w+h8+tYki3cOHCDBNPp6tVq5ZWrlyp33//3eZL53q///67JGVI+t3sCzG33eq9+ddff6lVq1aqWbOmpkyZoooVK8rV1VWrV6/W1KlTs/Ur7vV8fHxs5tHKTF4cixu/8PNqH/NaWlqaHn744Ux/GUxv7JUtW1Y7d+7UmjVr9N133+m7777TwoUL1bNnz3x922YgXZUqVfTUU09p7ty5GjJkSKb1stqYv9l5Jafth7w4jxw+fFg9evTQww8/rLfeestmWfr2li5dajcRfn2v69xQtGhR087ZN7pw4YJatGghLy8vjRkzRlWrVpW7u7t27Nih119/PV+fs+vVq6cpU6bYXZ6e+PTw8NDmzZu1ceNGrVq1SlFRUVq+fLkeeughrV27NtP3YrrrPwebN2/WpEmTFB8frxUrVmjlypXq1KnTTdfftGmTIiIitGfPHlWsWFHDhg2ztnW8vLz08MMP68CBA/rqq6/0119/qWHDhlq8eHGW98+erH6f3Y7098VTTz1l09voevXr17/t58ltzZo1086dOzVz5kx17drVpq2d3fPArd47Us7bDOnJ+by4Fjl37pySk5NvWc/Dw+Omyf9bXUukX6tkZf0b388nT55U48aNrY/9/f118ODBXL8WKQhISkHStQnE169fn2HS6PTuzOkTjKe7cSiTJB04cECenp4qU6aM3NzcMnThvP7El5aWpr///tvmC+PAgQOSlOPEVaNGjfT999/r5MmTqlSpklasWKGWLVtq/vz5NvUuXLiQJx/eWx2T3Jb+mhw6dMgmAZiSkqIjR47c8kvSxcVFVatWtd657Ea38xoNGDAgSxeuLVq0uOmdxpycnFSvXj3r3VGu98svv6hKlSo3HepWt25dubi4aNu2beratau1PDk5WTt37rQpCwoK0rp163T8+HGbX7VOnDghKePE0enHLbPJSdPd+Dm4/pfdG7Vr106RkZFasmSJ3aRUamqqPv74Y5UsWTLTu9rczPXvmRvZK8upb775RleuXNHXX39t04PgZt3w81L6fu/fvz/Dsn379snHxyfDL3EHDx60+fX+0KFDSktLs773s7uPhw4dkmEYNg3/2z3npcvOL2RVq1bVpUuXsnSh6Orqqvbt26t9+/ZKS0vTyy+/rPfff1/Dhw+329sOyG+GDRumDz/8MMMQX+naeSEtLU0HDx60OY/HxcXpwoULGdo9eSG3z5WXL1/WY489phIlSuiTTz7J0EMmfeLmsmXL3vQckL7v9to19s6jua1MmTLy9PTM9Jzt5OSU4eLu4MGDNm2hS5cu6eTJk3r00UclXUuanD17Vl988YXN92tmbaATJ05k6EFr1jl7165datWq1S3Xc3JyUqtWrdSqVStNmTJF48aN05tvvqmNGzdm+nrb+xwkJiaqatWqWf4R9PDhw2rbtq1efPFFffTRR4qOjtZzzz2ncuXKWYe8Ll++XBEREerSpYs++ugj+fv7KzQ0VI0aNdLevXuztH83yur3WdWqVbVmzRqdO3fupj+E2nv+MmXKqHjx4kpNTb3l81SqVEl//PFHhu/63PjMZPc6rVq1apo4caIefPBBtW7dWtHR0db1snoeyK6ctBnuuusueXh45Mnn8LHHHtP3339/y7h79ep10ztoli9fXmXKlLF7LbJ161YFBgbedPvpy7dt22aTgDpx4oT+/fdfm+GdQUFBOnjwoI4fP24zWuV2r0UKAuaUgiTp0UcfVWpqqmbOnGlTPnXqVFksFrVp08amPCYmxqb79rFjx/TVV1/pkUcekbOzs0qWLKmQkBCbvxvvXnb9cxmGoZkzZ6pIkSJq1apVpnHGxsZab+9+veTkZEVHR9t0QXZ2ds7whfrZZ5/ZzDuVm251THJbo0aNVLp0ac2bN89mfoqPPvooy784NGnSxO5JNl1OXiMp9+aUkqTHH39cv/76q02c+/fv14YNG6y3VU63b98+HT161PrY29tbISEh+vDDD23GYS9dulSXLl2yWT89QXVjEvODDz6Qi4tLhls0b9++XRaLRU2aNLlp/Dd+Dm7sOXW9pk2bKiQkRAsXLtS3336bYfmbb76pAwcOaPDgwTn6Zdnf319169a1dutO9/3332v37t3Z3l5m0t/v13/+4uPjtXDhwlx7juwoV66cAgMDtXjxYl24cMFa/scff2jt2rXWi5brzZo1y+Zx+m2U08+F2d3HEydO2NzNKyEhQUuWLFFgYOBtD91Lb6xdv2+Z6dq1q2JiYrRmzZoMyy5cuGA9l6TP85DOycnJmujOrdtbA3mtatWqeuqpp/T+++9nGEqd/rm//g5dkqw9Ntq2bZvn8eX2ufLFF1/UgQMH9OWXX9qdoyU0NFReXl4aN26c3btSnT59WpLtOfP6YW3r1q2z2wbLbc7OznrkkUf01Vdf2Qy/i4uL08cff6z7778/wxCjuXPn2uzT7NmzlZKSctNzdnJyst577z27MaSkpOj999+3qfv++++rTJkytz0sKLvn7OPHj2vevHkZll2+fFmJiYmSlGHKDOn/LoZvds629zlo06bNTXt+3GjOnDmqXLmy3nnnHdWqVUvPPvusHnzwQZs7wk2ZMkV9+vSxtk8nTpwoT09PlShRIkv7Z09Wv886d+4swzA0evToDPWufz8ULVo0w2vi7Oyszp076/PPP9cff/yRYf30z4x07VieOHFCK1assJYlJSVlOuwvO7J7nSZd68G1evVq7d27V+3bt7eOYMjqeSA7ctpmKFKkiBo1apTptcjtfA5za04p6dp76Ntvv9WxY8esZdHR0Tpw4IDNtcTVq1e1b98+m15VderUUc2aNTV37lybqWRmz54ti8ViMwdZt27dJNlei6SlpWnhwoUqVapUhn3evn27vL29b/qDd0FBTylIktq3b6+WLVvqzTff1JEjR9SgQQOtXbtWX331lQYOHGjNqqerW7euQkND1b9/f7m5uVm/1O2d8O1xd3dXVFSUevXqpeDgYH333XdatWqV3njjjZv2Kvr333/VuHFjPfTQQ2rVqpX8/Px06tQpffLJJ9q1a5cGDhxo7QXVrl07jRkzRmFhYWratKl2796tjz76KMM8Sbnldo9Jdrm6umrUqFHq16+fHnroIXXt2lVHjhzRokWLVLVq1Sz94tSxY0ctXbpUBw4cyNDNOaevkZR7c0pJ18apz5s3T23bttWrr76qIkWKaMqUKfL19bVOxJmuVq1aGXpfvf3222ratKlatGih559/Xv/++6/eeecdPfLIIzZj3Rs2bKhnn31WCxYsUEpKinU7n332mYYOHZphmOC6devUrFkzu/OT3Y4lS5aoVatW6tixo5588kk1b95cV65c0RdffKFNmzapW7dueu2113K8/XHjxqljx45q1qyZwsLCdP78ec2cOVN169a1SVTdjkceecT6i9kLL7ygS5cuad68eSpbtmymkw7ntUmTJqlNmzZq0qSJevfurcuXL2vGjBny9vbWqFGjMtQ/fPiwOnTooNatWysmJkYffvihnnzySTVo0EBS9vfx7rvvVu/evfXrr7/K19dXCxYsUFxcXK4k6tIbKW+++aaeeOIJFSlSRO3bt8/Q+0uSXnvtNX399ddq166dnnnmGQUFBSkxMVG7d+/WihUrdOTIEfn4+Oi5557TuXPn9NBDD6lChQr6559/NGPGDAUGBhaKX+Rw53jzzTe1dOlS7d+/36bh3qBBA/Xq1Utz5861Du3aunWrFi9erE6dOmWYgiAv5Oa5ctWqVVqyZIk6d+6s33//3TrUW7o2v1KnTp3k5eWl2bNn6+mnn9Y999yjJ554QmXKlNHRo0e1atUqNWvWzHrRGxkZqbZt2+r+++/Xs88+q3PnzmnGjBmqU6dOrn1X3Mxbb72ldevW6f7779fLL78sFxcXvf/++7py5YomTpyYoX5ycrJatWqlrl27av/+/Xrvvfd0//33q0OHDpKu/ehTsmRJ9erVS/3795fFYtHSpUtvOpfNhAkTdOTIEd19991avny5du7cqblz59pMqJ4TgYGBcnZ21oQJExQfHy83Nzc99NBDdufbevrpp/Xpp5/qxRdf1MaNG9WsWTOlpqZq3759+vTTT7VmzRo1atRIY8aM0ebNm9W2bVtVqlRJp06d0nvvvacKFSro/vvvzzSWW30OVq5cecv9iYmJselxk5SUpOjoaDk7O2v06NEqV66cfv31V126dEl//vmnOnXqpKCgIIWEhOj8+fN69NFHb7l/9mT1+6xly5Z6+umnNX36dB08eFCtW7dWWlqafvjhB7Vs2dJ6U5+goCCtX79eU6ZMkb+/vypXrqzg4GCNHz9eGzduVHBwsPr06aPatWvr3Llz2rFjh9avX29NCPbp00czZ85Uz549tX37dpUrV05Lly6Vp6fnLY/hrWT3Oi3dfffdp6+++kqPPvqoHn/8ca1cuTJb54Gsup02Q8eOHfXmm28qISEhQ7L5dj6HuTWnlCS98cYb+uyzz9SyZUsNGDBAly5d0qRJk1SvXj2FhYVZ6x0/fly1atXK0Ptq0qRJ6tChgx555BE98cQT+uOPPzRz5kw999xzNsenY8eOatWqlSIjI3XmzBk1aNBAK1eu1I8//qj3338/Q7J43bp1at++faGYU8r2nqW4Y9x4q1HDuHaL0EGDBhn+/v5GkSJFjOrVqxuTJk2yuV2qYfzfrUY//PBDo3r16oabm5vRsGHDLN/qNP2Wsn/99ZfxyCOPGJ6enoavr68xcuRIIzU19abrJiQkGO+++64RGhpqVKhQwShSpIhRvHhxo0mTJsa8efNsYv3vv/+MV155xShXrpzh4eFhNGvWzIiJiclwu930Wzp/9tlnNs91/e2lr5d+u9/rb7ub1WOSvs3rb92e1Xgyu/3z9OnTjUqVKhlubm5G48aNjZ9++skICgoyWrdufdNjaRjXbq3q4+NjjB071qb8dl6jvHDs2DHj8ccfN7y8vIxixYoZ7dq1Mw4ePJihniSbY5nuhx9+MJo2bWq4u7sbZcqUMfr27WskJCRkqJecnGyMGjXKqFSpklGkSBGjWrVqxtSpUzPUu3DhguHq6mp88MEHubF7GVy8eNEYNWqUUadOHcPDw8MoXry40axZM2PRokUZPo/p74tJkyZl2E5m75lly5YZNWvWNNzc3Iy6desaX3/9tdG5c2ejZs2aNvUkGSNHjrQ+tvfeNwz77+uvv/7aqF+/vuHu7m4EBAQYEyZMMBYsWHDL939mKlWqZLRt2/amdW52LAzDMNavX280a9bM8PDwMLy8vIz27dsbf/75p02d9H38888/jccff9woXry4UbJkSSM8PNy4fPmyTd2s7mN67GvWrDHq169vuLm5GTVr1szwGU//7F9/3ujVq1eG26/f+LoYxrVbY5cvX95wcnKyef4bb6FtGNfeX0OHDjWqVatmuLq6Gj4+PkbTpk2NyZMnW2+xvGLFCuORRx4xypYta7i6uhp33XWX8cILLxgnT560e2wBs2X2nW0Y/3db8zp16tiUX7161Rg9erRRuXJlo0iRIkbFihWNoUOHZri9d2bnn9xoP+T0XHnj+T39Oe393XgO2bhxoxEaGmp4e3sb7u7uRtWqVY1nnnnG2LZtm029zz//3KhVq5bh5uZm1K5d2/jiiy/snpPsadGiRYbjbU96+8meHTt2GKGhoUaxYsUMT09Po2XLlsaWLVts6qTv9/fff288//zzRsmSJY1ixYoZPXr0MM6ePWtT96effjLuu+8+w8PDw/D39zcGDx5srFmzJsN5Nz32bdu2GU2aNDHc3d2NSpUqGTNnzrTZnr3v2PTX+Hr2zsPz5s0zqlSpYjg7O9s8v73vxOTkZGPChAlGnTp1DDc3N6NkyZJGUFCQMXr0aCM+Pt4wDMOIjo42OnbsaPj7+xuurq6Gv7+/0b17d+PAgQN2j+31bvY5kGR8+eWXhmH8X9vwRtWrVzfGjRtns73+/fsbkoy77rrLcHNzMyQZd999tzFp0iTjypUrhmEYxmuvvWY0btw4S/uX2XHMyveZYRhGSkqKMWnSJKNmzZqGq6urUaZMGaNNmzbG9u3brXX27dtnPPDAA4aHh4chyea54uLijL59+xoVK1Y0ihQpYvj5+RmtWrUy5s6daxPPP//8Y3To0MHw9PQ0fHx8jAEDBhhRUVEZ3mO3khvXadf76quvDBcXF6Nbt27WdnxWzgOZveY3vs9vp80QFxdnuLi4GEuXLrUpz+rn0FH++OMP6zVRiRIljB49ehixsbE2ddLPCTe+Tw3DML788ksjMDDQcHNzMypUqGAMGzbM5j2a7uLFi8aAAQMMPz8/w9XV1ahXr57x4YcfZqi3d+9eQ5Kxfv36XNtHM1kMI49na0ahY7FY1Ldv32xn0dM988wzWrFihUN+aXOU2z0muSktLU1lypTRY489Zrc79I3Gjh2rhQsX6uDBg9bu7YXxNcpN06ZN08SJE/XXX385dILxvBQYGKgyZcpk+3a+AACgcLJYLPryyy9vOtH53XffrbCwMA0dOtRatnr1arVt21ZJSUk6f/68ypcvry1btthMeTB48GB9//33+uWXX/JyF1AA9O7dWwcOHLDeQV2SHnzwQZ05c8busElIAwcO1ObNm63TiRR0zCkFFGD//fdfhq7nS5Ys0blz5zLMgZSZQYMG6dKlS1q2bFkeRFj4XL16VVOmTNGwYcMKZELq6tWrNnOQSdcmgN21a1eW3zMAAADStRsZxcXF2ZTFxcXJy8tLHh4e8vHxkbOzs906tzunIgqHkSNH6tdff9VPP/1kdigFwtmzZ/XBBx/orbfeKhQJKYk5pYAC7eeff9agQYPUpUsXlS5dWjt27ND8+fNVt27dDJOAZ6ZYsWI6depUHkdaeBQpUsRmMvWC5vjx4woJCdFTTz0lf39/7du3T3PmzJGfn59efPFFs8MDAAAFSJMmTbR69WqbsnXr1ll7Rbm6uiooKEjR0dHWHldpaWmKjo62zueEO9tdd92l//77z+wwCozSpUsXutEsJKWAAiwgIEAVK1bU9OnTrbe67dmzp8aPHy9XV1ezw0M+VLJkSQUFBemDDz7Q6dOnVbRoUbVt21bjx4/P9UnbAQBAwXLp0iUdOnTI+vjw4cPauXOnSpUqpbvuuktDhw7V8ePHtWTJEknX7vo4c+ZMDR48WM8++6w2bNigTz/9VKtWrbJuIyIiQr169VKjRo3UuHFjTZs2TYmJiTaTRAO4c5k6p9TmzZs1adIkbd++XSdPnrzlmGXp2jCTiIgI7dmzRxUrVtSwYcP0zDPPOCReAACA/IA2FIC8sGnTJrt3n0y/o9gzzzyjI0eO2NzpeNOmTRo0aJD+/PNPVahQQcOHD89wbpk5c6YmTZqk2NhYBQYGavr06QoODs7jvQFQEJialPruu+/0008/KSgoSI899tgtG1SHDx9W3bp19eKLL+q5555TdHS0Bg4cqFWrVik0NNRxgQMAAJiINhQAACgM8s3d97Jyd4fXX39dq1atspmF/4knntCFCxcUFRXlgCgBAADyF9pQAACgoCpQc0rFxMQoJCTEpiw0NFQDBw7MdJ0rV67oypUr1sdpaWk6d+6cSpcuXWhmqwcAAHnHMAxdvHhR/v7+cnIqmDcupg0FAAAcKavtpwKVlIqNjZWvr69Nma+vrxISEnT58mW7t2ePjIzU6NGjHRUiAAAopI4dO6YKFSqYHUaO0IYCAABmuFX7qUAlpXJi6NChioiIsD6Oj4/XXXfdpWPHjsnLy8vEyAAAQEGQkJCgihUrqnjx4maH4lBmtKHqjlyTJ9sFAAAZ/TE67+aVzGr7qUAlpfz8/BQXF2dTFhcXJy8vL7u/8EmSm5ub3NzcMpR7eXmRlAIAAFlWkIesFZQ2lJObZ55sFwAAZOSInMit2k8FamKEJk2aKDo62qZs3bp1atKkiUkRAQAA5H+0oQAAQH5kalLq0qVL2rlzp3bu3Cnp2u2Kd+7cqaNHj0q61m28Z8+e1vovvvii/v77bw0ePFj79u3Te++9p08//VSDBg0yI3wAAABT0IYCAACFgalJqW3btqlhw4Zq2LChJCkiIkINGzbUiBEjJEknT560Nq4kqXLlylq1apXWrVunBg0a6J133tEHH3yg0NC8GwcJAACQ39CGAgAAhYHFMAzD7CAcKSEhQd7e3oqPj2dOKQAAcEu0Ha5xxHEIGLIqT7YLAAAyOjK+bZ5tO6vthgI1pxQAAAAAAAAKB5JSAAAAAAAAcDiSUgAAAAAAAHA4klIAAAAAAABwOJJSAAAAAAAAcDiSUgAAAAAAAHA4klIAAAAAAABwOJJSAAAAAAAAcDiSUgAAAAAAAHA4klIAAAAAAABwOJJSAAAAAAAAcDiSUgAAAAAAAHA4klIAAAAAAABwOJJSAAAAAAAAcDiSUgAAAAAAAHA4klIAAAAAAABwOJJSAAAAAAAAcDiSUgAAAAAAAHA4klIAAAAAAABwOJJSAAAAAAAAcDiSUgAAAAAAAHA4klIAAAAAAABwOJJSAAAAAAAAcDiSUgAAAAAAAHA4klIAAAAAAABwOJJSAAAAAAAAcDiSUgAAAAAAAHA4klIAAAAAAABwOJJSAAAAAAAAcDiSUgAAAAAAAHA4klIAAAAAAABwOJJSAAAAAAAAcDiSUgAAAAAAAHA4klIAAAAAAABwOJJSAAAAAAAAcDiSUgAAAAAAAHA4klIAAAAAAABwOJJSAAAAAAAAcDiSUgAAAAAAAHA4klIAAAAAAABwOJJSAAAAAAAAcDiSUgAAAAAAAHA4klIAAAAAAABwOJJSAAAAAAAAcDiSUgAAAAAAAHA4klIAAAAAAABwOJJSAAAAAAAAcDiSUgAAAAAAAHA4klIAAAAAAABwOJJSAAAAAAAAcDiSUgAAAAAAAHA4klIAAAAAAABwOJJSAAAAAAAAcDiSUgAAAAAAAHA4klIAAAAAAABwOJJSAAAAAAAAcDiSUgAAAAAAAHA4klIAAAAAAABwOJJSAAAAAAAAcDiSUgAAAAAAAHA4klIAAAAAAABwOJJSAAAAAAAAcDiSUgAAAAAAAHA4klIAAAAAAABwOJJSAAAAAAAAcDiSUgAAAAAAAHA4klIAAAAAAABwOJJSAAAAAAAAcDiSUgAAAAAAAHA4klIAAAAAAABwONOTUrNmzVJAQIDc3d0VHBysrVu33rT+tGnTVKNGDXl4eKhixYoaNGiQ/vvvPwdFCwAAkD/QhgIAAAWdqUmp5cuXKyIiQiNHjtSOHTvUoEEDhYaG6tSpU3brf/zxxxoyZIhGjhypvXv3av78+Vq+fLneeOMNB0cOAABgHtpQAACgMDA1KTVlyhT16dNHYWFhql27tubMmSNPT08tWLDAbv0tW7aoWbNmevLJJxUQEKBHHnlE3bt3v+UvgwAAAIUJbSgAAFAYmJaUSk5O1vbt2xUSEvJ/wTg5KSQkRDExMXbXadq0qbZv325tQP39999avXq1Hn300Uyf58qVK0pISLD5AwAAKKhoQwEAgMLCxawnPnPmjFJTU+Xr62tT7uvrq3379tld58knn9SZM2d0//33yzAMpaSk6MUXX7xp1/PIyEiNHj06V2MHAAAwC20oAABQWJg+0Xl2bNq0SePGjdN7772nHTt26IsvvtCqVas0duzYTNcZOnSo4uPjrX/Hjh1zYMQAAADmow0FAADyI9N6Svn4+MjZ2VlxcXE25XFxcfLz87O7zvDhw/X000/rueeekyTVq1dPiYmJev755/Xmm2/KySljjs3NzU1ubm65vwMAAAAmoA0FAAAKC9N6Srm6uiooKEjR0dHWsrS0NEVHR6tJkyZ210lKSsrQaHJ2dpYkGYaRd8ECAADkE7ShAABAYWFaTylJioiIUK9evdSoUSM1btxY06ZNU2JiosLCwiRJPXv2VPny5RUZGSlJat++vaZMmaKGDRsqODhYhw4d0vDhw9W+fXtrwwoAAKCwow0FAAAKA1OTUt26ddPp06c1YsQIxcbGKjAwUFFRUdaJO48ePWrzq96wYcNksVg0bNgwHT9+XGXKlFH79u319ttvm7ULAAAADkcbCgAAFAYW4w7rs52QkCBvb2/Fx8fLy8vL7HAAAEA+R9vhGkcch4Ahq/JkuwAAIKMj49vm2baz2m4oUHffAwAAAAAAQOFAUgoAAAAAAAAOR1IKAAAAAAAADkdSCgAAAAAAAA5HUgoAAAAAAAAOR1IKAAAAAAAADkdSCgAAAAAAAA5HUgoAAAAAAAAOR1IKAAAAAAAADkdSCgAAAAAAAA5HUgoAAAAAAAAOR1IKAAAAAAAADkdSCgAAAAAAAA5HUgoAAAAAAAAOR1IKAAAAAAAADkdSCgAAAAAAAA5HUgoAAAAAAAAOR1IKAAAAAAAADkdSCgAAAAAAAA5HUgoAAAAAAAAOR1IKAAAAAAAADkdSCgAAAAAAAA5HUgoAAAAAAAAOR1IKAAAAAAAADkdSCgAAAAAAAA5HUgoAAAAAAAAOR1IKAAAAAAAADkdSCgAAAAAAAA5HUgoAAAAAAAAOR1IKAAAAAAAADkdSCgAAAAAAAA5HUgoAAAAAAAAOR1IKAAAAAAAADkdSCgAAAAAAAA5HUgoAAAAAAAAOR1IKAAAAAAAADkdSCgAAAAAAAA5HUgoAACCP9erVS5s3bzY7DAAAgHyFpBQAAEAei4+PV0hIiKpXr65x48bp+PHjZocEAABgOpJSAAAAeWzlypU6fvy4XnrpJS1fvlwBAQFq06aNVqxYoatXr5odHgAAgClISgEAADhAmTJlFBERoV27dumXX35RtWrV9PTTT8vf31+DBg3SwYMHzQ4RAADAoUhKAQAAONDJkye1bt06rVu3Ts7Oznr00Ue1e/du1a5dW1OnTjU7PAAAAIchKQUAAJDHrl69qs8//1zt2rVTpUqV9Nlnn2ngwIE6ceKEFi9erPXr1+vTTz/VmDFjzA4VAADAYVzMDgAAAKCwK1eunNLS0tS9e3dt3bpVgYGBGeq0bNlSJUqUcHhsAAAAZiEpBQAAkMemTp2qLl26yN3dPdM6JUqU0OHDhx0YFQAAgLkYvgcAAJDHNm7caPcue4mJiXr22WdNiAgAAMB8JKUAAADy2OLFi3X58uUM5ZcvX9aSJUtMiAgAAMB8DN8DAADIIwkJCTIMQ4Zh6OLFizbD91JTU7V69WqVLVvWxAgBAADMQ1IKAAAgj5QoUUIWi0UWi0V33313huUWi0WjR482ITIAAADzkZQCAADIIxs3bpRhGHrooYf0+eefq1SpUtZlrq6uqlSpkvz9/U2MEAAAwDwkpQAAAPJIixYtJEmHDx/WXXfdJYvFYnJEAAAA+QdJKQAAgDzw+++/q27dunJyclJ8fLx2796dad369es7MDIAAID8gaQUAABAHggMDFRsbKzKli2rwMBAWSwWGYaRoZ7FYlFqaqoJEQIAAJiLpBQAAEAeOHz4sMqUKWP9HwAAALZISgEAAOSBSpUq2f0fAAAA15CUAgAAyANff/11lut26NAhDyMBAADIn0hKAQAA5IFOnTplqR5zSgEAgDsVSSkAAIA8kJaWZnYIAAAA+ZqT2QEAAAAAAADgzkNPKQAAgDwwffp0Pf/883J3d9f06dNvWrd///4OigoAACD/ICkFAACQB6ZOnaoePXrI3d1dU6dOzbSexWIhKQUAAO5IJKUAAADywOHDh+3+DwAAgGuYUwoAAMCBDMOQYRhmhwEAAGA6klIAAAAOMH/+fNWtW1fu7u5yd3dX3bp19cEHH5gdFgAAgGkYvgcAAJDHRowYoSlTpqhfv35q0qSJJCkmJkaDBg3S0aNHNWbMGJMjBAAAcDySUgAAAHls9uzZmjdvnrp3724t69Chg+rXr69+/fqRlAIAAHckhu8BAADksatXr6pRo0YZyoOCgpSSkmJCRAAAAOYjKQUAAJDHnn76ac2ePTtD+dy5c9WjRw8TIgIAADAfw/cAAADyQEREhPV/i8WiDz74QGvXrtV9990nSfrll1909OhR9ezZ06wQAQAATEVSCgAAIA/89ttvNo+DgoIkSX/99ZckycfHRz4+PtqzZ4/DYwMAAMgPTB++N2vWLAUEBMjd3V3BwcHaunXrTetfuHBBffv2Vbly5eTm5qa7775bq1evdlC0AAAAWbNx48Ys/W3YsCFH26cNBQAACjpTe0otX75cERERmjNnjoKDgzVt2jSFhoZq//79Klu2bIb6ycnJevjhh1W2bFmtWLFC5cuX1z///KMSJUo4PngAAACT0IYCAACFgalJqSlTpqhPnz4KCwuTJM2ZM0erVq3SggULNGTIkAz1FyxYoHPnzmnLli0qUqSIJCkgIMCRIQMAAOTItm3b9Omnn+ro0aNKTk62WfbFF19ka1u0oQAAQGFg2vC95ORkbd++XSEhIf8XjJOTQkJCFBMTY3edr7/+Wk2aNFHfvn3l6+urunXraty4cUpNTc30ea5cuaKEhASbPwAAAEdatmyZmjZtqr179+rLL7/U1atXtWfPHm3YsEHe3t7Z2hZtKAAAUFiYlpQ6c+aMUlNT5evra1Pu6+ur2NhYu+v8/fffWrFihVJTU7V69WoNHz5c77zzjt56661MnycyMlLe3t7Wv4oVK+bqfgAAANzKuHHjNHXqVH3zzTdydXXVu+++q3379qlr16666667srUt2lAAAKCwMH2i8+xIS0tT2bJlNXfuXAUFBalbt2568803NWfOnEzXGTp0qOLj461/x44dc2DEAAAA1+6417ZtW0mSq6urEhMTZbFYNGjQIM2dOzfPn582FAAAyI9Mm1PKx8dHzs7OiouLsymPi4uTn5+f3XXKlSunIkWKyNnZ2VpWq1YtxcbGKjk5Wa6urhnWcXNzk5ubW+4GDwAAkA0lS5bUxYsXJUnly5fXH3/8oXr16unChQtKSkrK1rZoQwEAgMLCtJ5Srq6uCgoKUnR0tLUsLS1N0dHRatKkid11mjVrpkOHDiktLc1aduDAAZUrV85uYwoAACA/eOCBB7Ru3TpJUpcuXTRgwAD16dNH3bt3V6tWrbK1LdpQAACgsDB1+F5ERITmzZunxYsXa+/evXrppZeUmJhovZNMz549NXToUGv9l156SefOndOAAQN04MABrVq1SuPGjVPfvn3N2gUAAIBbmjlzpp544glJ0ptvvqmIiAjFxcWpc+fOmj9/fra3RxsKAAAUBqYN35Okbt266fTp0xoxYoRiY2MVGBioqKgo68SdR48elZPT/+XNKlasqDVr1mjQoEGqX7++ypcvrwEDBuj11183axcAAABuqVSpUtb/nZycNGTIkNvaHm0oAABQGFgMwzCyu9LGjRvVsmXLvIgnzyUkJMjb21vx8fHy8vIyOxwAAJDP5VbbITU1VV9++aX27t0rSapdu7Y6duwoFxdTfyPMMke0oQKGrMqT7QIAgIyOjG+bZ9vOarshR62g1q1bq0KFCgoLC1OvXr24RTAAAMBN7NmzRx06dFBsbKxq1KghSZowYYLKlCmjb775RnXr1jU5QgAAAMfL0ZxSx48fV3h4uFasWKEqVaooNDRUn376qZKTk3M7PgAAgALvueeeU506dfTvv/9qx44d2rFjh44dO6b69evr+eefNzs8AAAAU+QoKeXj46NBgwZp586d+uWXX3T33Xfr5Zdflr+/v/r3769du3bldpwAAAAF1s6dOxUZGamSJUtay0qWLKm3335bv/32m4mRAQAAmOe27753zz33aOjQoQoPD9elS5e0YMECBQUFqXnz5tqzZ09uxAgAAFCg3X333YqLi8tQfurUKVWrVs2EiAAAAMyX46TU1atXtWLFCj366KOqVKmS1qxZo5kzZyouLk6HDh1SpUqV1KVLl9yMFQAAoMBISEiw/kVGRqp///5asWKF/v33X/37779asWKFBg4cqAkTJpgdKgAAgClyNNF5v3799Mknn8gwDD399NOaOHGizQSdRYsW1eTJk+Xv759rgQIAABQkJUqUkMVisT42DENdu3a1lqXfALl9+/ZKTU01JUYAAAAz5Sgp9eeff2rGjBl67LHH5ObmZreOj4+PNm7ceFvBAQAAFFS0gwAAAG4uR0mpkSNHqmnTpnJxsV09JSVFW7Zs0QMPPCAXFxe1aNEiV4IEAAAoaGgHAQAA3FyOklItW7bUyZMnVbZsWZvy+Ph4tWzZki7oAAAAN7hw4YLmz5+vvXv3SpLq1KmjZ599Vt7e3iZHBgAAYI4cTXRuGIbNHAnpzp49q6JFi952UAAAAIXJtm3bVLVqVU2dOlXnzp3TuXPnNGXKFFWtWlU7duwwOzwAAABTZKun1GOPPSZJslgseuaZZ2zmk0pNTdXvv/+upk2b5m6EAAAABdygQYPUoUMHzZs3zzr9QUpKip577jkNHDhQmzdvNjlCAAAAx8tWUiq9e7lhGCpevLg8PDysy1xdXXXfffepT58+uRshAABAAbdt2zabhJQkubi4aPDgwWrUqJGJkQEAAJgnW0mphQsXSpICAgL06quvMlQPAAAgC7y8vHT06FHVrFnTpvzYsWMqXry4SVEBAACYK0dzSo0cOZKEFAAAQBZ169ZNvXv31vLly3Xs2DEdO3ZMy5Yt03PPPafu3bubHR4AAIApstxT6p577lF0dLRKliyphg0b2p3oPB0TdgIAAPyfyZMny2KxqGfPnkpJSZEkFSlSRC+99JLGjx9vcnQAAADmyHJSqmPHjtaJzTt16pRX8QAAABQqqamp+vnnnzVq1ChFRkbqr7/+kiRVrVpVnp6eJkcHAABgniwnpUaOHGn3fwAAAGTO2dlZjzzyiPbu3avKlSurXr16ZocEAACQL+RoTikAAABkXd26dfX333+bHQYAAEC+kuWeUiVLlrzpPFLXO3fuXI4DAgAAKGzeeustvfrqqxo7dqyCgoIy3DDGy8vLpMgAAADMk+Wk1LRp0/IwDAAAgMLr0UcflSR16NDB5kc+wzBksViUmppqVmgAAACmyXJSqlevXnkZBwAAQKG1ceNGs0MAAADId7KclEpISLB2LU9ISLhpXbqgAwAAXGMYhvz9/ZWcnKwaNWrIxSXLzS8AAIBCLVtzSp08eVJly5ZViRIl7M4vRRd0AACA/3P48GF16NBBf/75pySpQoUK+vzzz9WoUSOTIwMAADBflpNSGzZsUKlSpSTRBR0AACArXnvtNaWkpOjDDz+Uu7u7Jk+erBdeeEHbt283OzQAAADTZTkp1aJFC7v/AwAAwL4ff/xRK1as0P333y9Juu+++1ShQgUlJiZmuAMfAADAnSbHkxqcP39e8+fP1969eyVJtWvXVlhYmLU3FQAAwJ3u1KlTql69uvVxuXLl5OHhoVOnTqly5comRgYAAGA+p5ystHnzZgUEBGj69Ok6f/68zp8/r+nTp6ty5cravHlzbscIAABQIFksFl26dEkJCQnWPycnJ128eNGmDAAA4E6Uo55Sffv2Vbdu3TR79mw5OztLklJTU/Xyyy+rb9++2r17d64GCQAAUBAZhqG77747Q1nDhg2t/3OTGAAAcKfKUVLq0KFDWrFihTUhJUnOzs6KiIjQkiVLci04AACAgoybwwAAAGQuR0mpe+65R3v37lWNGjVsyvfu3asGDRrkSmAAAAAFHTeHAQAAyFyWk1K///679f/+/ftrwIABOnTokO677z5J0s8//6xZs2Zp/PjxuR8lAAAAAAAACpUsJ6UCAwNlsVhkGIa1bPDgwRnqPfnkk+rWrVvuRAcAAAAAAIBCKctJqcOHD+dlHAAAAAAAALiDZDkpValSpbyMAwAAAAAAAHeQHE10nu7PP//U0aNHlZycbFPeoUOH2woKAAAAAAAAhVuOklJ///23/ve//2n37t0280xZLBZJUmpqau5FCAAAUAA99thjWa77xRdf5GEkAAAA+ZNTTlYaMGCAKleurFOnTsnT01N79uzR5s2b1ahRI23atCmXQwQAACh4vL29rX9eXl6Kjo7Wtm3brMu3b9+u6OhoeXt7mxglAACAeXLUUyomJkYbNmyQj4+PnJyc5OTkpPvvv1+RkZHq37+/fvvtt9yOEwAAoEBZuHCh9f/XX39dXbt21Zw5c+Ts7CzpWs/yl19+WV5eXmaFCAAAYKoc9ZRKTU1V8eLFJUk+Pj46ceKEpGuToe/fvz/3ogMAACgEFixYoFdffdWakJIkZ2dnRUREaMGCBSZGBgAAYJ4c9ZSqW7eudu3apcqVKys4OFgTJ06Uq6ur5s6dqypVquR2jAAAAAVaSkqK9u3bpxo1atiU79u3T2lpaSZFBQAAYK4cJaWGDRumxMRESdKYMWPUrl07NW/eXKVLl9by5ctzNUAAAICCLiwsTL1799Zff/2lxo0bS5J++eUXjR8/XmFhYSZHBwAAYI4cJaVCQ0Ot/1erVk379u3TuXPnVLJkSesd+AAAAHDN5MmT5efnp3feeUcnT56UJJUrV06vvfaaXnnlFZOjAwAAMEeOklLXO3bsmCSpYsWKtx0MAABAYeTk5KTBgwdr8ODBSkhIkCQmOAcAAHe8HE10npKSouHDh8vb21sBAQEKCAiQt7e3hg0bpqtXr+Z2jAAAAAVeSkqK1q9fr08++cTas/zEiRO6dOmSyZEBAACYI0c9pfr166cvvvhCEydOVJMmTSRJMTExGjVqlM6ePavZs2fnapAAAAAF2T///KPWrVvr6NGjunLlih5++GEVL15cEyZM0JUrVzRnzhyzQwQAAHC4HCWlPv74Yy1btkxt2rSxltWvX18VK1ZU9+7dSUoBAABcZ8CAAWrUqJF27dql0qVLW8v/97//qU+fPiZGBgAAYJ4cJaXc3NwUEBCQobxy5cpydXW93ZgAAAAKlR9++EFbtmzJ0E4KCAjQ8ePHTYoKAADAXDmaUyo8PFxjx47VlStXrGVXrlzR22+/rfDw8FwLDgAAoDBIS0tTampqhvJ///1XxYsXNyEiAAAA82W5p9Rjjz1m83j9+vWqUKGCGjRoIEnatWuXkpOT1apVq9yNEAAAoIB75JFHNG3aNM2dO1eSZLFYdOnSJY0cOVKPPvqoydEBAACYI8tJKW9vb5vHnTt3tnlcsWLF3IkIAACgkHnnnXcUGhqq2rVr67///tOTTz6pgwcPysfHR5988onZ4QEAAJgiy0mphQsX5mUcAAAAhVaFChW0a9cuLV++XLt27dKlS5fUu3dv9ejRQx4eHmaHBwAAYIocTXSe7vTp09q/f78kqUaNGipTpkyuBAUAAFDYuLi4qEePHurRo4fZoQAAAOQLOZroPDExUc8++6zKlSunBx54QA888ID8/f3Vu3dvJSUl5XaMAAAABZqzs7Natmypc+fO2ZTHxcXJ2dnZpKgAAADMlaOkVEREhL7//nt98803unDhgi5cuKCvvvpK33//vV555ZXcjhEAAKBAMwxDV65cUaNGjbRnz54MywAAAO5EOUpKff7555o/f77atGkjLy8veXl56dFHH9W8efO0YsWK3I4RAACgQLNYLPr888/Vvn17NWnSRF999ZXNMgAAgDtRjpJSSUlJ8vX1zVBetmxZhu8BAADcwDAMOTs7691339XkyZPVrVs3vfXWW/SSAgAAd7QcTXTepEkTjRw5UkuWLJG7u7sk6fLlyxo9erSaNGmSqwECAAAUJs8//7yqV6+uLl26aPPmzWaHAwAAYJocJaWmTZum1q1bq0KFCmrQoIEkadeuXXJ3d9eaNWtyNUAAAICCrlKlSjYTmrds2VI///yz2rdvb2JUAAAA5spRUqpevXo6ePCgPvroI+3bt0+S1L17d/Xo0UMeHh65GiAAAEBBd/jw4Qxl1apV02+//aa4uDgTIgIAADBftpNSV69eVc2aNfXtt9+qT58+eRETAADAHcHd3V2VKlUyOwwAAABTZDspVaRIEf333395EQsAAEChUapUKR04cEA+Pj4qWbLkTe+yd+7cOQdGBgAAkD/kaPhe3759NWHCBH3wwQdyccnRJnATs2bN0qRJkxQbG6sGDRpoxowZaty48S3XW7Zsmbp3766OHTtq5cqV1nLDMDRy5EjNmzdPFy5cULNmzTR79mxVr149D/cCAIA729SpU1W8eHFJ1+bjBAAAgK0cZZR+/fVXRUdHa+3atapXr56KFi1qs/yLL77IleDuRMuXL1dERITmzJmj4OBgTZs2TaGhodq/f7/Kli2b6XpHjhzRq6++qubNm2dYNnHiRE2fPl2LFy9W5cqVNXz4cIWGhurPP/+03j0RAADkrl69etn9HwAAANfkKClVokQJde7cObdjgaQpU6aoT58+CgsLkyTNmTNHq1at0oIFCzRkyBC766SmpqpHjx4aPXq0fvjhB124cMG6zDAMTZs2TcOGDVPHjh0lSUuWLJGvr69WrlypJ554Is/3CQCAO1FCQkKW63p5eeVhJAAAAPlTtpJSaWlpmjRpkg4cOKDk5GQ99NBDGjVqFHfcyyXJycnavn27hg4dai1zcnJSSEiIYmJiMl1vzJgxKlu2rHr37q0ffvjBZtnhw4cVGxurkJAQa5m3t7eCg4MVExNDUgoAgDxSokSJm84jJV378chisSg1NdVBUQEAAOQf2UpKvf322xo1apRCQkLk4eGh6dOn6/Tp01qwYEFexXdHOXPmjFJTU+Xr62tT7uvrq3379tld58cff9T8+fO1c+dOu8tjY2Ot27hxm+nLAABA7tu4caPZIQAAAORr2UpKLVmyRO+9955eeOEFSdL69evVtm1bffDBB3JycsqTAJG5ixcv6umnn9a8efPk4+NjdjgAAOA6LVq0MDsEAACAfC1bSamjR4/q0UcftT4OCQmRxWLRiRMnVKFChVwP7k7j4+MjZ2dnxcXF2ZTHxcXJz88vQ/2//vpLR44cUfv27a1laWlpkiQXFxft37/ful5cXJzKlStns83AwMA82AsAAJCZpKQkHT16VMnJyTbl9evXNykiAAAA82QrKZWSkpLhbm1FihTR1atXczWoO5Wrq6uCgoIUHR2tTp06SbqWZIqOjlZ4eHiG+jVr1tTu3bttyoYNG6aLFy/q3XffVcWKFVWkSBH5+fkpOjramoRKSEjQL7/8opdeeimvdwkAAEg6ffq0wsLC9N1339ldzpxSAADgTpStMXeGYeiZZ57RY489Zv3777//9OKLL9qUZdesWbMUEBAgd3d3BQcHa+vWrVlab9myZbJYLNYETmEQERGhefPmafHixdq7d69eeuklJSYmWu/G17NnT+tE6O7u7qpbt67NX4kSJVS8eHHVrVtXrq6uslgsGjhwoN566y19/fXX2r17t3r27Cl/f/9CddwAAMjPBg4cqAsXLuiXX36Rh4eHoqKitHjxYlWvXl1ff/11jrZJ+wkAABR02eop1atXrwxlTz311G0FsHz5ckVERGjOnDkKDg7WtGnTFBoaqv3796ts2bKZrnfkyBG9+uqrat68+W09f37TrVs3nT59WiNGjFBsbKwCAwMVFRVlnaj86NGj2Z6/a/DgwUpMTNTzzz+vCxcu6P7771dUVFSGXm8AACBvbNiwQV999ZUaNWokJycnVapUSQ8//LC8vLwUGRmptm3bZmt7tJ8AAEBhYDEMwzAzgODgYN17772aOXOmpGvD1SpWrKh+/fppyJAhdtdJTU3VAw88oGeffVY//PCDLly4oJUrV2bp+RISEuTt7a34+Hh5eXnl1m4AAIBCKjfaDl5eXvr9998VEBCgSpUq6eOPP1azZs10+PBh1alTR0lJSdnanqPbT5Jj2lABQ1blyXYBAEBGR8Zn70ex7Mhqu8HUW+YlJydr+/btCgkJsZY5OTkpJCREMTExma43ZswYlS1bVr1793ZEmAAAALelRo0a2r9/vySpQYMGev/993X8+HHNmTPH5kYkWUH7CQAAFBbZGr6X286cOaPU1FTr0LR0vr6+2rdvn911fvzxR82fP187d+7M0nNcuXJFV65csT5OSEjIcbxZdfSodOZMnj+NaXx8pLvuMjsKAAAKjgEDBujkyZOSpJEjR6p169b66KOP5OrqqkWLFmVrW45oP0nmtKEAAMCdxdSkVHZdvHhRTz/9tObNmycfH58srRMZGanRo0fncWT/5+hRqUYN6b//HPaUDufuLu3fT2IKAICsun4OzqCgIP3zzz/at2+f7rrrriy3aXIqJ+0nyfFtKAAAcOcxNSnl4+MjZ2dnxcXF2ZTHxcXJz88vQ/2//vpLR44cUfv27a1laWlpkiQXFxft379fVatWtVln6NChioiIsD5OSEhQxYoVc3M3bJw5U7gTUtK1/TtzhqQUAAA55enpqXvuuSdH6zqi/SQ5vg0FAADuPKYmpVxdXRUUFKTo6GjrbYnT0tIUHR2t8PDwDPVr1qyp3bt325QNGzZMFy9e1Lvvvmu3oeTm5iY3N7c8iR8AACArDMPQihUrtHHjRp06dcqaFEr3xRdfZHlbjmg/SbShAABA3jN9+F5ERIR69eqlRo0aqXHjxpo2bZoSExMVFhYmSerZs6fKly+vyMhIubu7q27dujbrlyhRQpIylAMAAOQXAwcO1Pvvv6+WLVvK19dXFovltrZH+wkAABQGpielunXrptOnT2vEiBGKjY1VYGCgoqKirJN3Hj16VE5Opt4kEAAA4LYsXbpUX3zxhR599NFc2R7tJwAAUBhYDMMwzA7CkRISEuTt7a34+Hh5eXnl+vZ37JCCgnJ9s/nO9u1SDqfCAACgQMmNtkPlypX13XffqWbNmrkcnePkdRtKkgKGrMqT7QIAgIyOjG+bZ9vOaruBn9AAAADy2KhRozR69GhdvnzZ7FAAAADyDdOH7wEAABR2Xbt21SeffKKyZcsqICBARYoUsVm+Y8cOkyIDAAAwD0kpAACAPNarVy9t375dTz31VK5MdA4AAFAYkJQCAADIY6tWrdKaNWt0//33mx0KAABAvsGcUgAAAHmsYsWKeTY5OAAAQEFFUgoAACCPvfPOOxo8eLCOHDlidigAAAD5BsP3AAAA8thTTz2lpKQkVa1aVZ6enhkmOj937pxJkQEAAJiHpBQAAEAemzZtmtkhAAAA5DskpQAAAPLQ1atX9f3332v48OGqXLmy2eEAAADkG8wpBQAAkIeKFCmizz//3OwwAAAA8h2SUgAAAHmsU6dOWrlypdlhAAAA5CsM3wMAAMhj1atX15gxY/TTTz8pKChIRYsWtVnev39/kyIDAAAwD0kpAACAPDZ//nyVKFFC27dv1/bt222WWSwWklIAAOCORFIKAAAgjx0+fNjsEAAAAPId5pQCAABwIMMwZBiG2WEAAACYjqQUAACAAyxZskT16tWTh4eHPDw8VL9+fS1dutTssAAAAEzD8D0AAIA8NmXKFA0fPlzh4eFq1qyZJOnHH3/Uiy++qDNnzmjQoEEmRwgAAOB4JKUAAADy2IwZMzR79mz17NnTWtahQwfVqVNHo0aNIikFAADuSAzfAwAAyGMnT55U06ZNM5Q3bdpUJ0+eNCEiAAAA85GUAgAAyGPVqlXTp59+mqF8+fLlql69ugkRAQAAmI/hewAAAHls9OjR6tatmzZv3mydU+qnn35SdHS03WQVAADAnYCeUgAAAHmsc+fO+uWXX+Tj46OVK1dq5cqV8vHx0datW/W///3P7PAAAABMQU8pAAAABwgKCtKHH35odhgAAAD5Bj2lAAAAAAAA4HD0lAIAAMgjTk5OslgsN61jsViUkpLioIgAAADyD5JSAAAAeeTLL7/MdFlMTIymT5+utLQ0B0YEAACQf5CUAgAAyCMdO3bMULZ//34NGTJE33zzjXr06KExY8aYEBkAAID5mFMKAADAAU6cOKE+ffqoXr16SklJ0c6dO7V48WJVqlTJ7NAAAABMQVIKAAAgD8XHx+v1119XtWrVtGfPHkVHR+ubb75R3bp1zQ4NAADAVAzfAwAAyCMTJ07UhAkT5Ofnp08++cTucD4AAIA7FUkpAACAPDJkyBB5eHioWrVqWrx4sRYvXmy33hdffOHgyAAAAMxHUgoAACCP9OzZUxaLxewwAAAA8iWSUgAAAHlk0aJFZocAAACQbzHROQAAAAAAAByOpBQAAAAAAAAcjqQUAAAAAAAAHI6kFAAAAAAAAByOpBQAAAAAAAAcjqQUAAAAAAAAHI6kFAAAAAAAAByOpBQAAAAAAAAcjqQUAAAAAAAAHI6kFAAAAAAAAByOpBQAAAAAAAAcjqQUAAAAAAAAHI6kFAAAAAAAAByOpBQAAAAAAAAcjqQUAAAAAAAAHI6kFAAAAAAAAByOpBQAAAAAAAAcjqQUAAAAAAAAHI6kFAAAAAAAAByOpBQAAAAAAAAcjqQUAAAAAAAAHI6kFAAAAAAAAByOpBQAAAAAAAAcjqQUAAAAAAAAHI6kFAAAAAAAAByOpBQAAAAAAAAcjqQUAAAAAAAAHI6kFAAAAAAAAByOpBQAAAAAAAAcjqQUCoxZs2YpICBA7u7uCg4O1tatWzOtO2/ePDVv3lwlS5ZUyZIlFRISkqG+YRgaMWKEypUrJw8PD4WEhOjgwYN5vRsAAAAAAEAkpVBALF++XBERERo5cqR27NihBg0aKDQ0VKdOnbJbf9OmTerevbs2btyomJgYVaxYUY888oiOHz9urTNx4kRNnz5dc+bM0S+//KKiRYsqNDRU//33n6N2CwAAAACAOxZJKRQIU6ZMUZ8+fRQWFqbatWtrzpw58vT01IIFC+zW/+ijj/Tyyy8rMDBQNWvW1AcffKC0tDRFR0dLutZLatq0aRo2bJg6duyo+vXra8mSJTpx4oRWrlzpwD0DAAAAAODORFIK+V5ycrK2b9+ukJAQa5mTk5NCQkIUExOTpW0kJSXp6tWrKlWqlCTp8OHDio2Ntdmmt7e3goODs7xNAAAAAACQcySlkO+dOXNGqamp8vX1tSn39fVVbGxslrbx+uuvy9/f35qESl/vdrYJAAAAAAByzsXsAIC8Nn78eC1btkybNm2Su7u72eEAAAAAAADRUwoFgI+Pj5ydnRUXF2dTHhcXJz8/v5uuO3nyZI0fP15r165V/fr1reXp6+VkmwAAAAAA4PaRlEK+5+rqqqCgIOsk5ZKsk5Y3adIk0/UmTpyosWPHKioqSo0aNbJZVrlyZfn5+dlsMyEhQb/88stNtwkAAAAAAHJHvkhKzZo1SwEBAXJ3d1dwcLC2bt2aad158+apefPmKlmypEqWLKmQkJCb1kfhEBERoXnz5mnx4sXau3evXnrpJSUmJiosLEyS1LNnTw0dOtRaf8KECRo+fLgWLFiggIAAxcbGKjY2VpcuXZIkWSwWDRw4UG+99Za+/vpr7d69Wz179pS/v786depkxi4CAJAttJ8AAEBBZ3pSavny5YqIiNDIkSO1Y8cONWjQQKGhoTp16pTd+ps2bVL37t21ceNGxcTEqGLFinrkkUd0/PhxB0cOR+rWrZsmT56sESNGKDAwUDt37lRUVJR1ovKjR4/q5MmT1vqzZ89WcnKyHn/8cZUrV876N3nyZGudwYMHq1+/fnr++ed177336tKlS4qKimLeKQBAvkf7CQAAFAYWwzAMMwMIDg7Wvffeq5kzZ0q6NiyrYsWK6tevn4YMGXLL9VNTU1WyZEnNnDlTPXv2vGX9hIQEeXt7Kz4+Xl5eXrcd/4127JCCgnJ9s/nO9u3SPfeYHQUAAHkvr9sOOeHo9pPkmOMQMGRVnmwXAABkdGR82zzbdlbbDab2lEpOTtb27dsVEhJiLXNyclJISIhiYmKytI2kpCRdvXpVpUqVyqswAQAA8g3aTwAAoLBwMfPJz5w5o9TUVOsQrHS+vr7at29flrbx+uuvy9/f36Zhdr0rV67oypUr1scJCQk5Dxi3LT4+XklJSWaHkWc8PT3l7e1tdhgAgELMEe0niTYUAADIe6YmpW7X+PHjtWzZMm3atCnTeYAiIyM1evRoB0cGe+Lj4zVz5kylpKSYHUqecXFxUXh4OIkpAEC+lZX2k0QbCgAA5D1Th+/5+PjI2dlZcXFxNuVxcXHy8/O76bqTJ0/W+PHjtXbtWtWvXz/TekOHDlV8fLz179ixY7kSO7IvKSmpUCekJCklJaVQ9wQDAJjPEe0niTYUAADIe6YmpVxdXRUUFKTo6GhrWVpamqKjo9WkSZNM15s4caLGjh2rqKgoNWrU6KbP4ebmJi8vL5s/AACAgsoR7SeJNhQAAMh7pg/fi4iIUK9evdSoUSM1btxY06ZNU2JiosLCwiRJPXv2VPny5RUZGSlJmjBhgkaMGKGPP/5YAQEBio2NlSQVK1ZMxYoVM20/AAAAHIX2EwAAKAxMT0p169ZNp0+f1ogRIxQbG6vAwEBFRUVZJ+88evSonJz+r0PX7NmzlZycrMcff9xmOyNHjtSoUaMcGToAAIApaD8BAIDCwPSklCSFh4crPDzc7rJNmzbZPD5y5EjeBwQAAJDP0X4CAAAFnalzSgEAAAAAAODORFIKKARmzZqlgIAAubu7Kzg4WFu3bs207p49e9S5c2cFBATIYrFo2rRpGeqMGjVKFovF5q9mzZp5uAcAAAAAgDsNSSmggFu+fLkiIiI0cuRI7dixQw0aNFBoaKhOnTplt35SUpKqVKmi8ePH3/TW4XXq1NHJkyetfz/++GNe7QIAAAAA4A5EUgoo4KZMmaI+ffooLCxMtWvX1pw5c+Tp6akFCxbYrX/vvfdq0qRJeuKJJ+Tm5pbpdl1cXOTn52f98/HxyatdAAAAAADcgUhKAQVYcnKytm/frpCQEGuZk5OTQkJCFBMTc1vbPnjwoPz9/VWlShX16NFDR48evd1wAQAAAACwIikFFGBnzpxRamqq9Rbg6Xx9fRUbG5vj7QYHB2vRokWKiorS7NmzdfjwYTVv3lwXL1683ZABAAAAAJAkuZgdAID8p02bNtb/69evr+DgYFWqVEmffvqpevfubWJkAAAAAIDCgp5SQAHm4+MjZ2dnxcXF2ZTHxcXddBLz7CpRooTuvvtuHTp0KNe2CQAAAAC4s5GUAgowV1dXBQUFKTo62lqWlpam6OhoNWnSJNee59KlS/rrr79Urly5XNsmAAAAAODOxvA9oICLiIhQr1691KhRIzVu3FjTpk1TYmKiwsLCJEk9e/ZU+fLlFRkZKena5Oh//vmn9f/jx49r586dKlasmKpVqyZJevXVV9W+fXtVqlRJJ06c0MiRI+Xs7Kzu3bubs5MAAAAAgEKHpBRQwHXr1k2nT5/WiBEjFBsbq8DAQEVFRVknPz969KicnP6vU+SJEyfUsGFD6+PJkydr8uTJatGihTZt2iRJ+vfff9W9e3edPXtWZcqU0f3336+ff/5ZZcqUcei+AQAAAAAKL5JSQCEQHh6u8PBwu8vSE03pAgICZBjGTbe3bNmy3AoNAAAAAAC7mFMKAAAAAAAADkdPKSAfiI+PV1JSktlh5BlPT095e3ubHQYAAAAAIB8hKQWYLD4+XjNnzlRKSorZoeQZFxcXhYeHk5gCAAAAAFgxfA8wWVJSUqFOSElSSkpKoe4JBgAAAADIPpJSAAAAAAAAcDiSUgAAAAAAAHA4klIAAAAAAABwOJJSAAAAAAAAcDiSUgAAAAAAAHA4klIACq1Zs2YpICBA7u7uCg4O1tatWzOtu2fPHnXu3FkBAQGyWCyaNm3abW8TAAAAAJA5klIACqXly5crIiJCI0eO1I4dO9SgQQOFhobq1KlTdusnJSWpSpUqGj9+vPz8/HJlmwAAAACAzJGUAlAoTZkyRX369FFYWJhq166tOXPmyNPTUwsWLLBb/95779WkSZP0xBNPyM3NLVe2CQAAAADIHEkpAIVOcnKytm/frpCQEGuZk5OTQkJCFBMTk2+2CQAAAAB3MpJSAAqdM2fOKDU1Vb6+vjblvr6+io2NzTfbBAAAAIA7GUkpAAAAAAAAOBxJKQCFjo+Pj5ydnRUXF2dTHhcXl+kk5mZsEwAAAADuZCSlABQ6rq6uCgoKUnR0tLUsLS1N0dHRatKkSb7ZJgAAAADcyUhKASiUIiIiNG/ePC1evFh79+7VSy+9pMTERIWFhUmSevbsqaFDh1rrJycna+fOndq5c6eSk5N1/Phx7dy5U4cOHcryNguKWbNmKSAgQO7u7goODtbWrVtvWv+zzz5TzZo15e7urnr16mn16tU2yy9duqTw8HBVqFBBHh4e1jsTAgAAAMDNuJgdAADkhW7duun06dMaMWKEYmNjFRgYqKioKOtE5UePHpWT0//l5U+cOKGGDRtaH0+ePFmTJ09WixYttGnTpixtsyBYvny5IiIiNGfOHAUHB2vatGkKDQ3V/v37VbZs2Qz1t2zZou7duysyMlLt2rXTxx9/rE6dOmnHjh2qW7eupGvJug0bNujDDz9UQECA1q5dq5dffln+/v7q0KGDo3cRAAAAQAFhMQzDMDsIR0pISJC3t7fi4+Pl5eWV69vfsUMKCsr1zeY727dL99yTvXVOnjypuXPn5k1A+cjzzz+vcuXKZbk+xwWOFBwcrHvvvVczZ86UdG0IYsWKFdWvXz8NGTIkQ/1u3bopMTFR3377rbXsvvvuU2BgoLU3VN26ddWtWzcNHz7cWicoKEht2rTRW2+9lcd7BOS9vG47FBSOOA4BQ1blyXYBAEBGR8a3zbNtZ7XdwPA9ALhDJCcna/v27QoJCbGWOTk5KSQkRDExMXbXiYmJsakvSaGhoTb1mzZtqq+//lrHjx+XYRjauHGjDhw4oEceeSRvdgQAAABAocDwPQD5Vnx8vJKSkswOI095enrK29vbIc915swZpaamZhhu6Ovrq3379tldJzY21m792NhY6+MZM2bo+eefV4UKFeTi4iInJyfNmzdPDzzwQO7vBAAAAIBCg6QUgHwpPj5eM2fOVEpKitmh5CkXFxeFh4c7LDGVF2bMmKGff/5ZX3/9tSpVqqTNmzerb9++8vf3z9DLCgAAAADSkZQCkC8lJSUV+oSUJKWkpCgpKckhSSkfHx85OzsrLi7OpjwuLk5+fn521/Hz87tp/cuXL+uNN97Ql19+qbZtr41Jr1+/vnbu3KnJkyeTlAIAAACQKeaUAoA7hKurq4KCghQdHW0tS0tLU3R0tJo0aWJ3nSZNmtjUl6R169ZZ61+9elVXr161uZOhJDk7OystLS2X9wAAAABAYUJPKQC4g0RERKhXr15q1KiRGjdurGnTpikxMVFhYWGSpJ49e6p8+fKKjIyUJA0YMEAtWrTQO++8o7Zt22rZsmXatm2b9Y6RXl5eatGihV577TV5eHioUqVK+v7777VkyRJNmTLFtP0EAAAAkP+RlAKAO0i3bt10+vRpjRgxQrGxsQoMDFRUVJR1MvOjR4/a9Hpq2rSpPv74Yw0bNkxvvPGGqlevrpUrV6pu3brWOsuWLdPQoUPVo0cPnTt3TpUqVdLbb7+tF1980eH7BwAAAKDgICkFAHeY8PBwhYeH2122adOmDGVdunRRly5dMt2en5+fFi5cmFvhAQAAALhDMKcUAAAAAAAAHI6eUgBQAMXHxyspKcnsMPKMp6enQ+5ICAAAAMA8JKUAoICJj4/XzJkzlZKSYnYoecbFxUXh4eEOT0zNmjVLkyZNUmxsrBo0aKAZM2aocePGmdb/7LPPNHz4cB05ckTVq1fXhAkT9Oijj1qXP/PMM1q8eLHNOqGhoYqKisqzfQAAAAAKCobvAUABk5SUVKgTUpKUkpLi8J5gy5cvV0REhEaOHKkdO3aoQYMGCg0N1alTp+zW37Jli7p3767evXvrt99+U6dOndSpUyf98ccfNvVat26tkydPWv8++eQTR+wOAAAAkO+RlAIAQNKUKVPUp08fhYWFqXbt2pozZ448PT21YMECu/XfffddtW7dWq+99ppq1aqlsWPH6p577tHMmTNt6rm5ucnPz8/6V7JkSUfsDgAAAJDvkZQCANzxkpOTtX37doWEhFjLnJycFBISopiYGLvrxMTE2NSXrg3Nu7H+pk2bVLZsWdWoUUMvvfSSzp49m/s7AAAAABRAJKUAAHe8M2fOKDU1Vb6+vjblvr6+io2NtbtObGzsLeu3bt1aS5YsUXR0tCZMmKDvv/9ebdq0UWpqau7vBAAAAFDAMNE5AAB55IknnrD+X69ePdWvX19Vq1bVpk2b1KpVKxMjAwAAAMxHTykAwB3Px8dHzs7OiouLsymPi4uTn5+f3XX8/PyyVV+SqlSpIh8fHx06dOj2gwYAAAAKOJJSAIA7nqurq4KCghQdHW0tS0tLU3R0tJo0aWJ3nSZNmtjUl6R169ZlWl+S/v33X509e1blypXLncABAACAAoykFAAAkiIiIjRv3jwtXrxYe/fu1UsvvaTExESFhYVJknr27KmhQ4da6w8YMEBRUVF65513tG/fPo0aNUrbtm1TeHi4JOnSpUt67bXX9PPPP+vIkSOKjo5Wx44dVa1aNYWGhpqyjwAAAEB+wpxSAABI6tatm06fPq0RI0YoNjZWgYGBioqKsk5mfvToUTk5/d9vOU2bNtXHH3+sYcOG6Y033lD16tW1cuVK1a1bV5Lk7Oys33//XYsXL9aFCxfk7++vRx55RGPHjpWbm5sp+wgAAADkJySlAAD4/8LDw609nW60adOmDGVdunRRly5d7Nb38PDQmjVrcjM8AAAAoFBh+B4AAAAAAAAcjp5SAIBCIz4+XklJSWaHkWc8PT3l7e3t8OedNWuWJk2apNjYWDVo0EAzZsxQ48aNM63/2Wefafjw4Tpy5IiqV6+uCRMm6NFHH5UkXb16VcOGDdPq1av1999/y9vbWyEhIRo/frz8/f0dtUsAAADIB0hKAQAKhfj4eM2cOVMpKSlmh5JnXFxcFB4e7tDE1PLlyxUREaE5c+YoODhY06ZNU2hoqPbv36+yZctmqL9lyxZ1795dkZGRateunT7++GN16tRJO3bsUN26dZWUlKQdO3Zo+PDhatCggc6fP68BAwaoQ4cO2rZtm8P2CwAAAOZj+B4AoFBISkoq1AkpSUpJSXF4T7ApU6aoT58+CgsLU+3atTVnzhx5enpqwYIFduu/++67at26tV577TXVqlVLY8eO1T333KOZM2dKkry9vbVu3Tp17dpVNWrU0H333aeZM2dq+/btOnr0qCN3DQAAACYjKQUAAOxKTk7W9u3bFRISYi1zcnJSSEiIYmJi7K4TExNjU1+SQkNDM60vXevlZrFYVKJEiVyJGwAAAAUDSSkAAGDXmTNnlJqaKl9fX5tyX19fxcbG2l0nNjY2W/X/++8/vf766+revbu8vLxyJ3AAAAAUCCSlAACAKa5evaquXbvKMAzNnj3b7HAAAADgYEx0DgAA7PLx8ZGzs7Pi4uJsyuPi4uTn52d3HT8/vyzVT09I/fPPP9qwYQO9pAAAAO5A9JQCAAB2ubq6KigoSNHR0daytLQ0RUdHq0mTJnbXadKkiU19SVq3bp1N/fSE1MGDB7V+/XqVLl06b3YAAAAA+Ro9pQAAQKYiIiLUq1cvNWrUSI0bN9a0adOUmJiosLAwSVLPnj1Vvnx5RUZGSpIGDBigFi1a6J133lHbtm21bNkybdu2TXPnzpV0LSH1+OOPa8eOHfr222+VmppqnW+qVKlScnV1NWdHAQAA4HAkpQAAQKa6deum06dPa8SIEYqNjVVgYKCioqKsk5kfPXpUTk7/1/G6adOm+vjjjzVs2DC98cYbql69ulauXKm6detKko4fP66vv/5akhQYGGjzXBs3btSDDz7okP0CAACA+UhKAQCAmwoPD1d4eLjdZZs2bcpQ1qVLF3Xp0sVu/YCAABmGkZvhAQAAoIBiTikAAAAAAAA4HD2lAAAo5OLj45WUlGR2GHnK09NT3t7eZocBAACAbCApBQBAIRYfH6+ZM2cqJSXF7FDylIuLi8LDw0lMAQAAFCAM3wMAoBBLSkoq9AkpSUpJSSn0vcEAAAAKG5JSAAAAAAAAcLh8kZSaNWuWAgIC5O7uruDgYG3duvWm9T/77DPVrFlT7u7uqlevnlavXu2gSAEAAPIH2k8AAKCgMz0ptXz5ckVERGjkyJHasWOHGjRooNDQUJ06dcpu/S1btqh79+7q3bu3fvvtN3Xq1EmdOnXSH3/84eDIAQAAzEH7CQAAFAamJ6WmTJmiPn36KCwsTLVr19acOXPk6empBQsW2K3/7rvvqnXr1nrttddUq1YtjR07Vvfcc49mzpzp4MgBAADMQfsJAAAUBqYmpZKTk7V9+3aFhIRYy5ycnBQSEqKYmBi768TExNjUl6TQ0NBM6wMAABQmtJ8AAEBh4WLmk585c0apqany9fW1Kff19dW+ffvsrhMbG2u3fmxsrN36V65c0ZUrV6yP4+PjJUkJCQm3E3qmLl3Kk83mO5cuSdk9hBcvXtR///2XNwHlIxcvXlTRokWzVZ/jYr/+nXBcJI5NZjgu9nFcMpfdY5NV6W0GwzByfds54Yj2k+T4NpQkpV3hDooAADhKXn6nZ7X9ZGpSyhEiIyM1evToDOUVK1Y0IZrCo0ULsyPIv8aPH292CPkSxyVzHBv7OC72cVwyl9fH5uLFi/L29s7T58hPaEMBAFC4eU/L++e4VfvJ1KSUj4+PnJ2dFRcXZ1MeFxcnPz8/u+v4+fllq/7QoUMVERFhfZyWlqZz586pdOnSslgst7kH5ktISFDFihV17NgxeXl5mR1OvsKxsY/jYh/HJXMcG/s4LvYVxuNiGIYuXrwof39/s0OR5Jj2k1T421AAckdhPO8DuH1ZbT+ZmpRydXVVUFCQoqOj1alTJ0nXGjzR0dEKDw+3u06TJk0UHR2tgQMHWsvWrVunJk2a2K3v5uYmNzc3m7ISJUrkRvj5ipeXF18CmeDY2MdxsY/jkjmOjX0cF/sK23HJTz2kHNF+ku6cNhSA3FHYzvsAbl9W2k+mD9+LiIhQr1691KhRIzVu3FjTpk1TYmKiwsLCJEk9e/ZU+fLlFRkZKUkaMGCAWrRooXfeeUdt27bVsmXLtG3bNs2dO9fM3QAAAHAY2k8AAKAwMD0p1a1bN50+fVojRoxQbGysAgMDFRUVZZ2M8+jRo3Jy+r+bBDZt2lQff/yxhg0bpjfeeEPVq1fXypUrVbduXbN2AQAAwKFoPwEAgMLA9KSUJIWHh2fa3XzTpk0Zyrp06aIuXbrkcVQFg5ubm0aOHJmhez04NpnhuNjHcckcx8Y+jot9HBfHof0EID/gvA/gdliM/HJ/YwAAAAAAANwxnG5dBQAAAAAAAMhdJKUAAAAAAADgcCSlAAAAAAAA4HAkpQq4mJgYOTs7q23btmaHki8888wzslgs1r/SpUurdevW+v33380OLV+IjY1Vv379VKVKFbm5ualixYpq3769oqOjzQ7NFNe/X4oUKSJfX189/PDDWrBggdLS0swOz3Q3fp7S/1q3bm12aKbK7LgcOnTI7NBMFxsbqwEDBqhatWpyd3eXr6+vmjVrptmzZyspKcns8AAAuYxrEQC3i6RUATd//nz169dPmzdv1okTJ8wOJ19o3bq1Tp48qZMnTyo6OlouLi5q166d2WGZ7siRIwoKCtKGDRs0adIk7d69W1FRUWrZsqX69u1rdnimSX+/HDlyRN99951atmypAQMGqF27dkpJSTE7PNNd/3lK//vkk0/MDst09o5L5cqVzQ7LVH///bcaNmyotWvXaty4cfrtt98UExOjwYMH69tvv9X69evNDhEAkMu4FgFwu1zMDgA5d+nSJS1fvlzbtm1TbGysFi1apDfeeMPssEzn5uYmPz8/SZKfn5+GDBmi5s2b6/Tp0ypTpozJ0Znn5ZdflsVi0datW1W0aFFreZ06dfTss8+aGJm5rn+/lC9fXvfcc4/uu+8+tWrVSosWLdJzzz1ncoTmuv744P9wXDJ6+eWX5eLiom3bttmcY6pUqaKOHTuKm/0CQOHCtQiA3EBPqQLs008/Vc2aNVWjRg099dRTWrBgAY3+G1y6dEkffvihqlWrptKlS5sdjmnOnTunqKgo9e3b1+ZiMV2JEiUcH1Q+9tBDD6lBgwb64osvzA4FKBDOnj2rtWvXZnqOkSSLxeLgqAAAeYlrEQC5gaRUATZ//nw99dRTkq4NJYmPj9f3339vclTm+/bbb1WsWDEVK1ZMxYsX19dff63ly5fLyenOfbsfOnRIhmGoZs2aZodSYNSsWVNHjhwxOwzTXf95Sv8bN26c2WGZ7sbj0qVLF7NDMlX6OaZGjRo25T4+PtZj9Prrr5sUHQAgL3AtAiA3MHyvgNq/f7+2bt2qL7/8UpLk4uKibt26af78+XrwwQfNDc5kLVu21OzZsyVJ58+f13vvvac2bdpo69atqlSpksnRmYNfrbLPMAx6dsj285SuVKlSJkWTf9x4XDLrHXSn27p1q9LS0tSjRw9duXLF7HAAALmEaxEAuYWkVAE1f/58paSkyN/f31pmGIbc3Nw0c+ZMeXt7mxiduYoWLapq1apZH3/wwQfy9vbWvHnz9NZbb5kYmXmqV68ui8Wiffv2mR1KgbF37947fuJqKePnCddwXGxVq1ZNFotF+/fvtymvUqWKJMnDw8OMsAAAeYRrEQC55c4dz1SApaSkaMmSJXrnnXe0c+dO69+uXbvk7+/PnbFuYLFY5OTkpMuXL5sdimlKlSql0NBQzZo1S4mJiRmWX7hwwfFB5WMbNmzQ7t271blzZ7NDAQqE0qVL6+GHH9bMmTPtnmMAAIUH1yIAchM9pQqgb7/9VufPn1fv3r0z/ArRuXNnzZ8/Xy+++KJJ0ZnvypUrio2NlXRt+N7MmTN16dIltW/f3uTIzDVr1iw1a9ZMjRs31pgxY1S/fn2lpKRo3bp1mj17tvbu3Wt2iKZIf7+kpqYqLi5OUVFRioyMVLt27dSzZ0+zwzPd9Z+ndC4uLvLx8TEpIuRX7733npo1a6ZGjRpp1KhRql+/vpycnPTrr79q3759CgoKMjtEAEAu4FoEQG4iKVUAzZ8/XyEhIXa7xXbu3FkTJ07U77//rvr165sQnfmioqJUrlw5SVLx4sVVs2ZNffbZZ3f8+PYqVapox44devvtt/XKK6/o5MmTKlOmjIKCgjLMGXQnSX+/uLi4qGTJkmrQoIGmT5+uXr163dGT46e7/vOUrkaNGgwFRQZVq1bVb7/9pnHjxmno0KH6999/5ebmptq1a+vVV1/V/2vvXoOqqt4/gH8RAYFzFFAJBIQQQTRI0TS0EU0Y1LwOMZSMZuIdEGcwzEwhFZlMyMEgLzOhGE5mYDkZpiEoIooXbioKykUTGAJl9GgqwfN/4XjGIxePZZx+f7+fGV7svdba59mLF+fhYe21Fy9erOsQiYjoBeDfIkT0IukJd0AmIiIiIiIiIqJOxmUARERERERERETU6ViUIiIiIiIiIiKiTseiFBERERERERERdToWpYiIiIiIiIiIqNOxKEVERERERERERJ2ORSkiIiIiIiIiIup0LEoREREREREREVGnY1GKiIiIiIiIiIg6HYtSRET/gqysLOjp6aGxsVHXoRAREdF/TFRUFAYPHqzrMNr0X46tM4wZMwZLly7VdRhELw0WpYhI52praxEaGgpHR0cYGRnBzs4OkydPRkZGhlbjd+zYATMzs383yOc0cuRI1NTUoEePHroOhYiIiF6gP/74A4sWLULfvn1hZGQEKysr+Pr6IicnR2cx6aKQlJqaijFjxqBHjx5QKBRwd3fHmjVrcPPmTa2v4eDggE2bNv17Qf4NaWlpWLt2ra7DIHppsChFRDpVWVmJoUOH4siRI/jiiy9QXFyMgwcPYuzYsQgODtZ1eH9LU1MTDA0NYWVlBT09PV2HQ0RERC+Qn58f8vPzsXPnTpSWlmL//v0YM2YMGhoadB1ap1m5ciUCAgLwxhtvID09HefPn0dsbCwKCwuxa9cuXYf3tzx8+BAAYGFhAaVSqeNoiF4iQkSkQxMmTBAbGxtRqVSt2m7duiUiIrGxsfLaa6+JiYmJ2NrayqJFi+TOnTsiIpKZmSkANH4iIyNFROT+/fsSHh4uffr0ERMTExk+fLhkZmZqfMa2bdvE1tZWjI2NZdq0aRIbGys9evTQ6JOYmCiOjo5iYGAgzs7OkpycrNEOQBITE2Xy5MliYmIikZGR6rge34OISHZ2trz11lvSrVs3sbW1ldDQUI37TkhIECcnJzEyMhJLS0vx8/P7e5NKRERE/4pbt24JAMnKynpmv6CgIOnVq5colUoZO3asFBQUqNsjIyPl9ddf1xizfft2GTBggBgZGYmLi4skJCRotF+/fl3ee+89MTc3FxMTExk6dKicPHlSkpKSWuVCSUlJWsUhIhITEyOWlpaiUChkzpw5snz58laxPenUqVMCQDZt2tTuvYuIXLlyRaZMmSKWlpZiamoqw4YNk8OHD6v7eXl5tYr7sWflTNXV1TJx4kTp1q2bODg4SEpKitjb28uXX36p7lNVVSVTpkwRU1NTUSqV4u/vL7W1ta1+B9u3bxcHBwfR09NTxxUWFqbu96x8srKyUiZNmiRmZmZiYmIiAwcOlAMHDrQ7f0SkiSuliEhnbt68iYMHDyI4OBimpqat2h8/ktelSxfEx8fjwoUL2LlzJ44cOYKIiAgAjx6T27RpE7p3746amhrU1NRg2bJlAICQkBDk5ubiu+++Q1FREfz9/TF+/HiUlZUBAHJycrBw4UKEhYWhoKAAPj4+iI6O1ohh3759CAsLQ3h4OM6fP48FCxbgww8/RGZmpka/qKgoTJ8+HcXFxZgzZ06re7l69SrGjx8PPz8/FBUVYc+ePTh+/DhCQkIAAGfOnMGSJUuwZs0aXL58GQcPHsTo0aP/2QQTERHRC6VQKKBQKPDjjz/iwYMH7fbz9/dHXV0d0tPTcfbsWXh4eGDcuHHtPtqWkpKC1atXIzo6GiUlJVi/fj1WrVqFnTt3AgBUKhW8vLxw48YN7N+/H4WFhYiIiEBLSwsCAgIQHh6OQYMGqXOhgIAAreL4/vvvERUVhfXr1+PMmTOwtrZGYmJih3OQkpIChUKBxYsXt9n+OH9TqVSYOHEiMjIykJ+fj/Hjx2Py5Mm4du0agEePydna2mLNmjXquIFn50wAMGvWLFRXVyMrKwupqanYtm0b6urq1O0tLS2YOnUqbt68iaNHj+Lw4cMoLy9Xz8tjV65cQWpqKtLS0lBQUNDm/TwrnwwODsaDBw9w7NgxFBcX4/PPP4dCoehwDonoCbquihHRy+vxf9rS0tKea9zevXulZ8+e6uOkpKRWq5uqqqpEX19fbty4oXF+3LhxsmLFChERCQgIkHfeeUejPTAwUONaI0eOlHnz5mn08ff3l4kTJ6qPAcjSpUs1+jy9UiooKEjmz5+v0Sc7O1u6dOkif/75p6Smpkr37t3l9u3bz54AIiIi0pkffvhBzM3NpVu3bjJy5EhZsWKFFBYWqtuzs7Ole/fucv/+fY1x/fr1k61bt4pI65VS/fr1k927d2v0X7t2rXh6eoqIyNatW0WpVEpDQ0ObMbW18kqbODw9PWXx4sUa7SNGjOhwpdSECRPE3d293faODBo0SDZv3qw+fnp1k8izc6aSkhIBIKdPn1a3l5WVCQD1tQ4dOiT6+vpy7do1dZ8LFy4IAMnLyxORR3NmYGAgdXV1Gp/15EopbfJJNzc3iYqKev7JICIR4UopItIhEdGq32+//YZx48bBxsYGSqUSM2fORENDA+7du9fumOLiYjQ3N8PZ2Vn9X02FQoGjR4/i6tWrAIDLly9j+PDhGuOePi4pKcGoUaM0zo0aNQolJSUa54YNG9bhPRQWFmLHjh0asfj6+qKlpQUVFRXw8fGBvb09HB0dMXPmTKSkpHR4f0RERKQbfn5+qK6uxv79+zF+/HhkZWXBw8MDO3bsAPDoO1+lUqFnz54a3/sVFRXqHORJd+/exdWrVxEUFKTRf926der+BQUFGDJkCCwsLLSOU5s4SkpKMGLECI1xnp6eHV5X2/xNpVJh2bJlcHV1hZmZGRQKBUpKStQrpTqKu6Oc6fLly+jatSs8PDzUY5ycnGBubq4+LikpgZ2dHezs7NTnBg4cCDMzM40czt7eHr179243Fm3yySVLlmDdunUYNWoUIiMjUVRUpNX8ENEjXXUdABG9vPr37w89PT1cunSp3T6VlZWYNGkSFi1ahOjoaFhYWOD48eMICgrCw4cPYWJi0uY4lUoFfX19nD17Fvr6+hpt/8aS6rYeP3w6ngULFmDJkiWt2vr27QtDQ0OcO3cOWVlZOHToEFavXo2oqCicPn36P/dmQSIiopddt27d4OPjAx8fH6xatQpz585FZGQkZs+eDZVKBWtra2RlZbUa19Z3ukqlAgBs3769VYHocQ5jbGz83DE+bxzacnZ2xvHjx9HU1AQDA4N2+y1btgyHDx/Gxo0b4eTkBGNjY7z77rvqDcU7irujnKm0tPRvx/40bfK3Z+WTc+fOha+vLw4cOIBDhw4hJiYGsbGxCA0NfWFxEv1/xpVSRKQzFhYW8PX1RUJCAu7evduqvbGxEWfPnkVLSwtiY2Px5ptvwtnZGdXV1Rr9DA0N0dzcrHFuyJAhaG5uRl1dHZycnDR+rKysAAAuLi44ffq0xrinj11dXVu94jknJwcDBw58rnv18PDAxYsXW8Xi5OQEQ0NDAEDXrl3h7e2NDRs2oKioCJWVlThy5MhzfQ4RERF1voEDB6pzGQ8PD9TW1qJr166tvvN79erVauwrr7yCPn36oLy8vFX/V199FQDg7u6OgoKCdvekaisX0iYOV1dXnDp1SmPcyZMnO7zXGTNmQKVStbv3VGNjI4BH+dLs2bMxffp0uLm5wcrKCpWVlVrF3VHO5OLigr/++gv5+fnqMVeuXMGtW7fUx66urrh+/TquX7+uPnfx4kU0NjY+Vw6nTT4JAHZ2dli4cCHS0tIQHh6O7du3a/0ZRC87FqWISKcSEhLQ3NyM4cOHIzU1FWVlZSgpKUF8fDw8PT3h5OSEpqYmbN68GeXl5di1axe2bNmicQ0HBweoVCpkZGSgvr4e9+7dg7OzMwIDAzFr1iykpaWhoqICeXl5iImJwYEDBwAAoaGh+OWXXxAXF4eysjJs3boV6enp0NPTU1/7o48+wo4dO/D111+jrKwMcXFxSEtLU2+mrq3ly5fjxIkTCAkJQUFBAcrKyvDTTz+pN+38+eefER8fj4KCAlRVVSE5ORktLS1wcXH5hzNMREREL0pDQwPefvttfPvttygqKkJFRQX27t2LDRs2YOrUqQAAb29veHp6Ytq0aTh06BAqKytx4sQJrFy5EmfOnGnzup999hliYmIQHx+P0tJSFBcXIykpCXFxcQCA999/H1ZWVpg2bRpycnJQXl6O1NRU5ObmAniUC1VUVKCgoAD19fV48OCBVnGEhYXhm2++QVJSEkpLSxEZGYkLFy50OAcjRoxAREQEwsPDERERgdzcXFRVVSEjIwP+/v7qzdn79++v3kC8sLAQM2bMQEtLi8a1HBwccOzYMdy4cQP19fUAnp0zDRgwAN7e3pg/fz7y8vKQn5+P+fPnw9jYWJ3DeXt7w83NDYGBgTh37hzy8vIwa9YseHl5PXPLhSdpk08uXboUv/76KyoqKnDu3DlkZmbC1dVV688geunpelMrIqLq6moJDg4We3t7MTQ0FBsbG5kyZYr6dbtxcXFibW0txsbG4uvrK8nJyRqbiIuILFy4UHr27CkAJDIyUkREHj58KKtXrxYHBwcxMDAQa2trmT59uhQVFanHbdu2TWxsbMTY2FimTZsm69atEysrK434EhMTxdHRUQwMDMTZ2VmSk5M12gHIvn37NM49vdG5iEheXp74+PiIQqEQU1NTcXd3l+joaBF5tIGnl5eXmJubi7Gxsbi7u8uePXv+2cQSERHRC3X//n35+OOPxcPDQ3r06CEmJibi4uIin376qdy7d0/d7/bt2xIaGip9+vQRAwMDsbOzk8DAQPXG221tTJ6SkiKDBw8WQ0NDMTc3l9GjR2u8DKayslL8/Pyke/fuYmJiIsOGDZNTp06p4/Lz8xMzMzMBIElJSVrFISISHR0tvXr1EoVCIR988IFERER0uNH5Y3v27JHRo0eLUqlU5zVr1qxR5z4VFRUyduxYMTY2Fjs7O/nqq680NhEXEcnNzRV3d3cxMjKSJ/807ShnEnmUO06YMEGMjIzE3t5edu/eLZaWlrJlyxZ1n6qqKpkyZYqYmpqKUqkUf39/qa2tVbe39TsQkVYxPiufDAkJkX79+omRkZH07t1bZs6cKfX19c+cPyJ6RE9Ey53qiIheAvPmzcOlS5eQnZ2t61CIiIiISAu///477Ozs1C/HIaL/HdzonIheahs3boSPjw9MTU2Rnp6OnTt3trtHAhERERHp3pEjR6BSqeDm5oaamhpERETAwcEBo0eP1nVoRPScWJQiopdaXl4eNmzYgDt37sDR0RHx8fGYO3eursMiIiIionY0NTXhk08+QXl5OZRKJUaOHImUlJQO3wZIRP9NfHyPiIiIiIiIiIg6Hd++R0REREREREREnY5FKSIiIiIiIiIi6nQsShERERERERERUadjUYqIiIiIiIiIiDodi1JERERERERERNTpWJQiIiIiIiIiIqJOx6IUERERERERERF1OhaliIiIiIiIiIio07EoRUREREREREREne7/AFPDTRRASxFkAAAAAElFTkSuQmCC\n",
         "text/plain": "<Figure size 1200x500 with 2 Axes>"
        },
        "metadata": {},
        "output_type": "display_data"
       }
      ]
     }
    },
    "aefc8f12e3464164baaecbbe4da8e394": {
     "model_module": "@jupyter-widgets/base",
     "model_module_version": "1.2.0",
     "model_name": "LayoutModel",
     "state": {
      "_model_module": "@jupyter-widgets/base",
      "_model_module_version": "1.2.0",
      "_model_name": "LayoutModel",
      "_view_count": null,
      "_view_module": "@jupyter-widgets/base",
      "_view_module_version": "1.2.0",
      "_view_name": "LayoutView",
      "align_content": null,
      "align_items": null,
      "align_self": null,
      "border": null,
      "bottom": null,
      "display": null,
      "flex": null,
      "flex_flow": null,
      "grid_area": null,
      "grid_auto_columns": null,
      "grid_auto_flow": null,
      "grid_auto_rows": null,
      "grid_column": null,
      "grid_gap": null,
      "grid_row": null,
      "grid_template_areas": null,
      "grid_template_columns": null,
      "grid_template_rows": null,
      "height": null,
      "justify_content": null,
      "justify_items": null,
      "left": null,
      "margin": null,
      "max_height": null,
      "max_width": null,
      "min_height": null,
      "min_width": null,
      "object_fit": null,
      "object_position": null,
      "order": null,
      "overflow": null,
      "overflow_x": null,
      "overflow_y": null,
      "padding": null,
      "right": null,
      "top": null,
      "visibility": null,
      "width": null
     }
    },
    "b72fb479a8c04117a9a6fb129adc2173": {
     "model_module": "@jupyter-widgets/base",
     "model_module_version": "1.2.0",
     "model_name": "LayoutModel",
     "state": {
      "_model_module": "@jupyter-widgets/base",
      "_model_module_version": "1.2.0",
      "_model_name": "LayoutModel",
      "_view_count": null,
      "_view_module": "@jupyter-widgets/base",
      "_view_module_version": "1.2.0",
      "_view_name": "LayoutView",
      "align_content": null,
      "align_items": null,
      "align_self": null,
      "border": null,
      "bottom": null,
      "display": null,
      "flex": null,
      "flex_flow": null,
      "grid_area": null,
      "grid_auto_columns": null,
      "grid_auto_flow": null,
      "grid_auto_rows": null,
      "grid_column": null,
      "grid_gap": null,
      "grid_row": null,
      "grid_template_areas": null,
      "grid_template_columns": null,
      "grid_template_rows": null,
      "height": null,
      "justify_content": null,
      "justify_items": null,
      "left": null,
      "margin": null,
      "max_height": null,
      "max_width": null,
      "min_height": null,
      "min_width": null,
      "object_fit": null,
      "object_position": null,
      "order": null,
      "overflow": null,
      "overflow_x": null,
      "overflow_y": null,
      "padding": null,
      "right": null,
      "top": null,
      "visibility": null,
      "width": null
     }
    },
    "b9e074dab65848eeb4ebca0fddc8d3a0": {
     "model_module": "@jupyter-widgets/controls",
     "model_module_version": "1.5.0",
     "model_name": "SliderStyleModel",
     "state": {
      "_model_module": "@jupyter-widgets/controls",
      "_model_module_version": "1.5.0",
      "_model_name": "SliderStyleModel",
      "_view_count": null,
      "_view_module": "@jupyter-widgets/base",
      "_view_module_version": "1.2.0",
      "_view_name": "StyleView",
      "description_width": "",
      "handle_color": null
     }
    },
    "d623514e126646df898a5f7aec2dd301": {
     "model_module": "@jupyter-widgets/controls",
     "model_module_version": "1.5.0",
     "model_name": "VBoxModel",
     "state": {
      "_dom_classes": [
       "widget-interact"
      ],
      "_model_module": "@jupyter-widgets/controls",
      "_model_module_version": "1.5.0",
      "_model_name": "VBoxModel",
      "_view_count": null,
      "_view_module": "@jupyter-widgets/controls",
      "_view_module_version": "1.5.0",
      "_view_name": "VBoxView",
      "box_style": "",
      "children": [
       "IPY_MODEL_26cb4e59ae2940a29e1a67066b018dcc",
       "IPY_MODEL_6df52dc914e7448389c1dd77ecbb647f"
      ],
      "layout": "IPY_MODEL_94bdce3af34342dd940312132a86bc2c"
     }
    },
    "dea8d3e4653345fe92245fd81f856005": {
     "model_module": "@jupyter-widgets/controls",
     "model_module_version": "1.5.0",
     "model_name": "FloatSliderModel",
     "state": {
      "_dom_classes": [],
      "_model_module": "@jupyter-widgets/controls",
      "_model_module_version": "1.5.0",
      "_model_name": "FloatSliderModel",
      "_view_count": null,
      "_view_module": "@jupyter-widgets/controls",
      "_view_module_version": "1.5.0",
      "_view_name": "FloatSliderView",
      "continuous_update": true,
      "description": "p",
      "description_tooltip": null,
      "disabled": false,
      "layout": "IPY_MODEL_66d9e2aa978343d180663b662c8da24e",
      "max": 1,
      "min": 0.01,
      "orientation": "horizontal",
      "readout": true,
      "readout_format": ".2f",
      "step": 0.05,
      "style": "IPY_MODEL_dee3e55595974f9abcdebc3183726985",
      "value": 0.06
     }
    },
    "dee3e55595974f9abcdebc3183726985": {
     "model_module": "@jupyter-widgets/controls",
     "model_module_version": "1.5.0",
     "model_name": "SliderStyleModel",
     "state": {
      "_model_module": "@jupyter-widgets/controls",
      "_model_module_version": "1.5.0",
      "_model_name": "SliderStyleModel",
      "_view_count": null,
      "_view_module": "@jupyter-widgets/base",
      "_view_module_version": "1.2.0",
      "_view_name": "StyleView",
      "description_width": "",
      "handle_color": null
     }
    },
    "e9e03271e94c4d199af63019d2c08097": {
     "model_module": "@jupyter-widgets/base",
     "model_module_version": "1.2.0",
     "model_name": "LayoutModel",
     "state": {
      "_model_module": "@jupyter-widgets/base",
      "_model_module_version": "1.2.0",
      "_model_name": "LayoutModel",
      "_view_count": null,
      "_view_module": "@jupyter-widgets/base",
      "_view_module_version": "1.2.0",
      "_view_name": "LayoutView",
      "align_content": null,
      "align_items": null,
      "align_self": null,
      "border": null,
      "bottom": null,
      "display": null,
      "flex": null,
      "flex_flow": null,
      "grid_area": null,
      "grid_auto_columns": null,
      "grid_auto_flow": null,
      "grid_auto_rows": null,
      "grid_column": null,
      "grid_gap": null,
      "grid_row": null,
      "grid_template_areas": null,
      "grid_template_columns": null,
      "grid_template_rows": null,
      "height": null,
      "justify_content": null,
      "justify_items": null,
      "left": null,
      "margin": null,
      "max_height": null,
      "max_width": null,
      "min_height": null,
      "min_width": null,
      "object_fit": null,
      "object_position": null,
      "order": null,
      "overflow": null,
      "overflow_x": null,
      "overflow_y": null,
      "padding": null,
      "right": null,
      "top": null,
      "visibility": null,
      "width": null
     }
    }
   }
  }
 },
 "nbformat": 4,
 "nbformat_minor": 0
}
