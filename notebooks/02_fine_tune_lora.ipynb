{
 "cells": [
  {
   "cell_type": "code",
   "execution_count": 1,
   "metadata": {},
   "outputs": [],
   "source": [
    "import pandas as pd"
   ]
  },
  {
   "cell_type": "code",
   "execution_count": 2,
   "metadata": {},
   "outputs": [],
   "source": [
    "df = pd.read_parquet(\"../output/validated_dataset.parquet\")"
   ]
  },
  {
   "cell_type": "code",
   "execution_count": 3,
   "metadata": {},
   "outputs": [
    {
     "data": {
      "text/html": [
       "<div>\n",
       "<style scoped>\n",
       "    .dataframe tbody tr th:only-of-type {\n",
       "        vertical-align: middle;\n",
       "    }\n",
       "\n",
       "    .dataframe tbody tr th {\n",
       "        vertical-align: top;\n",
       "    }\n",
       "\n",
       "    .dataframe thead th {\n",
       "        text-align: right;\n",
       "    }\n",
       "</style>\n",
       "<table border=\"1\" class=\"dataframe\">\n",
       "  <thead>\n",
       "    <tr style=\"text-align: right;\">\n",
       "      <th></th>\n",
       "      <th>db_path</th>\n",
       "      <th>question</th>\n",
       "      <th>query</th>\n",
       "      <th>answer</th>\n",
       "      <th>is_valid</th>\n",
       "      <th>error</th>\n",
       "    </tr>\n",
       "  </thead>\n",
       "  <tbody>\n",
       "    <tr>\n",
       "      <th>0</th>\n",
       "      <td>/Users/michaelfrantz/dev/CalTech-CTME-AramCo-2...</td>\n",
       "      <td>How many orders were placed in the most recent...</td>\n",
       "      <td>SELECT COUNT(*) FROM orders WHERE order_date &gt;...</td>\n",
       "      <td>[[23]]</td>\n",
       "      <td>True</td>\n",
       "      <td>None</td>\n",
       "    </tr>\n",
       "    <tr>\n",
       "      <th>1</th>\n",
       "      <td>/Users/michaelfrantz/dev/CalTech-CTME-AramCo-2...</td>\n",
       "      <td>What is the total revenue generated from order...</td>\n",
       "      <td>SELECT SUM(total_amount) FROM orders WHERE ord...</td>\n",
       "      <td>[[14745.789999999999]]</td>\n",
       "      <td>True</td>\n",
       "      <td>None</td>\n",
       "    </tr>\n",
       "    <tr>\n",
       "      <th>2</th>\n",
       "      <td>/Users/michaelfrantz/dev/CalTech-CTME-AramCo-2...</td>\n",
       "      <td>Who are the top 5 customers by the number of o...</td>\n",
       "      <td>SELECT c.first_name, c.last_name, COUNT(o.id) ...</td>\n",
       "      <td>[[\"Tammy\", \"Torres\", 5], [\"Miranda\", \"Moore\", ...</td>\n",
       "      <td>True</td>\n",
       "      <td>None</td>\n",
       "    </tr>\n",
       "    <tr>\n",
       "      <th>3</th>\n",
       "      <td>/Users/michaelfrantz/dev/CalTech-CTME-AramCo-2...</td>\n",
       "      <td>Which restaurant has the highest number of com...</td>\n",
       "      <td>SELECT r.name, COUNT(o.id) as completed_orders...</td>\n",
       "      <td>[[\"Jenkins PLC\", 6]]</td>\n",
       "      <td>True</td>\n",
       "      <td>None</td>\n",
       "    </tr>\n",
       "    <tr>\n",
       "      <th>4</th>\n",
       "      <td>/Users/michaelfrantz/dev/CalTech-CTME-AramCo-2...</td>\n",
       "      <td>What is the average order amount for each rest...</td>\n",
       "      <td>SELECT r.name, AVG(o.total_amount) as avg_orde...</td>\n",
       "      <td>[[\"Duffy, Hardin and Gill\", 621.0749999999999]...</td>\n",
       "      <td>True</td>\n",
       "      <td>None</td>\n",
       "    </tr>\n",
       "  </tbody>\n",
       "</table>\n",
       "</div>"
      ],
      "text/plain": [
       "                                             db_path  \\\n",
       "0  /Users/michaelfrantz/dev/CalTech-CTME-AramCo-2...   \n",
       "1  /Users/michaelfrantz/dev/CalTech-CTME-AramCo-2...   \n",
       "2  /Users/michaelfrantz/dev/CalTech-CTME-AramCo-2...   \n",
       "3  /Users/michaelfrantz/dev/CalTech-CTME-AramCo-2...   \n",
       "4  /Users/michaelfrantz/dev/CalTech-CTME-AramCo-2...   \n",
       "\n",
       "                                            question  \\\n",
       "0  How many orders were placed in the most recent...   \n",
       "1  What is the total revenue generated from order...   \n",
       "2  Who are the top 5 customers by the number of o...   \n",
       "3  Which restaurant has the highest number of com...   \n",
       "4  What is the average order amount for each rest...   \n",
       "\n",
       "                                               query  \\\n",
       "0  SELECT COUNT(*) FROM orders WHERE order_date >...   \n",
       "1  SELECT SUM(total_amount) FROM orders WHERE ord...   \n",
       "2  SELECT c.first_name, c.last_name, COUNT(o.id) ...   \n",
       "3  SELECT r.name, COUNT(o.id) as completed_orders...   \n",
       "4  SELECT r.name, AVG(o.total_amount) as avg_orde...   \n",
       "\n",
       "                                              answer  is_valid error  \n",
       "0                                             [[23]]      True  None  \n",
       "1                             [[14745.789999999999]]      True  None  \n",
       "2  [[\"Tammy\", \"Torres\", 5], [\"Miranda\", \"Moore\", ...      True  None  \n",
       "3                               [[\"Jenkins PLC\", 6]]      True  None  \n",
       "4  [[\"Duffy, Hardin and Gill\", 621.0749999999999]...      True  None  "
      ]
     },
     "execution_count": 3,
     "metadata": {},
     "output_type": "execute_result"
    }
   ],
   "source": [
    "df.head()"
   ]
  },
  {
   "cell_type": "code",
   "execution_count": null,
   "metadata": {},
   "outputs": [],
   "source": []
  }
 ],
 "metadata": {
  "kernelspec": {
   "display_name": ".venv",
   "language": "python",
   "name": "python3"
  },
  "language_info": {
   "codemirror_mode": {
    "name": "ipython",
    "version": 3
   },
   "file_extension": ".py",
   "mimetype": "text/x-python",
   "name": "python",
   "nbconvert_exporter": "python",
   "pygments_lexer": "ipython3",
   "version": "3.12.10"
  }
 },
 "nbformat": 4,
 "nbformat_minor": 2
}
