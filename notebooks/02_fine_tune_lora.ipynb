{
  "cells": [
    {
      "cell_type": "markdown",
      "metadata": {
        "id": "view-in-github",
        "colab_type": "text"
      },
      "source": [
        "<a href=\"https://colab.research.google.com/github/mgfrantz/CalTech-CTME-AramCo-2025/blob/main/notebooks/02_fine_tune_lora.ipynb\" target=\"_parent\"><img src=\"https://colab.research.google.com/assets/colab-badge.svg\" alt=\"Open In Colab\"/></a>"
      ]
    },
    {
      "cell_type": "markdown",
      "source": [
        "# Part 1: Dataset Preparation\n",
        "\n",
        "Previously, we created a dataset of question/sql query pairs and validated them against actual SQLite databases.\n",
        "Now that we have this data, our goal is to fine-tune a model to accept a sql schema and a quesiton and output a sqlite query.\n",
        "\n",
        "The first step in this process is preparing our dataset.\n",
        "While there are many [dataset formats](https://docs.axolotl.ai/docs/dataset-formats/), it's important to use the **same dataset format your base model was trained on.**\n",
        "So for example if you have a chat model, you should make sure your dataset is formatted for chat.\n",
        "This ensures you're not learning a new dataset format along with your task.\n",
        "A good way to do that is to look at the axolotl [examples](https://github.com/axolotl-ai-cloud/axolotl/tree/main/examples) - there are samples for most any model family you'd want to fine tune with sensible defaults.\n",
        "\n",
        "In our case, we will output a `.jsonl` file where each line contains the folowing information:\n",
        "\n",
        "```json\n",
        "{\n",
        "    \"conversations\": [\n",
        "        {\n",
        "            \"role\": <system, user, assistant>,\n",
        "            \"content\": \"some content\"\n",
        "        },\n",
        "        ...\n",
        "    ]\n",
        "}\n",
        "```\n",
        "\n",
        "We will follow this general format:\n",
        "\n",
        "- Message 1: our system prompt with general instructions\n",
        "- Message 2: our user message with database schema and user query\n",
        "- Message 3: our validated sql output (what we want to tune the model to output)\n",
        "\n",
        "This format is useful for almost any chat model, even proprietary for use in proprietarty fine-tuning ([openai docs](https://platform.openai.com/docs/guides/supervised-fine-tuning?formatting=jsonl)).\n",
        "This means you can prepare your data once, and fine-tune and compare many different models.\n",
        "\n",
        "Let's start by loading and observing our dataset."
      ],
      "metadata": {
        "id": "LA9sUDBfwiM9"
      }
    },
    {
      "cell_type": "code",
      "execution_count": null,
      "metadata": {
        "id": "toX4WhNCvIW4"
      },
      "outputs": [],
      "source": [
        "import json\n",
        "\n",
        "import duckdb\n",
        "import pandas as pd\n",
        "from IPython.display import display\n",
        "from tqdm.auto import tqdm"
      ]
    },
    {
      "cell_type": "code",
      "execution_count": null,
      "metadata": {
        "id": "iK_4qRtOvIW6"
      },
      "outputs": [],
      "source": [
        "# If running this on colab, make sure to upload the parquet file and update the path.\n",
        "df = pd.read_parquet(\"../output/validated_dataset.parquet\")"
      ]
    },
    {
      "cell_type": "code",
      "execution_count": null,
      "metadata": {
        "id": "YifRBpdivIW6",
        "outputId": "d4a3ea68-dae0-4c60-cad1-39f179fc8a86"
      },
      "outputs": [
        {
          "data": {
            "text/html": [
              "<div>\n",
              "<style scoped>\n",
              "    .dataframe tbody tr th:only-of-type {\n",
              "        vertical-align: middle;\n",
              "    }\n",
              "\n",
              "    .dataframe tbody tr th {\n",
              "        vertical-align: top;\n",
              "    }\n",
              "\n",
              "    .dataframe thead th {\n",
              "        text-align: right;\n",
              "    }\n",
              "</style>\n",
              "<table border=\"1\" class=\"dataframe\">\n",
              "  <thead>\n",
              "    <tr style=\"text-align: right;\">\n",
              "      <th></th>\n",
              "      <th>db_path</th>\n",
              "      <th>question</th>\n",
              "      <th>query</th>\n",
              "      <th>answer</th>\n",
              "      <th>is_valid</th>\n",
              "      <th>error</th>\n",
              "    </tr>\n",
              "  </thead>\n",
              "  <tbody>\n",
              "    <tr>\n",
              "      <th>0</th>\n",
              "      <td>/Users/michaelfrantz/dev/CalTech-CTME-AramCo-2...</td>\n",
              "      <td>How many orders were placed in the most recent...</td>\n",
              "      <td>SELECT COUNT(*) FROM orders WHERE order_date &gt;...</td>\n",
              "      <td>[[20]]</td>\n",
              "      <td>True</td>\n",
              "      <td>None</td>\n",
              "    </tr>\n",
              "    <tr>\n",
              "      <th>1</th>\n",
              "      <td>/Users/michaelfrantz/dev/CalTech-CTME-AramCo-2...</td>\n",
              "      <td>What is the total amount spent by customers in...</td>\n",
              "      <td>SELECT SUM(total_amount) FROM orders WHERE ord...</td>\n",
              "      <td>[[875.9686307710034]]</td>\n",
              "      <td>True</td>\n",
              "      <td>None</td>\n",
              "    </tr>\n",
              "    <tr>\n",
              "      <th>2</th>\n",
              "      <td>/Users/michaelfrantz/dev/CalTech-CTME-AramCo-2...</td>\n",
              "      <td>Who are the top 5 customers by the number of o...</td>\n",
              "      <td>SELECT c.first_name, c.last_name, COUNT(o.id) ...</td>\n",
              "      <td>[[\"Michael\", \"Brown\", 3], [\"Timothy\", \"Wilson\"...</td>\n",
              "      <td>True</td>\n",
              "      <td>None</td>\n",
              "    </tr>\n",
              "    <tr>\n",
              "      <th>3</th>\n",
              "      <td>/Users/michaelfrantz/dev/CalTech-CTME-AramCo-2...</td>\n",
              "      <td>Which restaurant received the highest number o...</td>\n",
              "      <td>SELECT r.name, COUNT(o.id) as order_count FROM...</td>\n",
              "      <td>[[\"Baker-Martin\", 2]]</td>\n",
              "      <td>True</td>\n",
              "      <td>None</td>\n",
              "    </tr>\n",
              "    <tr>\n",
              "      <th>4</th>\n",
              "      <td>/Users/michaelfrantz/dev/CalTech-CTME-AramCo-2...</td>\n",
              "      <td>What is the average order amount for completed...</td>\n",
              "      <td>SELECT AVG(total_amount) FROM orders WHERE sta...</td>\n",
              "      <td>[[51.165547081963425]]</td>\n",
              "      <td>True</td>\n",
              "      <td>None</td>\n",
              "    </tr>\n",
              "  </tbody>\n",
              "</table>\n",
              "</div>"
            ],
            "text/plain": [
              "                                             db_path  \\\n",
              "0  /Users/michaelfrantz/dev/CalTech-CTME-AramCo-2...   \n",
              "1  /Users/michaelfrantz/dev/CalTech-CTME-AramCo-2...   \n",
              "2  /Users/michaelfrantz/dev/CalTech-CTME-AramCo-2...   \n",
              "3  /Users/michaelfrantz/dev/CalTech-CTME-AramCo-2...   \n",
              "4  /Users/michaelfrantz/dev/CalTech-CTME-AramCo-2...   \n",
              "\n",
              "                                            question  \\\n",
              "0  How many orders were placed in the most recent...   \n",
              "1  What is the total amount spent by customers in...   \n",
              "2  Who are the top 5 customers by the number of o...   \n",
              "3  Which restaurant received the highest number o...   \n",
              "4  What is the average order amount for completed...   \n",
              "\n",
              "                                               query  \\\n",
              "0  SELECT COUNT(*) FROM orders WHERE order_date >...   \n",
              "1  SELECT SUM(total_amount) FROM orders WHERE ord...   \n",
              "2  SELECT c.first_name, c.last_name, COUNT(o.id) ...   \n",
              "3  SELECT r.name, COUNT(o.id) as order_count FROM...   \n",
              "4  SELECT AVG(total_amount) FROM orders WHERE sta...   \n",
              "\n",
              "                                              answer  is_valid error  \n",
              "0                                             [[20]]      True  None  \n",
              "1                              [[875.9686307710034]]      True  None  \n",
              "2  [[\"Michael\", \"Brown\", 3], [\"Timothy\", \"Wilson\"...      True  None  \n",
              "3                              [[\"Baker-Martin\", 2]]      True  None  \n",
              "4                             [[51.165547081963425]]      True  None  "
            ]
          },
          "execution_count": 3,
          "metadata": {},
          "output_type": "execute_result"
        }
      ],
      "source": [
        "df.head()"
      ]
    },
    {
      "cell_type": "markdown",
      "source": [
        "Now, let's create some utilities to get the schema of the database as a string so we can pass it to the model."
      ],
      "metadata": {
        "id": "Lq6CVs-230ot"
      }
    },
    {
      "cell_type": "code",
      "execution_count": null,
      "metadata": {
        "id": "c6OvetrTvIW7"
      },
      "outputs": [],
      "source": [
        "# Utilities\n",
        "duckdb.execute(\"\"\"\n",
        "INSTALL sqlite;\n",
        "LOAD sqlite;\n",
        "\"\"\")\n",
        "\n",
        "def query_sqlite(query:str, db_path:str) -> pd.DataFrame:\n",
        "    conn = duckdb.connect(db_path)\n",
        "    return conn.execute(query).fetch_df()"
      ]
    },
    {
      "cell_type": "code",
      "execution_count": null,
      "metadata": {
        "id": "bzeCD_vjvIW7",
        "outputId": "ab8cab69-bf94-4527-817d-5de3cddea4a8"
      },
      "outputs": [
        {
          "name": "stdout",
          "output_type": "stream",
          "text": [
            "/Users/michaelfrantz/dev/CalTech-CTME-AramCo-2025/output/db/database_0.db\n"
          ]
        }
      ],
      "source": [
        "path = df.db_path.iloc[0]\n",
        "print(path)"
      ]
    },
    {
      "cell_type": "code",
      "execution_count": null,
      "metadata": {
        "id": "HlahhsYdvIW7",
        "outputId": "2b4e1820-6e2a-4ff3-d54a-e76d4d12ebc7"
      },
      "outputs": [
        {
          "data": {
            "text/html": [
              "<div>\n",
              "<style scoped>\n",
              "    .dataframe tbody tr th:only-of-type {\n",
              "        vertical-align: middle;\n",
              "    }\n",
              "\n",
              "    .dataframe tbody tr th {\n",
              "        vertical-align: top;\n",
              "    }\n",
              "\n",
              "    .dataframe thead th {\n",
              "        text-align: right;\n",
              "    }\n",
              "</style>\n",
              "<table border=\"1\" class=\"dataframe\">\n",
              "  <thead>\n",
              "    <tr style=\"text-align: right;\">\n",
              "      <th></th>\n",
              "      <th>name</th>\n",
              "    </tr>\n",
              "  </thead>\n",
              "  <tbody>\n",
              "    <tr>\n",
              "      <th>0</th>\n",
              "      <td>customers</td>\n",
              "    </tr>\n",
              "    <tr>\n",
              "      <th>1</th>\n",
              "      <td>drivers</td>\n",
              "    </tr>\n",
              "    <tr>\n",
              "      <th>2</th>\n",
              "      <td>orders</td>\n",
              "    </tr>\n",
              "    <tr>\n",
              "      <th>3</th>\n",
              "      <td>restaurants</td>\n",
              "    </tr>\n",
              "  </tbody>\n",
              "</table>\n",
              "</div>"
            ],
            "text/plain": [
              "          name\n",
              "0    customers\n",
              "1      drivers\n",
              "2       orders\n",
              "3  restaurants"
            ]
          },
          "execution_count": 6,
          "metadata": {},
          "output_type": "execute_result"
        }
      ],
      "source": [
        "tables = query_sqlite('SHOW TABLES', path)\n",
        "tables"
      ]
    },
    {
      "cell_type": "code",
      "execution_count": null,
      "metadata": {
        "id": "CdqZlSqwvIW7",
        "outputId": "2f7216b3-1cdb-4213-8a7d-459b61841c21"
      },
      "outputs": [
        {
          "name": "stdout",
          "output_type": "stream",
          "text": [
            "customers\n"
          ]
        },
        {
          "data": {
            "text/html": [
              "<div>\n",
              "<style scoped>\n",
              "    .dataframe tbody tr th:only-of-type {\n",
              "        vertical-align: middle;\n",
              "    }\n",
              "\n",
              "    .dataframe tbody tr th {\n",
              "        vertical-align: top;\n",
              "    }\n",
              "\n",
              "    .dataframe thead th {\n",
              "        text-align: right;\n",
              "    }\n",
              "</style>\n",
              "<table border=\"1\" class=\"dataframe\">\n",
              "  <thead>\n",
              "    <tr style=\"text-align: right;\">\n",
              "      <th></th>\n",
              "      <th>column_name</th>\n",
              "      <th>column_type</th>\n",
              "      <th>null</th>\n",
              "      <th>key</th>\n",
              "    </tr>\n",
              "  </thead>\n",
              "  <tbody>\n",
              "    <tr>\n",
              "      <th>0</th>\n",
              "      <td>id</td>\n",
              "      <td>BIGINT</td>\n",
              "      <td>NO</td>\n",
              "      <td>PRI</td>\n",
              "    </tr>\n",
              "    <tr>\n",
              "      <th>1</th>\n",
              "      <td>first_name</td>\n",
              "      <td>VARCHAR</td>\n",
              "      <td>NO</td>\n",
              "      <td>None</td>\n",
              "    </tr>\n",
              "    <tr>\n",
              "      <th>2</th>\n",
              "      <td>last_name</td>\n",
              "      <td>VARCHAR</td>\n",
              "      <td>NO</td>\n",
              "      <td>None</td>\n",
              "    </tr>\n",
              "    <tr>\n",
              "      <th>3</th>\n",
              "      <td>email</td>\n",
              "      <td>VARCHAR</td>\n",
              "      <td>NO</td>\n",
              "      <td>None</td>\n",
              "    </tr>\n",
              "    <tr>\n",
              "      <th>4</th>\n",
              "      <td>phone_number</td>\n",
              "      <td>VARCHAR</td>\n",
              "      <td>NO</td>\n",
              "      <td>None</td>\n",
              "    </tr>\n",
              "  </tbody>\n",
              "</table>\n",
              "</div>"
            ],
            "text/plain": [
              "    column_name column_type null   key\n",
              "0            id      BIGINT   NO   PRI\n",
              "1    first_name     VARCHAR   NO  None\n",
              "2     last_name     VARCHAR   NO  None\n",
              "3         email     VARCHAR   NO  None\n",
              "4  phone_number     VARCHAR   NO  None"
            ]
          },
          "metadata": {},
          "output_type": "display_data"
        },
        {
          "name": "stdout",
          "output_type": "stream",
          "text": [
            "drivers\n"
          ]
        },
        {
          "data": {
            "text/html": [
              "<div>\n",
              "<style scoped>\n",
              "    .dataframe tbody tr th:only-of-type {\n",
              "        vertical-align: middle;\n",
              "    }\n",
              "\n",
              "    .dataframe tbody tr th {\n",
              "        vertical-align: top;\n",
              "    }\n",
              "\n",
              "    .dataframe thead th {\n",
              "        text-align: right;\n",
              "    }\n",
              "</style>\n",
              "<table border=\"1\" class=\"dataframe\">\n",
              "  <thead>\n",
              "    <tr style=\"text-align: right;\">\n",
              "      <th></th>\n",
              "      <th>column_name</th>\n",
              "      <th>column_type</th>\n",
              "      <th>null</th>\n",
              "      <th>key</th>\n",
              "    </tr>\n",
              "  </thead>\n",
              "  <tbody>\n",
              "    <tr>\n",
              "      <th>0</th>\n",
              "      <td>id</td>\n",
              "      <td>BIGINT</td>\n",
              "      <td>NO</td>\n",
              "      <td>PRI</td>\n",
              "    </tr>\n",
              "    <tr>\n",
              "      <th>1</th>\n",
              "      <td>first_name</td>\n",
              "      <td>VARCHAR</td>\n",
              "      <td>NO</td>\n",
              "      <td>None</td>\n",
              "    </tr>\n",
              "    <tr>\n",
              "      <th>2</th>\n",
              "      <td>last_name</td>\n",
              "      <td>VARCHAR</td>\n",
              "      <td>NO</td>\n",
              "      <td>None</td>\n",
              "    </tr>\n",
              "    <tr>\n",
              "      <th>3</th>\n",
              "      <td>phone_number</td>\n",
              "      <td>VARCHAR</td>\n",
              "      <td>NO</td>\n",
              "      <td>None</td>\n",
              "    </tr>\n",
              "    <tr>\n",
              "      <th>4</th>\n",
              "      <td>license_number</td>\n",
              "      <td>VARCHAR</td>\n",
              "      <td>NO</td>\n",
              "      <td>None</td>\n",
              "    </tr>\n",
              "  </tbody>\n",
              "</table>\n",
              "</div>"
            ],
            "text/plain": [
              "      column_name column_type null   key\n",
              "0              id      BIGINT   NO   PRI\n",
              "1      first_name     VARCHAR   NO  None\n",
              "2       last_name     VARCHAR   NO  None\n",
              "3    phone_number     VARCHAR   NO  None\n",
              "4  license_number     VARCHAR   NO  None"
            ]
          },
          "metadata": {},
          "output_type": "display_data"
        },
        {
          "name": "stdout",
          "output_type": "stream",
          "text": [
            "orders\n"
          ]
        },
        {
          "data": {
            "text/html": [
              "<div>\n",
              "<style scoped>\n",
              "    .dataframe tbody tr th:only-of-type {\n",
              "        vertical-align: middle;\n",
              "    }\n",
              "\n",
              "    .dataframe tbody tr th {\n",
              "        vertical-align: top;\n",
              "    }\n",
              "\n",
              "    .dataframe thead th {\n",
              "        text-align: right;\n",
              "    }\n",
              "</style>\n",
              "<table border=\"1\" class=\"dataframe\">\n",
              "  <thead>\n",
              "    <tr style=\"text-align: right;\">\n",
              "      <th></th>\n",
              "      <th>column_name</th>\n",
              "      <th>column_type</th>\n",
              "      <th>null</th>\n",
              "      <th>key</th>\n",
              "    </tr>\n",
              "  </thead>\n",
              "  <tbody>\n",
              "    <tr>\n",
              "      <th>0</th>\n",
              "      <td>id</td>\n",
              "      <td>BIGINT</td>\n",
              "      <td>NO</td>\n",
              "      <td>PRI</td>\n",
              "    </tr>\n",
              "    <tr>\n",
              "      <th>1</th>\n",
              "      <td>customer_id</td>\n",
              "      <td>BIGINT</td>\n",
              "      <td>NO</td>\n",
              "      <td>None</td>\n",
              "    </tr>\n",
              "    <tr>\n",
              "      <th>2</th>\n",
              "      <td>restaurant_id</td>\n",
              "      <td>BIGINT</td>\n",
              "      <td>NO</td>\n",
              "      <td>None</td>\n",
              "    </tr>\n",
              "    <tr>\n",
              "      <th>3</th>\n",
              "      <td>order_date</td>\n",
              "      <td>TIMESTAMP</td>\n",
              "      <td>NO</td>\n",
              "      <td>None</td>\n",
              "    </tr>\n",
              "    <tr>\n",
              "      <th>4</th>\n",
              "      <td>total_amount</td>\n",
              "      <td>DOUBLE</td>\n",
              "      <td>NO</td>\n",
              "      <td>None</td>\n",
              "    </tr>\n",
              "    <tr>\n",
              "      <th>5</th>\n",
              "      <td>status</td>\n",
              "      <td>VARCHAR</td>\n",
              "      <td>NO</td>\n",
              "      <td>None</td>\n",
              "    </tr>\n",
              "  </tbody>\n",
              "</table>\n",
              "</div>"
            ],
            "text/plain": [
              "     column_name column_type null   key\n",
              "0             id      BIGINT   NO   PRI\n",
              "1    customer_id      BIGINT   NO  None\n",
              "2  restaurant_id      BIGINT   NO  None\n",
              "3     order_date   TIMESTAMP   NO  None\n",
              "4   total_amount      DOUBLE   NO  None\n",
              "5         status     VARCHAR   NO  None"
            ]
          },
          "metadata": {},
          "output_type": "display_data"
        },
        {
          "name": "stdout",
          "output_type": "stream",
          "text": [
            "restaurants\n"
          ]
        },
        {
          "data": {
            "text/html": [
              "<div>\n",
              "<style scoped>\n",
              "    .dataframe tbody tr th:only-of-type {\n",
              "        vertical-align: middle;\n",
              "    }\n",
              "\n",
              "    .dataframe tbody tr th {\n",
              "        vertical-align: top;\n",
              "    }\n",
              "\n",
              "    .dataframe thead th {\n",
              "        text-align: right;\n",
              "    }\n",
              "</style>\n",
              "<table border=\"1\" class=\"dataframe\">\n",
              "  <thead>\n",
              "    <tr style=\"text-align: right;\">\n",
              "      <th></th>\n",
              "      <th>column_name</th>\n",
              "      <th>column_type</th>\n",
              "      <th>null</th>\n",
              "      <th>key</th>\n",
              "    </tr>\n",
              "  </thead>\n",
              "  <tbody>\n",
              "    <tr>\n",
              "      <th>0</th>\n",
              "      <td>id</td>\n",
              "      <td>BIGINT</td>\n",
              "      <td>NO</td>\n",
              "      <td>PRI</td>\n",
              "    </tr>\n",
              "    <tr>\n",
              "      <th>1</th>\n",
              "      <td>name</td>\n",
              "      <td>VARCHAR</td>\n",
              "      <td>NO</td>\n",
              "      <td>None</td>\n",
              "    </tr>\n",
              "    <tr>\n",
              "      <th>2</th>\n",
              "      <td>address</td>\n",
              "      <td>VARCHAR</td>\n",
              "      <td>NO</td>\n",
              "      <td>None</td>\n",
              "    </tr>\n",
              "    <tr>\n",
              "      <th>3</th>\n",
              "      <td>phone_number</td>\n",
              "      <td>VARCHAR</td>\n",
              "      <td>NO</td>\n",
              "      <td>None</td>\n",
              "    </tr>\n",
              "  </tbody>\n",
              "</table>\n",
              "</div>"
            ],
            "text/plain": [
              "    column_name column_type null   key\n",
              "0            id      BIGINT   NO   PRI\n",
              "1          name     VARCHAR   NO  None\n",
              "2       address     VARCHAR   NO  None\n",
              "3  phone_number     VARCHAR   NO  None"
            ]
          },
          "metadata": {},
          "output_type": "display_data"
        }
      ],
      "source": [
        "for table in tables.name:\n",
        "    print(table)\n",
        "    display(t:=query_sqlite(f'DESCRIBE TABLE {table}', path).dropna(how='all', axis=1))"
      ]
    },
    {
      "cell_type": "code",
      "execution_count": null,
      "metadata": {
        "id": "DT4zfNoZvIW8"
      },
      "outputs": [],
      "source": [
        "def table_metadata(db_path:str) -> dict[str, pd.DataFrame]:\n",
        "    \"\"\"\n",
        "    Get metadata for all tables in the database.\n",
        "    \"\"\"\n",
        "    tables = query_sqlite('SHOW TABLES', db_path)\n",
        "    metadata = {}\n",
        "    for table in tables.name:\n",
        "        metadata[table] = query_sqlite(f'DESCRIBE TABLE {table}', db_path).dropna(how='all', axis=1)\n",
        "    return metadata"
      ]
    },
    {
      "cell_type": "code",
      "execution_count": null,
      "metadata": {
        "id": "weAvzz0DvIW8"
      },
      "outputs": [],
      "source": [
        "def format_schema_for_chat(metadata: dict[str, pd.DataFrame]) -> str:\n",
        "    \"\"\"\n",
        "    Format table metadata into a readable string for chat training.\n",
        "    \"\"\"\n",
        "    schema_lines = []\n",
        "\n",
        "    for table_name, df in metadata.items():\n",
        "        schema_lines.append(f\"Table: {table_name}\")\n",
        "\n",
        "        for _, row in df.iterrows():\n",
        "            col_info = f\"  - {row['column_name']} ({row['column_type']}\"\n",
        "            if row['key'] == 'PRI':\n",
        "                col_info += \", PRIMARY KEY\"\n",
        "            elif pd.notna(row['key']) and row['key'] != 'None':\n",
        "                col_info += f\", {row['key']}\"\n",
        "            if row['null'] == 'NO':\n",
        "                col_info += \", NOT NULL\"\n",
        "            col_info += \")\"\n",
        "            schema_lines.append(col_info)\n",
        "\n",
        "        schema_lines.append(\"\")  # Add blank line between tables\n",
        "\n",
        "    return \"\\n\".join(schema_lines).strip()\n",
        "\n",
        "def create_chatml_dataset(df: pd.DataFrame) -> list[dict]:\n",
        "    \"\"\"\n",
        "    Create ChatML conversations format dataset directly from DataFrame.\n",
        "    Includes system prompt with SQLite constraints.\n",
        "    \"\"\"\n",
        "    # SQLite-focused system prompt based on constraints from prompts.py\n",
        "    system_prompt = \"\"\"You are an expert SQL developer specializing in SQLite. Generate accurate SQL queries that follow these requirements:\n",
        "\n",
        "SQLITE REQUIREMENTS:\n",
        "1. Use only standard SQLite-compatible SQL syntax\n",
        "2. Avoid PostgreSQL-specific functions like INTERVAL - use date arithmetic instead\n",
        "3. Use SQLite date functions: date(), datetime(), julianday() for date calculations\n",
        "4. For \"recent month\" use: WHERE date_column >= date((SELECT MAX(date_column) FROM table_name), '-1 month')\n",
        "5. For \"past 30 days\" use: WHERE date_column >= date((SELECT MAX(date_column) FROM table_name), '-30 days')\n",
        "6. For rolling averages, use window functions or subqueries\n",
        "7. Use MAX(appropriate_date_column) to find the most recent date\n",
        "8. Use proper SQLite column types: INTEGER, TEXT, REAL, BLOB\n",
        "9. Handle foreign key relationships correctly with proper JOIN syntax\n",
        "\n",
        "QUERY STANDARDS:\n",
        "- Write clear, efficient queries\n",
        "- Use appropriate aggregation functions (COUNT, SUM, AVG, MAX, MIN)\n",
        "- Include proper GROUP BY and ORDER BY clauses when needed\n",
        "- Use table aliases for readability in complex queries\"\"\"\n",
        "\n",
        "    chatml_data = []\n",
        "\n",
        "    for idx, row in tqdm(df.iterrows(), total=len(df), desc=\"Creating ChatML dataset\"):\n",
        "        # Skip invalid entries\n",
        "        if not row['is_valid']:\n",
        "            continue\n",
        "\n",
        "        # Get table metadata for this database\n",
        "        metadata = table_metadata(row['db_path'])\n",
        "        schema_text = format_schema_for_chat(metadata)\n",
        "\n",
        "        # Create user message with schema and question\n",
        "        user_content = f\"Database Schema:\\n{schema_text}\\n\\nQuestion: {row['question']}\"\n",
        "\n",
        "        # Create ChatML conversation with system prompt\n",
        "        chatml_entry = {\n",
        "            \"conversations\": [\n",
        "                {\n",
        "                    \"role\": \"system\",\n",
        "                    \"content\": system_prompt\n",
        "                },\n",
        "                {\n",
        "                    \"role\": \"user\",\n",
        "                    \"content\": user_content\n",
        "                },\n",
        "                {\n",
        "                    \"role\": \"assistant\",\n",
        "                    \"content\": row['query']\n",
        "                }\n",
        "            ]\n",
        "        }\n",
        "\n",
        "        chatml_data.append(chatml_entry)\n",
        "\n",
        "    return chatml_data"
      ]
    },
    {
      "cell_type": "markdown",
      "source": [
        "Now that we've created our utilities, let's complete our chatml dataset."
      ],
      "metadata": {
        "id": "dDoJswpY4V-P"
      }
    },
    {
      "cell_type": "code",
      "execution_count": null,
      "metadata": {
        "colab": {
          "referenced_widgets": [
            "c3aee61fbfe3403fb269c7d049d7d09e"
          ]
        },
        "id": "_zkKrLVDvIW8",
        "outputId": "65a9295a-63a8-4a39-e649-364565610696"
      },
      "outputs": [
        {
          "name": "stdout",
          "output_type": "stream",
          "text": [
            "Creating ChatML format dataset for Axolotl...\n"
          ]
        },
        {
          "data": {
            "application/vnd.jupyter.widget-view+json": {
              "model_id": "c3aee61fbfe3403fb269c7d049d7d09e",
              "version_major": 2,
              "version_minor": 0
            },
            "text/plain": [
              "Creating ChatML dataset:   0%|          | 0/151 [00:00<?, ?it/s]"
            ]
          },
          "metadata": {},
          "output_type": "display_data"
        },
        {
          "name": "stdout",
          "output_type": "stream",
          "text": [
            "Created 150 ChatML training examples\n",
            "Saved ChatML training data to chatml_training_data.jsonl\n",
            "\n",
            "Sample ChatML training entry:\n",
            "{\n",
            "  \"conversations\": [\n",
            "    {\n",
            "      \"role\": \"system\",\n",
            "      \"content\": \"You are an expert SQL developer specializing in SQLite. Generate accurate SQL queries that follow these requirements:\\n\\nSQLITE REQUIREMENTS:\\n1. Use only standard SQLite-compatible SQL syntax\\n2. Avoid PostgreSQL-specific functions like INTERVAL - use date arithmetic instead\\n3. Use SQLite date functions: date(), datetime(), julianday() for date calculations\\n4. For \\\"recent month\\\" use: WHERE date_column >= date((SELECT MAX(date_column) FROM table_name), '-1 month')\\n5. For \\\"past 30 days\\\" use: WHERE date_column >= date((SELECT MAX(date_column) FROM table_name), '-30 days')\\n6. For rolling averages, use window functions or subqueries\\n7. Use MAX(appropriate_date_column) to find the most recent date\\n8. Use proper SQLite column types: INTEGER, TEXT, REAL, BLOB\\n9. Handle foreign key relationships correctly with proper JOIN syntax\\n\\nQUERY STANDARDS:\\n- Write clear, efficient queries\\n- Use appropriate aggregation functions (COUNT, SUM, AVG, MAX, MIN)\\n- Include proper GROUP BY and ORDER BY clauses when needed\\n- Use table aliases for readability in complex queries\"\n",
            "    },\n",
            "    {\n",
            "      \"role\": \"user\",\n",
            "      \"content\": \"Database Schema:\\nTable: customers\\n  - id (BIGINT, PRIMARY KEY, NOT NULL)\\n  - first_name (VARCHAR, NOT NULL)\\n  - last_name (VARCHAR, NOT NULL)\\n  - email (VARCHAR, NOT NULL)\\n  - phone_number (VARCHAR, NOT NULL)\\n\\nTable: drivers\\n  - id (BIGINT, PRIMARY KEY, NOT NULL)\\n  - first_name (VARCHAR, NOT NULL)\\n  - last_name (VARCHAR, NOT NULL)\\n  - phone_number (VARCHAR, NOT NULL)\\n  - license_number (VARCHAR, NOT NULL)\\n\\nTable: orders\\n  - id (BIGINT, PRIMARY KEY, NOT NULL)\\n  - customer_id (BIGINT, NOT NULL)\\n  - restaurant_id (BIGINT, NOT NULL)\\n  - order_date (TIMESTAMP, NOT NULL)\\n  - total_amount (DOUBLE, NOT NULL)\\n  - status (VARCHAR, NOT NULL)\\n\\nTable: restaurants\\n  - id (BIGINT, PRIMARY KEY, NOT NULL)\\n  - name (VARCHAR, NOT NULL)\\n  - address (VARCHAR, NOT NULL)\\n  - phone_number (VARCHAR, NOT NULL)\\n\\nQuestion: How many orders were placed in the most recent month?\"\n",
            "    },\n",
            "    {\n",
            "      \"role\": \"assistant\",\n",
            "      \"content\": \"SELECT COUNT(*) FROM orders WHERE order_date >= date((SELECT MAX(order_date) FROM orders), '-1 month')\"\n",
            "    }\n",
            "  ]\n",
            "}\n"
          ]
        }
      ],
      "source": [
        "# Create the ChatML format dataset for Axolotl\n",
        "print(\"Creating ChatML format dataset for Axolotl...\")\n",
        "chatml_dataset = create_chatml_dataset(df)\n",
        "\n",
        "print(f\"Created {len(chatml_dataset)} ChatML training examples\")\n",
        "\n",
        "# Save to JSONL file for Axolotl\n",
        "chatml_output_file = \"chatml_training_data.jsonl\"\n",
        "with open(chatml_output_file, 'w') as f:\n",
        "    for entry in chatml_dataset:\n",
        "        f.write(json.dumps(entry) + '\\n')\n",
        "\n",
        "print(f\"Saved ChatML training data to {chatml_output_file}\")\n",
        "\n",
        "# Display a sample ChatML entry\n",
        "print(\"\\nSample ChatML training entry:\")\n",
        "print(json.dumps(chatml_dataset[0], indent=2))"
      ]
    },
    {
      "cell_type": "code",
      "source": [
        "# Note: must be connected to at least an L4 gpu (colab or other) to use flash-attn\n",
        "!uv pip install -Uqqq packaging setuptools wheel ninja\n",
        "!uv pip install -qqq --no-build-isolation \"axolotl[flash-attn,deepspeed]\"\n",
        "# !uv pip install -qqq \"cut-cross-entropy[transformers] @ git+https://github.com/apple/ml-cross-entropy.git@bad6f7b49c75fdec69471abb71b4cddd0f0c6438\"\n",
        "# !uv pip install -qqq \"git+https://github.com/linkedin/Liger-Kernel.git\""
      ],
      "metadata": {
        "id": "qBO2ozuHvO0i"
      },
      "execution_count": 23,
      "outputs": []
    },
    {
      "cell_type": "code",
      "source": [
        "import os\n",
        "from google.colab import userdata\n",
        "os.environ['HF_TOKEN'] = userdata.get('HF_TOKEN')"
      ],
      "metadata": {
        "id": "30RQ8n4Tzf11"
      },
      "execution_count": 24,
      "outputs": []
    },
    {
      "cell_type": "code",
      "source": [
        "%%writefile axolotl.yaml\n",
        "base_model: meta-llama/Llama-3.2-3B\n",
        "\n",
        "load_in_8bit: true\n",
        "load_in_4bit: true\n",
        "strict: false\n",
        "adapter: qlora\n",
        "# Added for bitsandbytes configuration\n",
        "bnb_4bit_use_double_quant: true\n",
        "\n",
        "\n",
        "# Data config\n",
        "chat_template: llama3\n",
        "datasets:\n",
        "  - path: chatml_training_data.jsonl\n",
        "    type: chat_template\n",
        "    field_messages: conversations\n",
        "dataset_prepared_path: last_run_prepared\n",
        "val_set_size: 0.1\n",
        "output_dir: ./outputs/lora-out\n",
        "\n",
        "sequence_len: 2048\n",
        "sample_packing: true\n",
        "eval_sample_packing: false # with a larger eval dataset, we would do this, but we don't have a large enough one today.\n",
        "pad_to_sequence_len: true\n",
        "\n",
        "lora_r: 32\n",
        "lora_alpha: 16\n",
        "lora_dropout: 0.05\n",
        "lora_target_linear: true\n",
        "lora_fan_in_fan_out:\n",
        "lora_target_modules:\n",
        "  - gate_proj\n",
        "  - down_proj\n",
        "  - up_proj\n",
        "  - q_proj\n",
        "  - v_proj\n",
        "  - k_proj\n",
        "  - o_proj\n",
        "\n",
        "wandb_project:\n",
        "wandb_entity:\n",
        "wandb_watch:\n",
        "wandb_name:\n",
        "wandb_log_model:\n",
        "\n",
        "gradient_accumulation_steps: 4\n",
        "micro_batch_size: 2\n",
        "num_epochs: 1\n",
        "optimizer: adamw_bnb_8bit\n",
        "lr_scheduler: cosine\n",
        "learning_rate: 0.0002\n",
        "\n",
        "train_on_inputs: false\n",
        "group_by_length: false\n",
        "bf16: auto\n",
        "fp16:\n",
        "tf32: false\n",
        "\n",
        "gradient_checkpointing: true\n",
        "early_stopping_patience:\n",
        "resume_from_checkpoint:\n",
        "local_rank:\n",
        "logging_steps: 1\n",
        "xformers_attention:\n",
        "flash_attention: true\n",
        "\n",
        "loss_watchdog_threshold: 5.0\n",
        "loss_watchdog_patience: 3\n",
        "\n",
        "warmup_steps: 10\n",
        "evals_per_epoch: 4\n",
        "eval_table_size:\n",
        "eval_max_new_tokens: 128\n",
        "saves_per_epoch: 1\n",
        "debug:\n",
        "deepspeed:\n",
        "weight_decay: 0.0\n",
        "fsdp:\n",
        "fsdp_config:\n",
        "special_tokens:\n",
        "  pad_token: <|finetune_right_pad_id|>\n",
        "  eos_token: <|eot_id|>\n",
        "\n",
        "# Added for saving best checkpoint and pushing to Hugging Face Hub\n",
        "save_only_k_checkpoints: 1\n",
        "save_total_limit: 1\n",
        "load_best_model_at_end: true\n",
        "metric_for_best_model: eval_loss # Or any other metric you want to track\n",
        "greater_is_better: false # True if the metric should be maximized, False if minimized\n",
        "\n",
        "# Push to Hugging Face Hub\n",
        "push_to_hub: true\n",
        "hub_model_id: your_huggingface_username/your_model_name # Replace with your desired repo ID\n",
        "hub_private_repo: false # Set to true if you want a private repo\n",
        "hub_always_push: false\n",
        "hub_strategy: every_save # \"end\" to push only at the end of training"
      ],
      "metadata": {
        "colab": {
          "base_uri": "https://localhost:8080/"
        },
        "id": "D8kFUIFR6Hbi",
        "outputId": "1a061fdf-1808-4e5e-e52b-8fd5a731e441"
      },
      "execution_count": 25,
      "outputs": [
        {
          "output_type": "stream",
          "name": "stdout",
          "text": [
            "Overwriting axolotl.yaml\n"
          ]
        }
      ]
    },
    {
      "cell_type": "code",
      "execution_count": 26,
      "metadata": {
        "colab": {
          "base_uri": "https://localhost:8080/"
        },
        "id": "rWb-L0YfvIW9",
        "outputId": "7de9979c-3082-4142-83ba-d3a6c79fd4b2"
      },
      "outputs": [
        {
          "output_type": "stream",
          "name": "stdout",
          "text": [
            "Traceback (most recent call last):\n",
            "  File \"/usr/local/lib/python3.11/dist-packages/transformers/utils/import_utils.py\", line 1967, in _get_module\n",
            "    return importlib.import_module(\".\" + module_name, self.__name__)\n",
            "           ^^^^^^^^^^^^^^^^^^^^^^^^^^^^^^^^^^^^^^^^^^^^^^^^^^^^^^^^^\n",
            "  File \"/usr/lib/python3.11/importlib/__init__.py\", line 126, in import_module\n",
            "    return _bootstrap._gcd_import(name[level:], package, level)\n",
            "           ^^^^^^^^^^^^^^^^^^^^^^^^^^^^^^^^^^^^^^^^^^^^^^^^^^^^\n",
            "  File \"<frozen importlib._bootstrap>\", line 1204, in _gcd_import\n",
            "  File \"<frozen importlib._bootstrap>\", line 1176, in _find_and_load\n",
            "  File \"<frozen importlib._bootstrap>\", line 1147, in _find_and_load_unlocked\n",
            "  File \"<frozen importlib._bootstrap>\", line 690, in _load_unlocked\n",
            "  File \"<frozen importlib._bootstrap_external>\", line 940, in exec_module\n",
            "  File \"<frozen importlib._bootstrap>\", line 241, in _call_with_frames_removed\n",
            "  File \"/usr/local/lib/python3.11/dist-packages/transformers/modeling_utils.py\", line 62, in <module>\n",
            "    from .integrations.flash_attention import flash_attention_forward\n",
            "  File \"/usr/local/lib/python3.11/dist-packages/transformers/integrations/flash_attention.py\", line 5, in <module>\n",
            "    from ..modeling_flash_attention_utils import _flash_attention_forward, flash_attn_supports_top_left_mask\n",
            "  File \"/usr/local/lib/python3.11/dist-packages/transformers/modeling_flash_attention_utils.py\", line 36, in <module>\n",
            "    from flash_attn.bert_padding import index_first_axis, pad_input, unpad_input  # noqa\n",
            "    ^^^^^^^^^^^^^^^^^^^^^^^^^^^^^^^^^^^^^^^^^^^^^^^^^^^^^^^^^^^^^^^^^^^^^^^^^^^^\n",
            "  File \"/usr/local/lib/python3.11/dist-packages/flash_attn/__init__.py\", line 3, in <module>\n",
            "    from flash_attn.flash_attn_interface import (\n",
            "  File \"/usr/local/lib/python3.11/dist-packages/flash_attn/flash_attn_interface.py\", line 15, in <module>\n",
            "    import flash_attn_2_cuda as flash_attn_gpu\n",
            "ImportError: /usr/local/lib/python3.11/dist-packages/flash_attn_2_cuda.cpython-311-x86_64-linux-gnu.so: undefined symbol: _ZN3c105ErrorC2ENS_14SourceLocationESs\n",
            "\n",
            "The above exception was the direct cause of the following exception:\n",
            "\n",
            "Traceback (most recent call last):\n",
            "  File \"/usr/local/bin/axolotl\", line 4, in <module>\n",
            "    from axolotl.cli.main import main\n",
            "  File \"/usr/local/lib/python3.11/dist-packages/axolotl/cli/main.py\", line 24, in <module>\n",
            "    from axolotl.cli.utils import (\n",
            "  File \"/usr/local/lib/python3.11/dist-packages/axolotl/cli/utils.py\", line 16, in <module>\n",
            "    from transformers import (\n",
            "  File \"<frozen importlib._bootstrap>\", line 1229, in _handle_fromlist\n",
            "  File \"/usr/local/lib/python3.11/dist-packages/transformers/utils/import_utils.py\", line 1955, in __getattr__\n",
            "    module = self._get_module(self._class_to_module[name])\n",
            "             ^^^^^^^^^^^^^^^^^^^^^^^^^^^^^^^^^^^^^^^^^^^^^\n",
            "  File \"/usr/local/lib/python3.11/dist-packages/transformers/utils/import_utils.py\", line 1969, in _get_module\n",
            "    raise RuntimeError(\n",
            "RuntimeError: Failed to import transformers.modeling_utils because of the following error (look up to see its traceback):\n",
            "/usr/local/lib/python3.11/dist-packages/flash_attn_2_cuda.cpython-311-x86_64-linux-gnu.so: undefined symbol: _ZN3c105ErrorC2ENS_14SourceLocationESs\n",
            "\u001b[0m"
          ]
        }
      ],
      "source": [
        "!axolotl train axolotl.yaml"
      ]
    },
    {
      "cell_type": "code",
      "execution_count": 20,
      "metadata": {
        "id": "y3eFNBvnvIW9"
      },
      "outputs": [],
      "source": [
        "# [optional] merge weights\n",
        "# !python -m axolotl.cli.merge_lora axolotl.yaml"
      ]
    },
    {
      "cell_type": "code",
      "source": [
        "# [optional] upload to hf hub\n",
        "# import os\n",
        "# username = 'mgfrantz'\n",
        "# repo_name = 'cmte-demo'\n",
        "# if not username or not repo_name:\n",
        "#     username = input(\"Username: \")\n",
        "#     repo_name = input(\"Repo name: \")\n",
        "# os.environ['HF_HUB_ENABLE_HF_TRANSFER'] = '1'\n",
        "# !huggingface-cli upload {username}/{repo_name} /content/model-out/ ."
      ],
      "metadata": {
        "id": "7sfmtXqLzvc_"
      },
      "execution_count": 21,
      "outputs": []
    },
    {
      "cell_type": "code",
      "source": [
        "# !uv pip install -qqq vllm litellm"
      ],
      "metadata": {
        "id": "5a0yel-20Mfl"
      },
      "execution_count": 14,
      "outputs": []
    },
    {
      "cell_type": "code",
      "source": [
        "# !vllm serve outputs/lora-out --dtype auto --api-key token-abc123"
      ],
      "metadata": {
        "colab": {
          "base_uri": "https://localhost:8080/"
        },
        "id": "260nzo5Q0VK7",
        "outputId": "3b6853b3-d34f-4f31-8b44-85d3cd6f8ae9"
      },
      "execution_count": 22,
      "outputs": [
        {
          "output_type": "stream",
          "name": "stdout",
          "text": [
            "2025-06-25 16:06:59.174147: I tensorflow/core/util/port.cc:153] oneDNN custom operations are on. You may see slightly different numerical results due to floating-point round-off errors from different computation orders. To turn them off, set the environment variable `TF_ENABLE_ONEDNN_OPTS=0`.\n",
            "2025-06-25 16:06:59.191675: E external/local_xla/xla/stream_executor/cuda/cuda_fft.cc:477] Unable to register cuFFT factory: Attempting to register factory for plugin cuFFT when one has already been registered\n",
            "WARNING: All log messages before absl::InitializeLog() is called are written to STDERR\n",
            "E0000 00:00:1750867619.212739   14162 cuda_dnn.cc:8310] Unable to register cuDNN factory: Attempting to register factory for plugin cuDNN when one has already been registered\n",
            "E0000 00:00:1750867619.219193   14162 cuda_blas.cc:1418] Unable to register cuBLAS factory: Attempting to register factory for plugin cuBLAS when one has already been registered\n",
            "2025-06-25 16:06:59.240311: I tensorflow/core/platform/cpu_feature_guard.cc:210] This TensorFlow binary is optimized to use available CPU instructions in performance-critical operations.\n",
            "To enable the following instructions: AVX2 AVX512F AVX512_VNNI FMA, in other operations, rebuild TensorFlow with the appropriate compiler flags.\n",
            "INFO 06-25 16:07:03 [__init__.py:244] Automatically detected platform cuda.\n",
            "Exception ignored in: <function _xla_gc_callback at 0x79dbfaf96840>\n",
            "Traceback (most recent call last):\n",
            "  File \"/usr/local/lib/python3.11/dist-packages/jax/_src/lib/__init__.py\", line 96, in _xla_gc_callback\n",
            "    def _xla_gc_callback(*args):\n",
            "    \n",
            "KeyboardInterrupt: \n",
            "INFO 06-25 16:07:12 [api_server.py:1287] vLLM API server version 0.9.1\n",
            "INFO 06-25 16:07:13 [cli_args.py:309] non-default args: {'api_key': 'token-abc123', 'model': 'outputs/lora-out'}\n",
            "ERROR 06-25 16:07:13 [config.py:114] Error retrieving file list: 404 Client Error. (Request ID: Root=1-685c1eb1-19ea9d7e260d25035abc7d41;9ba879e7-f1bb-46f7-9d44-eb5abf2e32a7)\n",
            "ERROR 06-25 16:07:13 [config.py:114] \n",
            "ERROR 06-25 16:07:13 [config.py:114] Repository Not Found for url: https://huggingface.co/api/models/outputs/lora-out/tree/main?recursive=True&expand=False.\n",
            "ERROR 06-25 16:07:13 [config.py:114] Please make sure you specified the correct `repo_id` and `repo_type`.\n",
            "ERROR 06-25 16:07:13 [config.py:114] If you are trying to access a private or gated repo, make sure you are authenticated. For more details, see https://huggingface.co/docs/huggingface_hub/authentication, retrying 1 of 2\n",
            "ERROR 06-25 16:07:15 [config.py:112] Error retrieving file list: 404 Client Error. (Request ID: Root=1-685c1eb3-70a3426b6170d15c6f674181;c411b3f4-1f51-4ea4-800f-9492fe182d89)\n",
            "ERROR 06-25 16:07:15 [config.py:112] \n",
            "ERROR 06-25 16:07:15 [config.py:112] Repository Not Found for url: https://huggingface.co/api/models/outputs/lora-out/tree/main?recursive=True&expand=False.\n",
            "ERROR 06-25 16:07:15 [config.py:112] Please make sure you specified the correct `repo_id` and `repo_type`.\n",
            "ERROR 06-25 16:07:15 [config.py:112] If you are trying to access a private or gated repo, make sure you are authenticated. For more details, see https://huggingface.co/docs/huggingface_hub/authentication\n",
            "Traceback (most recent call last):\n",
            "  File \"/usr/local/bin/vllm\", line 10, in <module>\n",
            "    sys.exit(main())\n",
            "             ^^^^^^\n",
            "  File \"/usr/local/lib/python3.11/dist-packages/vllm/entrypoints/cli/main.py\", line 59, in main\n",
            "    args.dispatch_function(args)\n",
            "  File \"/usr/local/lib/python3.11/dist-packages/vllm/entrypoints/cli/serve.py\", line 58, in cmd\n",
            "    uvloop.run(run_server(args))\n",
            "  File \"/usr/local/lib/python3.11/dist-packages/uvloop/__init__.py\", line 105, in run\n",
            "    return runner.run(wrapper())\n",
            "           ^^^^^^^^^^^^^^^^^^^^^\n",
            "  File \"/usr/lib/python3.11/asyncio/runners.py\", line 118, in run\n",
            "    return self._loop.run_until_complete(task)\n",
            "           ^^^^^^^^^^^^^^^^^^^^^^^^^^^^^^^^^^^\n",
            "  File \"uvloop/loop.pyx\", line 1518, in uvloop.loop.Loop.run_until_complete\n",
            "  File \"/usr/local/lib/python3.11/dist-packages/uvloop/__init__.py\", line 61, in wrapper\n",
            "    return await main\n",
            "           ^^^^^^^^^^\n",
            "  File \"/usr/local/lib/python3.11/dist-packages/vllm/entrypoints/openai/api_server.py\", line 1323, in run_server\n",
            "    await run_server_worker(listen_address, sock, args, **uvicorn_kwargs)\n",
            "  File \"/usr/local/lib/python3.11/dist-packages/vllm/entrypoints/openai/api_server.py\", line 1343, in run_server_worker\n",
            "    async with build_async_engine_client(args, client_config) as engine_client:\n",
            "  File \"/usr/lib/python3.11/contextlib.py\", line 210, in __aenter__\n",
            "    return await anext(self.gen)\n",
            "           ^^^^^^^^^^^^^^^^^^^^^\n",
            "  File \"/usr/local/lib/python3.11/dist-packages/vllm/entrypoints/openai/api_server.py\", line 155, in build_async_engine_client\n",
            "    async with build_async_engine_client_from_engine_args(\n",
            "  File \"/usr/lib/python3.11/contextlib.py\", line 210, in __aenter__\n",
            "    return await anext(self.gen)\n",
            "           ^^^^^^^^^^^^^^^^^^^^^\n",
            "  File \"/usr/local/lib/python3.11/dist-packages/vllm/entrypoints/openai/api_server.py\", line 177, in build_async_engine_client_from_engine_args\n",
            "    vllm_config = engine_args.create_engine_config(usage_context=usage_context)\n",
            "                  ^^^^^^^^^^^^^^^^^^^^^^^^^^^^^^^^^^^^^^^^^^^^^^^^^^^^^^^^^^^^^\n",
            "  File \"/usr/local/lib/python3.11/dist-packages/vllm/engine/arg_utils.py\", line 1018, in create_engine_config\n",
            "    model_config = self.create_model_config()\n",
            "                   ^^^^^^^^^^^^^^^^^^^^^^^^^^\n",
            "  File \"/usr/local/lib/python3.11/dist-packages/vllm/engine/arg_utils.py\", line 910, in create_model_config\n",
            "    return ModelConfig(\n",
            "           ^^^^^^^^^^^^\n",
            "  File \"/usr/local/lib/python3.11/dist-packages/pydantic/_internal/_dataclasses.py\", line 121, in __init__\n",
            "    s.__pydantic_validator__.validate_python(ArgsKwargs(args, kwargs), self_instance=s)\n",
            "pydantic_core._pydantic_core.ValidationError: 1 validation error for ModelConfig\n",
            "  Value error, Invalid repository ID or local directory specified: 'outputs/lora-out'.\n",
            "Please verify the following requirements:\n",
            "1. Provide a valid Hugging Face repository ID.\n",
            "2. Specify a local directory that contains a recognized configuration file.\n",
            "   - For Hugging Face models: ensure the presence of a 'config.json'.\n",
            "   - For Mistral models: ensure the presence of a 'params.json'.\n",
            "3. For GGUF: pass the local path of the GGUF checkpoint.\n",
            "   Loading GGUF from a remote repo directly is not yet supported.\n",
            " [type=value_error, input_value=ArgsKwargs((), {'model': ..., 'model_impl': 'auto'}), input_type=ArgsKwargs]\n",
            "    For further information visit https://errors.pydantic.dev/2.10/v/value_error\n"
          ]
        }
      ]
    },
    {
      "cell_type": "code",
      "source": [],
      "metadata": {
        "id": "z-SdxdvG0gsW"
      },
      "execution_count": null,
      "outputs": []
    }
  ],
  "metadata": {
    "kernelspec": {
      "display_name": "Python 3",
      "name": "python3"
    },
    "language_info": {
      "codemirror_mode": {
        "name": "ipython",
        "version": 3
      },
      "file_extension": ".py",
      "mimetype": "text/x-python",
      "name": "python",
      "nbconvert_exporter": "python",
      "pygments_lexer": "ipython3",
      "version": "3.12.10"
    },
    "colab": {
      "provenance": [],
      "machine_shape": "hm",
      "gpuType": "L4",
      "include_colab_link": true
    },
    "accelerator": "GPU"
  },
  "nbformat": 4,
  "nbformat_minor": 0
}