{
  "cells": [
    {
      "cell_type": "markdown",
      "metadata": {
        "id": "view-in-github",
        "colab_type": "text"
      },
      "source": [
        "<a href=\"https://colab.research.google.com/github/mgfrantz/CalTech-CTME-AramCo-2025/blob/main/notebooks/02_fine_tune_lora.ipynb\" target=\"_parent\"><img src=\"https://colab.research.google.com/assets/colab-badge.svg\" alt=\"Open In Colab\"/></a>"
      ]
    },
    {
      "cell_type": "markdown",
      "source": [
        "# Part 1: Dataset Preparation\n",
        "\n",
        "Previously, we created a dataset of question/sql query pairs and validated them against actual SQLite databases.\n",
        "Now that we have this data, our goal is to fine-tune a model to accept a sql schema and a quesiton and output a sqlite query.\n",
        "\n",
        "The first step in this process is preparing our dataset.\n",
        "While there are many [dataset formats](https://docs.axolotl.ai/docs/dataset-formats/), it's important to use the **same dataset format your base model was trained on.**\n",
        "So for example if you have a chat model, you should make sure your dataset is formatted for chat.\n",
        "This ensures you're not learning a new dataset format along with your task.\n",
        "A good way to do that is to look at the axolotl [examples](https://github.com/axolotl-ai-cloud/axolotl/tree/main/examples) - there are samples for most any model family you'd want to fine tune with sensible defaults.\n",
        "\n",
        "In our case, we will output a `.jsonl` file where each line contains the folowing information:\n",
        "\n",
        "```json\n",
        "{\n",
        "    \"conversations\": [\n",
        "        {\n",
        "            \"role\": <system, user, assistant>,\n",
        "            \"content\": \"some content\"\n",
        "        },\n",
        "        ...\n",
        "    ]\n",
        "}\n",
        "```\n",
        "\n",
        "We will follow this general format:\n",
        "\n",
        "- Message 1: our system prompt with general instructions\n",
        "- Message 2: our user message with database schema and user query\n",
        "- Message 3: our validated sql output (what we want to tune the model to output)\n",
        "\n",
        "Let's start by loading and observing our dataset."
      ],
      "metadata": {
        "id": "LA9sUDBfwiM9"
      }
    },
    {
      "cell_type": "code",
      "execution_count": null,
      "metadata": {
        "id": "toX4WhNCvIW4"
      },
      "outputs": [],
      "source": [
        "import json\n",
        "\n",
        "import duckdb\n",
        "import pandas as pd\n",
        "from IPython.display import display\n",
        "from tqdm.auto import tqdm"
      ]
    },
    {
      "cell_type": "code",
      "execution_count": null,
      "metadata": {
        "id": "iK_4qRtOvIW6"
      },
      "outputs": [],
      "source": [
        "# If running this on colab, make sure to upload the parquet file and update the path.\n",
        "df = pd.read_parquet(\"../output/validated_dataset.parquet\")"
      ]
    },
    {
      "cell_type": "code",
      "execution_count": null,
      "metadata": {
        "id": "YifRBpdivIW6",
        "outputId": "d4a3ea68-dae0-4c60-cad1-39f179fc8a86"
      },
      "outputs": [
        {
          "data": {
            "text/html": [
              "<div>\n",
              "<style scoped>\n",
              "    .dataframe tbody tr th:only-of-type {\n",
              "        vertical-align: middle;\n",
              "    }\n",
              "\n",
              "    .dataframe tbody tr th {\n",
              "        vertical-align: top;\n",
              "    }\n",
              "\n",
              "    .dataframe thead th {\n",
              "        text-align: right;\n",
              "    }\n",
              "</style>\n",
              "<table border=\"1\" class=\"dataframe\">\n",
              "  <thead>\n",
              "    <tr style=\"text-align: right;\">\n",
              "      <th></th>\n",
              "      <th>db_path</th>\n",
              "      <th>question</th>\n",
              "      <th>query</th>\n",
              "      <th>answer</th>\n",
              "      <th>is_valid</th>\n",
              "      <th>error</th>\n",
              "    </tr>\n",
              "  </thead>\n",
              "  <tbody>\n",
              "    <tr>\n",
              "      <th>0</th>\n",
              "      <td>/Users/michaelfrantz/dev/CalTech-CTME-AramCo-2...</td>\n",
              "      <td>How many orders were placed in the most recent...</td>\n",
              "      <td>SELECT COUNT(*) FROM orders WHERE order_date &gt;...</td>\n",
              "      <td>[[20]]</td>\n",
              "      <td>True</td>\n",
              "      <td>None</td>\n",
              "    </tr>\n",
              "    <tr>\n",
              "      <th>1</th>\n",
              "      <td>/Users/michaelfrantz/dev/CalTech-CTME-AramCo-2...</td>\n",
              "      <td>What is the total amount spent by customers in...</td>\n",
              "      <td>SELECT SUM(total_amount) FROM orders WHERE ord...</td>\n",
              "      <td>[[875.9686307710034]]</td>\n",
              "      <td>True</td>\n",
              "      <td>None</td>\n",
              "    </tr>\n",
              "    <tr>\n",
              "      <th>2</th>\n",
              "      <td>/Users/michaelfrantz/dev/CalTech-CTME-AramCo-2...</td>\n",
              "      <td>Who are the top 5 customers by the number of o...</td>\n",
              "      <td>SELECT c.first_name, c.last_name, COUNT(o.id) ...</td>\n",
              "      <td>[[\"Michael\", \"Brown\", 3], [\"Timothy\", \"Wilson\"...</td>\n",
              "      <td>True</td>\n",
              "      <td>None</td>\n",
              "    </tr>\n",
              "    <tr>\n",
              "      <th>3</th>\n",
              "      <td>/Users/michaelfrantz/dev/CalTech-CTME-AramCo-2...</td>\n",
              "      <td>Which restaurant received the highest number o...</td>\n",
              "      <td>SELECT r.name, COUNT(o.id) as order_count FROM...</td>\n",
              "      <td>[[\"Baker-Martin\", 2]]</td>\n",
              "      <td>True</td>\n",
              "      <td>None</td>\n",
              "    </tr>\n",
              "    <tr>\n",
              "      <th>4</th>\n",
              "      <td>/Users/michaelfrantz/dev/CalTech-CTME-AramCo-2...</td>\n",
              "      <td>What is the average order amount for completed...</td>\n",
              "      <td>SELECT AVG(total_amount) FROM orders WHERE sta...</td>\n",
              "      <td>[[51.165547081963425]]</td>\n",
              "      <td>True</td>\n",
              "      <td>None</td>\n",
              "    </tr>\n",
              "  </tbody>\n",
              "</table>\n",
              "</div>"
            ],
            "text/plain": [
              "                                             db_path  \\\n",
              "0  /Users/michaelfrantz/dev/CalTech-CTME-AramCo-2...   \n",
              "1  /Users/michaelfrantz/dev/CalTech-CTME-AramCo-2...   \n",
              "2  /Users/michaelfrantz/dev/CalTech-CTME-AramCo-2...   \n",
              "3  /Users/michaelfrantz/dev/CalTech-CTME-AramCo-2...   \n",
              "4  /Users/michaelfrantz/dev/CalTech-CTME-AramCo-2...   \n",
              "\n",
              "                                            question  \\\n",
              "0  How many orders were placed in the most recent...   \n",
              "1  What is the total amount spent by customers in...   \n",
              "2  Who are the top 5 customers by the number of o...   \n",
              "3  Which restaurant received the highest number o...   \n",
              "4  What is the average order amount for completed...   \n",
              "\n",
              "                                               query  \\\n",
              "0  SELECT COUNT(*) FROM orders WHERE order_date >...   \n",
              "1  SELECT SUM(total_amount) FROM orders WHERE ord...   \n",
              "2  SELECT c.first_name, c.last_name, COUNT(o.id) ...   \n",
              "3  SELECT r.name, COUNT(o.id) as order_count FROM...   \n",
              "4  SELECT AVG(total_amount) FROM orders WHERE sta...   \n",
              "\n",
              "                                              answer  is_valid error  \n",
              "0                                             [[20]]      True  None  \n",
              "1                              [[875.9686307710034]]      True  None  \n",
              "2  [[\"Michael\", \"Brown\", 3], [\"Timothy\", \"Wilson\"...      True  None  \n",
              "3                              [[\"Baker-Martin\", 2]]      True  None  \n",
              "4                             [[51.165547081963425]]      True  None  "
            ]
          },
          "execution_count": 3,
          "metadata": {},
          "output_type": "execute_result"
        }
      ],
      "source": [
        "df.head()"
      ]
    },
    {
      "cell_type": "markdown",
      "source": [
        "Now, let's create some utilities to get the schema of the database as a string so we can pass it to the model."
      ],
      "metadata": {
        "id": "Lq6CVs-230ot"
      }
    },
    {
      "cell_type": "code",
      "execution_count": null,
      "metadata": {
        "id": "c6OvetrTvIW7"
      },
      "outputs": [],
      "source": [
        "# Utilities\n",
        "duckdb.execute(\"\"\"\n",
        "INSTALL sqlite;\n",
        "LOAD sqlite;\n",
        "\"\"\")\n",
        "\n",
        "def query_sqlite(query:str, db_path:str) -> pd.DataFrame:\n",
        "    conn = duckdb.connect(db_path)\n",
        "    return conn.execute(query).fetch_df()"
      ]
    },
    {
      "cell_type": "code",
      "execution_count": null,
      "metadata": {
        "id": "bzeCD_vjvIW7",
        "outputId": "ab8cab69-bf94-4527-817d-5de3cddea4a8"
      },
      "outputs": [
        {
          "name": "stdout",
          "output_type": "stream",
          "text": [
            "/Users/michaelfrantz/dev/CalTech-CTME-AramCo-2025/output/db/database_0.db\n"
          ]
        }
      ],
      "source": [
        "path = df.db_path.iloc[0]\n",
        "print(path)"
      ]
    },
    {
      "cell_type": "code",
      "execution_count": null,
      "metadata": {
        "id": "HlahhsYdvIW7",
        "outputId": "2b4e1820-6e2a-4ff3-d54a-e76d4d12ebc7"
      },
      "outputs": [
        {
          "data": {
            "text/html": [
              "<div>\n",
              "<style scoped>\n",
              "    .dataframe tbody tr th:only-of-type {\n",
              "        vertical-align: middle;\n",
              "    }\n",
              "\n",
              "    .dataframe tbody tr th {\n",
              "        vertical-align: top;\n",
              "    }\n",
              "\n",
              "    .dataframe thead th {\n",
              "        text-align: right;\n",
              "    }\n",
              "</style>\n",
              "<table border=\"1\" class=\"dataframe\">\n",
              "  <thead>\n",
              "    <tr style=\"text-align: right;\">\n",
              "      <th></th>\n",
              "      <th>name</th>\n",
              "    </tr>\n",
              "  </thead>\n",
              "  <tbody>\n",
              "    <tr>\n",
              "      <th>0</th>\n",
              "      <td>customers</td>\n",
              "    </tr>\n",
              "    <tr>\n",
              "      <th>1</th>\n",
              "      <td>drivers</td>\n",
              "    </tr>\n",
              "    <tr>\n",
              "      <th>2</th>\n",
              "      <td>orders</td>\n",
              "    </tr>\n",
              "    <tr>\n",
              "      <th>3</th>\n",
              "      <td>restaurants</td>\n",
              "    </tr>\n",
              "  </tbody>\n",
              "</table>\n",
              "</div>"
            ],
            "text/plain": [
              "          name\n",
              "0    customers\n",
              "1      drivers\n",
              "2       orders\n",
              "3  restaurants"
            ]
          },
          "execution_count": 6,
          "metadata": {},
          "output_type": "execute_result"
        }
      ],
      "source": [
        "tables = query_sqlite('SHOW TABLES', path)\n",
        "tables"
      ]
    },
    {
      "cell_type": "code",
      "execution_count": null,
      "metadata": {
        "id": "CdqZlSqwvIW7",
        "outputId": "2f7216b3-1cdb-4213-8a7d-459b61841c21"
      },
      "outputs": [
        {
          "name": "stdout",
          "output_type": "stream",
          "text": [
            "customers\n"
          ]
        },
        {
          "data": {
            "text/html": [
              "<div>\n",
              "<style scoped>\n",
              "    .dataframe tbody tr th:only-of-type {\n",
              "        vertical-align: middle;\n",
              "    }\n",
              "\n",
              "    .dataframe tbody tr th {\n",
              "        vertical-align: top;\n",
              "    }\n",
              "\n",
              "    .dataframe thead th {\n",
              "        text-align: right;\n",
              "    }\n",
              "</style>\n",
              "<table border=\"1\" class=\"dataframe\">\n",
              "  <thead>\n",
              "    <tr style=\"text-align: right;\">\n",
              "      <th></th>\n",
              "      <th>column_name</th>\n",
              "      <th>column_type</th>\n",
              "      <th>null</th>\n",
              "      <th>key</th>\n",
              "    </tr>\n",
              "  </thead>\n",
              "  <tbody>\n",
              "    <tr>\n",
              "      <th>0</th>\n",
              "      <td>id</td>\n",
              "      <td>BIGINT</td>\n",
              "      <td>NO</td>\n",
              "      <td>PRI</td>\n",
              "    </tr>\n",
              "    <tr>\n",
              "      <th>1</th>\n",
              "      <td>first_name</td>\n",
              "      <td>VARCHAR</td>\n",
              "      <td>NO</td>\n",
              "      <td>None</td>\n",
              "    </tr>\n",
              "    <tr>\n",
              "      <th>2</th>\n",
              "      <td>last_name</td>\n",
              "      <td>VARCHAR</td>\n",
              "      <td>NO</td>\n",
              "      <td>None</td>\n",
              "    </tr>\n",
              "    <tr>\n",
              "      <th>3</th>\n",
              "      <td>email</td>\n",
              "      <td>VARCHAR</td>\n",
              "      <td>NO</td>\n",
              "      <td>None</td>\n",
              "    </tr>\n",
              "    <tr>\n",
              "      <th>4</th>\n",
              "      <td>phone_number</td>\n",
              "      <td>VARCHAR</td>\n",
              "      <td>NO</td>\n",
              "      <td>None</td>\n",
              "    </tr>\n",
              "  </tbody>\n",
              "</table>\n",
              "</div>"
            ],
            "text/plain": [
              "    column_name column_type null   key\n",
              "0            id      BIGINT   NO   PRI\n",
              "1    first_name     VARCHAR   NO  None\n",
              "2     last_name     VARCHAR   NO  None\n",
              "3         email     VARCHAR   NO  None\n",
              "4  phone_number     VARCHAR   NO  None"
            ]
          },
          "metadata": {},
          "output_type": "display_data"
        },
        {
          "name": "stdout",
          "output_type": "stream",
          "text": [
            "drivers\n"
          ]
        },
        {
          "data": {
            "text/html": [
              "<div>\n",
              "<style scoped>\n",
              "    .dataframe tbody tr th:only-of-type {\n",
              "        vertical-align: middle;\n",
              "    }\n",
              "\n",
              "    .dataframe tbody tr th {\n",
              "        vertical-align: top;\n",
              "    }\n",
              "\n",
              "    .dataframe thead th {\n",
              "        text-align: right;\n",
              "    }\n",
              "</style>\n",
              "<table border=\"1\" class=\"dataframe\">\n",
              "  <thead>\n",
              "    <tr style=\"text-align: right;\">\n",
              "      <th></th>\n",
              "      <th>column_name</th>\n",
              "      <th>column_type</th>\n",
              "      <th>null</th>\n",
              "      <th>key</th>\n",
              "    </tr>\n",
              "  </thead>\n",
              "  <tbody>\n",
              "    <tr>\n",
              "      <th>0</th>\n",
              "      <td>id</td>\n",
              "      <td>BIGINT</td>\n",
              "      <td>NO</td>\n",
              "      <td>PRI</td>\n",
              "    </tr>\n",
              "    <tr>\n",
              "      <th>1</th>\n",
              "      <td>first_name</td>\n",
              "      <td>VARCHAR</td>\n",
              "      <td>NO</td>\n",
              "      <td>None</td>\n",
              "    </tr>\n",
              "    <tr>\n",
              "      <th>2</th>\n",
              "      <td>last_name</td>\n",
              "      <td>VARCHAR</td>\n",
              "      <td>NO</td>\n",
              "      <td>None</td>\n",
              "    </tr>\n",
              "    <tr>\n",
              "      <th>3</th>\n",
              "      <td>phone_number</td>\n",
              "      <td>VARCHAR</td>\n",
              "      <td>NO</td>\n",
              "      <td>None</td>\n",
              "    </tr>\n",
              "    <tr>\n",
              "      <th>4</th>\n",
              "      <td>license_number</td>\n",
              "      <td>VARCHAR</td>\n",
              "      <td>NO</td>\n",
              "      <td>None</td>\n",
              "    </tr>\n",
              "  </tbody>\n",
              "</table>\n",
              "</div>"
            ],
            "text/plain": [
              "      column_name column_type null   key\n",
              "0              id      BIGINT   NO   PRI\n",
              "1      first_name     VARCHAR   NO  None\n",
              "2       last_name     VARCHAR   NO  None\n",
              "3    phone_number     VARCHAR   NO  None\n",
              "4  license_number     VARCHAR   NO  None"
            ]
          },
          "metadata": {},
          "output_type": "display_data"
        },
        {
          "name": "stdout",
          "output_type": "stream",
          "text": [
            "orders\n"
          ]
        },
        {
          "data": {
            "text/html": [
              "<div>\n",
              "<style scoped>\n",
              "    .dataframe tbody tr th:only-of-type {\n",
              "        vertical-align: middle;\n",
              "    }\n",
              "\n",
              "    .dataframe tbody tr th {\n",
              "        vertical-align: top;\n",
              "    }\n",
              "\n",
              "    .dataframe thead th {\n",
              "        text-align: right;\n",
              "    }\n",
              "</style>\n",
              "<table border=\"1\" class=\"dataframe\">\n",
              "  <thead>\n",
              "    <tr style=\"text-align: right;\">\n",
              "      <th></th>\n",
              "      <th>column_name</th>\n",
              "      <th>column_type</th>\n",
              "      <th>null</th>\n",
              "      <th>key</th>\n",
              "    </tr>\n",
              "  </thead>\n",
              "  <tbody>\n",
              "    <tr>\n",
              "      <th>0</th>\n",
              "      <td>id</td>\n",
              "      <td>BIGINT</td>\n",
              "      <td>NO</td>\n",
              "      <td>PRI</td>\n",
              "    </tr>\n",
              "    <tr>\n",
              "      <th>1</th>\n",
              "      <td>customer_id</td>\n",
              "      <td>BIGINT</td>\n",
              "      <td>NO</td>\n",
              "      <td>None</td>\n",
              "    </tr>\n",
              "    <tr>\n",
              "      <th>2</th>\n",
              "      <td>restaurant_id</td>\n",
              "      <td>BIGINT</td>\n",
              "      <td>NO</td>\n",
              "      <td>None</td>\n",
              "    </tr>\n",
              "    <tr>\n",
              "      <th>3</th>\n",
              "      <td>order_date</td>\n",
              "      <td>TIMESTAMP</td>\n",
              "      <td>NO</td>\n",
              "      <td>None</td>\n",
              "    </tr>\n",
              "    <tr>\n",
              "      <th>4</th>\n",
              "      <td>total_amount</td>\n",
              "      <td>DOUBLE</td>\n",
              "      <td>NO</td>\n",
              "      <td>None</td>\n",
              "    </tr>\n",
              "    <tr>\n",
              "      <th>5</th>\n",
              "      <td>status</td>\n",
              "      <td>VARCHAR</td>\n",
              "      <td>NO</td>\n",
              "      <td>None</td>\n",
              "    </tr>\n",
              "  </tbody>\n",
              "</table>\n",
              "</div>"
            ],
            "text/plain": [
              "     column_name column_type null   key\n",
              "0             id      BIGINT   NO   PRI\n",
              "1    customer_id      BIGINT   NO  None\n",
              "2  restaurant_id      BIGINT   NO  None\n",
              "3     order_date   TIMESTAMP   NO  None\n",
              "4   total_amount      DOUBLE   NO  None\n",
              "5         status     VARCHAR   NO  None"
            ]
          },
          "metadata": {},
          "output_type": "display_data"
        },
        {
          "name": "stdout",
          "output_type": "stream",
          "text": [
            "restaurants\n"
          ]
        },
        {
          "data": {
            "text/html": [
              "<div>\n",
              "<style scoped>\n",
              "    .dataframe tbody tr th:only-of-type {\n",
              "        vertical-align: middle;\n",
              "    }\n",
              "\n",
              "    .dataframe tbody tr th {\n",
              "        vertical-align: top;\n",
              "    }\n",
              "\n",
              "    .dataframe thead th {\n",
              "        text-align: right;\n",
              "    }\n",
              "</style>\n",
              "<table border=\"1\" class=\"dataframe\">\n",
              "  <thead>\n",
              "    <tr style=\"text-align: right;\">\n",
              "      <th></th>\n",
              "      <th>column_name</th>\n",
              "      <th>column_type</th>\n",
              "      <th>null</th>\n",
              "      <th>key</th>\n",
              "    </tr>\n",
              "  </thead>\n",
              "  <tbody>\n",
              "    <tr>\n",
              "      <th>0</th>\n",
              "      <td>id</td>\n",
              "      <td>BIGINT</td>\n",
              "      <td>NO</td>\n",
              "      <td>PRI</td>\n",
              "    </tr>\n",
              "    <tr>\n",
              "      <th>1</th>\n",
              "      <td>name</td>\n",
              "      <td>VARCHAR</td>\n",
              "      <td>NO</td>\n",
              "      <td>None</td>\n",
              "    </tr>\n",
              "    <tr>\n",
              "      <th>2</th>\n",
              "      <td>address</td>\n",
              "      <td>VARCHAR</td>\n",
              "      <td>NO</td>\n",
              "      <td>None</td>\n",
              "    </tr>\n",
              "    <tr>\n",
              "      <th>3</th>\n",
              "      <td>phone_number</td>\n",
              "      <td>VARCHAR</td>\n",
              "      <td>NO</td>\n",
              "      <td>None</td>\n",
              "    </tr>\n",
              "  </tbody>\n",
              "</table>\n",
              "</div>"
            ],
            "text/plain": [
              "    column_name column_type null   key\n",
              "0            id      BIGINT   NO   PRI\n",
              "1          name     VARCHAR   NO  None\n",
              "2       address     VARCHAR   NO  None\n",
              "3  phone_number     VARCHAR   NO  None"
            ]
          },
          "metadata": {},
          "output_type": "display_data"
        }
      ],
      "source": [
        "for table in tables.name:\n",
        "    print(table)\n",
        "    display(t:=query_sqlite(f'DESCRIBE TABLE {table}', path).dropna(how='all', axis=1))"
      ]
    },
    {
      "cell_type": "code",
      "execution_count": null,
      "metadata": {
        "id": "DT4zfNoZvIW8"
      },
      "outputs": [],
      "source": [
        "def table_metadata(db_path:str) -> dict[str, pd.DataFrame]:\n",
        "    \"\"\"\n",
        "    Get metadata for all tables in the database.\n",
        "    \"\"\"\n",
        "    tables = query_sqlite('SHOW TABLES', db_path)\n",
        "    metadata = {}\n",
        "    for table in tables.name:\n",
        "        metadata[table] = query_sqlite(f'DESCRIBE TABLE {table}', db_path).dropna(how='all', axis=1)\n",
        "    return metadata"
      ]
    },
    {
      "cell_type": "code",
      "execution_count": null,
      "metadata": {
        "id": "weAvzz0DvIW8"
      },
      "outputs": [],
      "source": [
        "def format_schema_for_chat(metadata: dict[str, pd.DataFrame]) -> str:\n",
        "    \"\"\"\n",
        "    Format table metadata into a readable string for chat training.\n",
        "    \"\"\"\n",
        "    schema_lines = []\n",
        "\n",
        "    for table_name, df in metadata.items():\n",
        "        schema_lines.append(f\"Table: {table_name}\")\n",
        "\n",
        "        for _, row in df.iterrows():\n",
        "            col_info = f\"  - {row['column_name']} ({row['column_type']}\"\n",
        "            if row['key'] == 'PRI':\n",
        "                col_info += \", PRIMARY KEY\"\n",
        "            elif pd.notna(row['key']) and row['key'] != 'None':\n",
        "                col_info += f\", {row['key']}\"\n",
        "            if row['null'] == 'NO':\n",
        "                col_info += \", NOT NULL\"\n",
        "            col_info += \")\"\n",
        "            schema_lines.append(col_info)\n",
        "\n",
        "        schema_lines.append(\"\")  # Add blank line between tables\n",
        "\n",
        "    return \"\\n\".join(schema_lines).strip()\n",
        "\n",
        "def create_chatml_dataset(df: pd.DataFrame) -> list[dict]:\n",
        "    \"\"\"\n",
        "    Create ChatML conversations format dataset directly from DataFrame.\n",
        "    Includes system prompt with SQLite constraints.\n",
        "    \"\"\"\n",
        "    # SQLite-focused system prompt based on constraints from prompts.py\n",
        "    system_prompt = \"\"\"You are an expert SQL developer specializing in SQLite. Generate accurate SQL queries that follow these requirements:\n",
        "\n",
        "SQLITE REQUIREMENTS:\n",
        "1. Use only standard SQLite-compatible SQL syntax\n",
        "2. Avoid PostgreSQL-specific functions like INTERVAL - use date arithmetic instead\n",
        "3. Use SQLite date functions: date(), datetime(), julianday() for date calculations\n",
        "4. For \"recent month\" use: WHERE date_column >= date((SELECT MAX(date_column) FROM table_name), '-1 month')\n",
        "5. For \"past 30 days\" use: WHERE date_column >= date((SELECT MAX(date_column) FROM table_name), '-30 days')\n",
        "6. For rolling averages, use window functions or subqueries\n",
        "7. Use MAX(appropriate_date_column) to find the most recent date\n",
        "8. Use proper SQLite column types: INTEGER, TEXT, REAL, BLOB\n",
        "9. Handle foreign key relationships correctly with proper JOIN syntax\n",
        "\n",
        "QUERY STANDARDS:\n",
        "- Write clear, efficient queries\n",
        "- Use appropriate aggregation functions (COUNT, SUM, AVG, MAX, MIN)\n",
        "- Include proper GROUP BY and ORDER BY clauses when needed\n",
        "- Use table aliases for readability in complex queries\"\"\"\n",
        "\n",
        "    chatml_data = []\n",
        "\n",
        "    for idx, row in tqdm(df.iterrows(), total=len(df), desc=\"Creating ChatML dataset\"):\n",
        "        # Skip invalid entries\n",
        "        if not row['is_valid']:\n",
        "            continue\n",
        "\n",
        "        # Get table metadata for this database\n",
        "        metadata = table_metadata(row['db_path'])\n",
        "        schema_text = format_schema_for_chat(metadata)\n",
        "\n",
        "        # Create user message with schema and question\n",
        "        user_content = f\"Database Schema:\\n{schema_text}\\n\\nQuestion: {row['question']}\"\n",
        "\n",
        "        # Create ChatML conversation with system prompt\n",
        "        chatml_entry = {\n",
        "            \"conversations\": [\n",
        "                {\n",
        "                    \"role\": \"system\",\n",
        "                    \"content\": system_prompt\n",
        "                },\n",
        "                {\n",
        "                    \"role\": \"user\",\n",
        "                    \"content\": user_content\n",
        "                },\n",
        "                {\n",
        "                    \"role\": \"assistant\",\n",
        "                    \"content\": row['query']\n",
        "                }\n",
        "            ]\n",
        "        }\n",
        "\n",
        "        chatml_data.append(chatml_entry)\n",
        "\n",
        "    return chatml_data"
      ]
    },
    {
      "cell_type": "markdown",
      "source": [
        "Now that we've created our utilities, let's complete our chatml dataset."
      ],
      "metadata": {
        "id": "dDoJswpY4V-P"
      }
    },
    {
      "cell_type": "code",
      "execution_count": null,
      "metadata": {
        "id": "_zkKrLVDvIW8",
        "outputId": "65a9295a-63a8-4a39-e649-364565610696",
        "colab": {
          "referenced_widgets": [
            "c3aee61fbfe3403fb269c7d049d7d09e"
          ]
        }
      },
      "outputs": [
        {
          "name": "stdout",
          "output_type": "stream",
          "text": [
            "Creating ChatML format dataset for Axolotl...\n"
          ]
        },
        {
          "data": {
            "application/vnd.jupyter.widget-view+json": {
              "model_id": "c3aee61fbfe3403fb269c7d049d7d09e",
              "version_major": 2,
              "version_minor": 0
            },
            "text/plain": [
              "Creating ChatML dataset:   0%|          | 0/151 [00:00<?, ?it/s]"
            ]
          },
          "metadata": {},
          "output_type": "display_data"
        },
        {
          "name": "stdout",
          "output_type": "stream",
          "text": [
            "Created 150 ChatML training examples\n",
            "Saved ChatML training data to chatml_training_data.jsonl\n",
            "\n",
            "Sample ChatML training entry:\n",
            "{\n",
            "  \"conversations\": [\n",
            "    {\n",
            "      \"role\": \"system\",\n",
            "      \"content\": \"You are an expert SQL developer specializing in SQLite. Generate accurate SQL queries that follow these requirements:\\n\\nSQLITE REQUIREMENTS:\\n1. Use only standard SQLite-compatible SQL syntax\\n2. Avoid PostgreSQL-specific functions like INTERVAL - use date arithmetic instead\\n3. Use SQLite date functions: date(), datetime(), julianday() for date calculations\\n4. For \\\"recent month\\\" use: WHERE date_column >= date((SELECT MAX(date_column) FROM table_name), '-1 month')\\n5. For \\\"past 30 days\\\" use: WHERE date_column >= date((SELECT MAX(date_column) FROM table_name), '-30 days')\\n6. For rolling averages, use window functions or subqueries\\n7. Use MAX(appropriate_date_column) to find the most recent date\\n8. Use proper SQLite column types: INTEGER, TEXT, REAL, BLOB\\n9. Handle foreign key relationships correctly with proper JOIN syntax\\n\\nQUERY STANDARDS:\\n- Write clear, efficient queries\\n- Use appropriate aggregation functions (COUNT, SUM, AVG, MAX, MIN)\\n- Include proper GROUP BY and ORDER BY clauses when needed\\n- Use table aliases for readability in complex queries\"\n",
            "    },\n",
            "    {\n",
            "      \"role\": \"user\",\n",
            "      \"content\": \"Database Schema:\\nTable: customers\\n  - id (BIGINT, PRIMARY KEY, NOT NULL)\\n  - first_name (VARCHAR, NOT NULL)\\n  - last_name (VARCHAR, NOT NULL)\\n  - email (VARCHAR, NOT NULL)\\n  - phone_number (VARCHAR, NOT NULL)\\n\\nTable: drivers\\n  - id (BIGINT, PRIMARY KEY, NOT NULL)\\n  - first_name (VARCHAR, NOT NULL)\\n  - last_name (VARCHAR, NOT NULL)\\n  - phone_number (VARCHAR, NOT NULL)\\n  - license_number (VARCHAR, NOT NULL)\\n\\nTable: orders\\n  - id (BIGINT, PRIMARY KEY, NOT NULL)\\n  - customer_id (BIGINT, NOT NULL)\\n  - restaurant_id (BIGINT, NOT NULL)\\n  - order_date (TIMESTAMP, NOT NULL)\\n  - total_amount (DOUBLE, NOT NULL)\\n  - status (VARCHAR, NOT NULL)\\n\\nTable: restaurants\\n  - id (BIGINT, PRIMARY KEY, NOT NULL)\\n  - name (VARCHAR, NOT NULL)\\n  - address (VARCHAR, NOT NULL)\\n  - phone_number (VARCHAR, NOT NULL)\\n\\nQuestion: How many orders were placed in the most recent month?\"\n",
            "    },\n",
            "    {\n",
            "      \"role\": \"assistant\",\n",
            "      \"content\": \"SELECT COUNT(*) FROM orders WHERE order_date >= date((SELECT MAX(order_date) FROM orders), '-1 month')\"\n",
            "    }\n",
            "  ]\n",
            "}\n"
          ]
        }
      ],
      "source": [
        "# Create the ChatML format dataset for Axolotl\n",
        "print(\"Creating ChatML format dataset for Axolotl...\")\n",
        "chatml_dataset = create_chatml_dataset(df)\n",
        "\n",
        "print(f\"Created {len(chatml_dataset)} ChatML training examples\")\n",
        "\n",
        "# Save to JSONL file for Axolotl\n",
        "chatml_output_file = \"chatml_training_data.jsonl\"\n",
        "with open(chatml_output_file, 'w') as f:\n",
        "    for entry in chatml_dataset:\n",
        "        f.write(json.dumps(entry) + '\\n')\n",
        "\n",
        "print(f\"Saved ChatML training data to {chatml_output_file}\")\n",
        "\n",
        "# Display a sample ChatML entry\n",
        "print(\"\\nSample ChatML training entry:\")\n",
        "print(json.dumps(chatml_dataset[0], indent=2))"
      ]
    },
    {
      "cell_type": "code",
      "source": [
        "# Note: must be connected to at least an L4 gpu (colab or other) to use flash-attn\n",
        "!uv pip install -Uqqq packaging setuptools wheel ninja\n",
        "!uv pip install -qqq --no-build-isolation \"axolotl[flash-attn,deepspeed]\"\n",
        "!uv pip install -qqq \"cut-cross-entropy[transformers] @ git+https://github.com/apple/ml-cross-entropy.git@bad6f7b49c75fdec69471abb71b4cddd0f0c6438\"\n",
        "!uv pip install -qqq \"git+https://github.com/linkedin/Liger-Kernel.git\""
      ],
      "metadata": {
        "id": "qBO2ozuHvO0i"
      },
      "execution_count": 1,
      "outputs": []
    },
    {
      "cell_type": "code",
      "source": [
        "import os\n",
        "from google.colab import userdata\n",
        "os.environ['HF_TOKEN'] = userdata.get('HF_TOKEN')"
      ],
      "metadata": {
        "id": "30RQ8n4Tzf11"
      },
      "execution_count": 2,
      "outputs": []
    },
    {
      "cell_type": "code",
      "execution_count": 19,
      "metadata": {
        "id": "TBi-voMmvIW8",
        "outputId": "743fda6f-6775-433e-b144-dbb5a7449dd5",
        "colab": {
          "base_uri": "https://localhost:8080/"
        }
      },
      "outputs": [
        {
          "output_type": "stream",
          "name": "stdout",
          "text": [
            "Overwriting axolotl.yaml\n"
          ]
        }
      ],
      "source": [
        "%%writefile axolotl.yaml\n",
        "base_model: NousResearch/Meta-Llama-3.1-8B\n",
        "\n",
        "load_in_8bit: false\n",
        "load_in_4bit: true\n",
        "strict: false\n",
        "\n",
        "datasets:\n",
        "  - path: chatml_training_data.jsonl\n",
        "    type: chat_template\n",
        "dataset_prepared_path: last_run_prepared\n",
        "val_set_size: 0.05\n",
        "output_dir: ./outputs/lora-out\n",
        "\n",
        "sequence_len: 2048\n",
        "sample_packing: true\n",
        "eval_sample_packing: true\n",
        "pad_to_sequence_len: true\n",
        "\n",
        "adapter: qlora\n",
        "lora_model_dir:\n",
        "lora_r: 32\n",
        "lora_alpha: 16\n",
        "lora_dropout: 0.05\n",
        "lora_target_linear: true\n",
        "lora_fan_in_fan_out:\n",
        "lora_modules_to_save:\n",
        "  - embed_tokens\n",
        "  - lm_head\n",
        "\n",
        "wandb_project:\n",
        "wandb_entity:\n",
        "wandb_watch:\n",
        "wandb_name:\n",
        "wandb_log_model:\n",
        "\n",
        "gradient_accumulation_steps: 2\n",
        "micro_batch_size: 1\n",
        "num_epochs: 1\n",
        "optimizer: paged_adamw_8bit\n",
        "lr_scheduler: cosine\n",
        "learning_rate: 2e-5\n",
        "\n",
        "train_on_inputs: false\n",
        "group_by_length: false\n",
        "bf16: auto\n",
        "fp16:\n",
        "tf32: false\n",
        "\n",
        "gradient_checkpointing: true\n",
        "early_stopping_patience:\n",
        "resume_from_checkpoint:\n",
        "logging_steps: 1\n",
        "xformers_attention:\n",
        "flash_attention: false\n",
        "sdp_attention: true\n",
        "\n",
        "warmup_steps: 1\n",
        "max_steps: 25\n",
        "evals_per_epoch: 1\n",
        "eval_table_size:\n",
        "saves_per_epoch: 1\n",
        "debug:\n",
        "deepspeed:\n",
        "weight_decay: 0.0\n",
        "fsdp:\n",
        "fsdp_config:\n",
        "special_tokens:\n",
        "  pad_token: <|end_of_text|>"
      ]
    },
    {
      "cell_type": "code",
      "source": [
        "%%writefile axolotl.yaml\n",
        "base_model: Qwen/Qwen3-8B\n",
        "# Automatically upload checkpoint and final model to HF\n",
        "# hub_model_id: username/custom_model_name\n",
        "\n",
        "plugins:\n",
        "  - axolotl.integrations.cut_cross_entropy.CutCrossEntropyPlugin\n",
        "strict: false\n",
        "\n",
        "chat_template: qwen3\n",
        "datasets:\n",
        "  - path: chatml_training_data.jsonl\n",
        "    type: chat_template\n",
        "dataset_prepared_path: last_run_prepared\n",
        "val_set_size: 0.1\n",
        "output_dir: ./outputs/lora-out\n",
        "\n",
        "sequence_len: 2048\n",
        "sample_packing: true\n",
        "eval_sample_packing: true\n",
        "pad_to_sequence_len: true\n",
        "\n",
        "load_in_4bit: true\n",
        "adapter: qlora\n",
        "lora_r: 16\n",
        "lora_alpha: 32\n",
        "lora_target_modules:\n",
        "  - q_proj\n",
        "  - k_proj\n",
        "  - v_proj\n",
        "  - o_proj\n",
        "  - down_proj\n",
        "  - up_proj\n",
        "lora_mlp_kernel: true\n",
        "lora_qkv_kernel: true\n",
        "lora_o_kernel: true\n",
        "\n",
        "wandb_project:\n",
        "wandb_entity:\n",
        "wandb_watch:\n",
        "wandb_name:\n",
        "wandb_log_model:\n",
        "\n",
        "gradient_accumulation_steps: 2\n",
        "micro_batch_size: 1\n",
        "num_epochs: 1\n",
        "optimizer: adamw_torch_4bit\n",
        "lr_scheduler: cosine\n",
        "learning_rate: 0.0002\n",
        "\n",
        "bf16: auto\n",
        "tf32: true\n",
        "\n",
        "gradient_checkpointing: offload\n",
        "gradient_checkpointing_kwargs:\n",
        "  use_reentrant: false\n",
        "resume_from_checkpoint:\n",
        "logging_steps: 1\n",
        "flash_attention: true\n",
        "\n",
        "warmup_steps: 10\n",
        "evals_per_epoch: 4\n",
        "saves_per_epoch: 1\n",
        "weight_decay: 0.0\n",
        "special_tokens:"
      ],
      "metadata": {
        "id": "D8kFUIFR6Hbi",
        "outputId": "effbfd90-ef1a-46dc-9a44-53b32ae9917e",
        "colab": {
          "base_uri": "https://localhost:8080/"
        }
      },
      "execution_count": 3,
      "outputs": [
        {
          "output_type": "stream",
          "name": "stdout",
          "text": [
            "Writing axolotl.yaml\n"
          ]
        }
      ]
    },
    {
      "cell_type": "code",
      "execution_count": null,
      "metadata": {
        "id": "rWb-L0YfvIW9",
        "outputId": "2b60ad4e-6798-46ea-8f55-214e5cd6cc15",
        "colab": {
          "base_uri": "https://localhost:8080/"
        }
      },
      "outputs": [
        {
          "output_type": "stream",
          "name": "stdout",
          "text": [
            "2025-06-24 21:54:52.655859: I tensorflow/core/util/port.cc:153] oneDNN custom operations are on. You may see slightly different numerical results due to floating-point round-off errors from different computation orders. To turn them off, set the environment variable `TF_ENABLE_ONEDNN_OPTS=0`.\n",
            "2025-06-24 21:54:52.671676: E external/local_xla/xla/stream_executor/cuda/cuda_fft.cc:477] Unable to register cuFFT factory: Attempting to register factory for plugin cuFFT when one has already been registered\n",
            "WARNING: All log messages before absl::InitializeLog() is called are written to STDERR\n",
            "E0000 00:00:1750802092.692549    1255 cuda_dnn.cc:8310] Unable to register cuDNN factory: Attempting to register factory for plugin cuDNN when one has already been registered\n",
            "E0000 00:00:1750802092.699148    1255 cuda_blas.cc:1418] Unable to register cuBLAS factory: Attempting to register factory for plugin cuBLAS when one has already been registered\n",
            "2025-06-24 21:54:52.720793: I tensorflow/core/platform/cpu_feature_guard.cc:210] This TensorFlow binary is optimized to use available CPU instructions in performance-critical operations.\n",
            "To enable the following instructions: AVX2 AVX512F AVX512_VNNI FMA, in other operations, rebuild TensorFlow with the appropriate compiler flags.\n",
            "The following values were not passed to `accelerate launch` and had defaults used instead:\n",
            "\t`--num_processes` was set to a value of `1`\n",
            "\t`--num_machines` was set to a value of `1`\n",
            "\t`--mixed_precision` was set to a value of `'no'`\n",
            "\t`--dynamo_backend` was set to a value of `'no'`\n",
            "To avoid this warning pass in values for each of the problematic parameters or run `accelerate config`.\n",
            "2025-06-24 21:55:12.108162: E external/local_xla/xla/stream_executor/cuda/cuda_fft.cc:477] Unable to register cuFFT factory: Attempting to register factory for plugin cuFFT when one has already been registered\n",
            "WARNING: All log messages before absl::InitializeLog() is called are written to STDERR\n",
            "E0000 00:00:1750802112.129068    1410 cuda_dnn.cc:8310] Unable to register cuDNN factory: Attempting to register factory for plugin cuDNN when one has already been registered\n",
            "E0000 00:00:1750802112.135518    1410 cuda_blas.cc:1418] Unable to register cuBLAS factory: Attempting to register factory for plugin cuBLAS when one has already been registered\n"
          ]
        }
      ],
      "source": [
        "!axolotl train axolotl.yaml"
      ]
    },
    {
      "cell_type": "code",
      "execution_count": null,
      "metadata": {
        "id": "y3eFNBvnvIW9"
      },
      "outputs": [],
      "source": []
    }
  ],
  "metadata": {
    "kernelspec": {
      "display_name": "Python 3",
      "name": "python3"
    },
    "language_info": {
      "codemirror_mode": {
        "name": "ipython",
        "version": 3
      },
      "file_extension": ".py",
      "mimetype": "text/x-python",
      "name": "python",
      "nbconvert_exporter": "python",
      "pygments_lexer": "ipython3",
      "version": "3.12.10"
    },
    "colab": {
      "provenance": [],
      "machine_shape": "hm",
      "gpuType": "L4",
      "include_colab_link": true
    },
    "accelerator": "GPU"
  },
  "nbformat": 4,
  "nbformat_minor": 0
}