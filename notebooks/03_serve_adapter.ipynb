{
  "nbformat": 4,
  "nbformat_minor": 0,
  "metadata": {
    "colab": {
      "provenance": [],
      "machine_shape": "hm",
      "gpuType": "L4",
      "authorship_tag": "ABX9TyOy1C7Qysl7DjYD7xLMCReV",
      "include_colab_link": true
    },
    "kernelspec": {
      "name": "python3",
      "display_name": "Python 3"
    },
    "language_info": {
      "name": "python"
    },
    "accelerator": "GPU"
  },
  "cells": [
    {
      "cell_type": "markdown",
      "metadata": {
        "id": "view-in-github",
        "colab_type": "text"
      },
      "source": [
        "<a href=\"https://colab.research.google.com/github/mgfrantz/CalTech-CTME-AramCo-2025/blob/main/notebooks/03_serve_adapter.ipynb\" target=\"_parent\"><img src=\"https://colab.research.google.com/assets/colab-badge.svg\" alt=\"Open In Colab\"/></a>"
      ]
    },
    {
      "cell_type": "code",
      "execution_count": 1,
      "metadata": {
        "id": "gXB_MzLfe0ip"
      },
      "outputs": [],
      "source": [
        "!uv pip install -qqq vllm litellm bitsandbytes"
      ]
    },
    {
      "cell_type": "code",
      "source": [
        "import os\n",
        "from google.colab import userdata\n",
        "os.environ['HF_TOKEN'] = userdata.get('HF_TOKEN')"
      ],
      "metadata": {
        "id": "bOzMR1mSgOCL"
      },
      "execution_count": 4,
      "outputs": []
    },
    {
      "cell_type": "markdown",
      "source": [
        "Open a terminal 👇 and run th following commands:\n",
        "\n",
        "1. Add your `HF_TOKEN` env variable (copy from secrets manager 👈)\n",
        "\n",
        "```sh\n",
        "export HF_TOKEN=<your_hf_token>\n",
        "```\n",
        "\n",
        "2. Serve the model with your adapter\n",
        "\n",
        "```sh\n",
        "vllm serve NousResearch/Llama-3.2-1B \\\n",
        "    --max-model-len 2048 \\\n",
        "    --enable-lora \\\n",
        "    --max-lora-rank 32 \\\n",
        "    --lora-modules sql-lora=mgfrantz/NousResearch-Llama-3.2-1B-ctme-sql-demo\n",
        "```"
      ],
      "metadata": {
        "id": "yoaa0Mnu2x8l"
      }
    },
    {
      "cell_type": "code",
      "source": [
        "import os\n",
        "\n",
        "# Define file URLs and local filenames\n",
        "urls = [\n",
        "    \"https://raw.githubusercontent.com/mgfrantz/CalTech-CTME-AramCo-2025/refs/heads/main/notebooks/chatml_evaluation_data.jsonl\",\n",
        "    \"https://raw.githubusercontent.com/mgfrantz/CalTech-CTME-AramCo-2025/refs/heads/main/notebooks/chatml_training_data.jsonl\",\n",
        "]\n",
        "filenames = [\n",
        "    \"chatml_evaluation_data.jsonl\",\n",
        "    \"chatml_training_data.jsonl\",\n",
        "]\n",
        "\n",
        "# Download files if they don't exist\n",
        "for url, filename in zip(urls, filenames):\n",
        "    if not os.path.exists(filename):\n",
        "        print(f\"Downloading {filename}...\")\n",
        "        !wget {url} -O {filename}\n",
        "    else:\n",
        "        print(f\"{filename} already exists.\")"
      ],
      "metadata": {
        "id": "FCBjV8_YFaB4",
        "outputId": "17f676f6-0c99-49be-ab8c-684ba5a35fdc",
        "colab": {
          "base_uri": "https://localhost:8080/"
        }
      },
      "execution_count": 3,
      "outputs": [
        {
          "output_type": "stream",
          "name": "stdout",
          "text": [
            "Downloading chatml_evaluation_data.jsonl...\n",
            "--2025-06-25 21:54:19--  https://raw.githubusercontent.com/mgfrantz/CalTech-CTME-AramCo-2025/refs/heads/main/notebooks/chatml_evaluation_data.jsonl\n",
            "Resolving raw.githubusercontent.com (raw.githubusercontent.com)... 185.199.108.133, 185.199.109.133, 185.199.110.133, ...\n",
            "Connecting to raw.githubusercontent.com (raw.githubusercontent.com)|185.199.108.133|:443... connected.\n",
            "HTTP request sent, awaiting response... 200 OK\n",
            "Length: 34558 (34K) [text/plain]\n",
            "Saving to: ‘chatml_evaluation_data.jsonl’\n",
            "\n",
            "chatml_evaluation_d 100%[===================>]  33.75K  --.-KB/s    in 0.007s  \n",
            "\n",
            "2025-06-25 21:54:20 (4.79 MB/s) - ‘chatml_evaluation_data.jsonl’ saved [34558/34558]\n",
            "\n",
            "Downloading chatml_training_data.jsonl...\n",
            "--2025-06-25 21:54:20--  https://raw.githubusercontent.com/mgfrantz/CalTech-CTME-AramCo-2025/refs/heads/main/notebooks/chatml_training_data.jsonl\n",
            "Resolving raw.githubusercontent.com (raw.githubusercontent.com)... 185.199.108.133, 185.199.109.133, 185.199.110.133, ...\n",
            "Connecting to raw.githubusercontent.com (raw.githubusercontent.com)|185.199.108.133|:443... connected.\n",
            "HTTP request sent, awaiting response... 200 OK\n",
            "Length: 306621 (299K) [text/plain]\n",
            "Saving to: ‘chatml_training_data.jsonl’\n",
            "\n",
            "chatml_training_dat 100%[===================>] 299.43K  --.-KB/s    in 0.02s   \n",
            "\n",
            "2025-06-25 21:54:20 (15.1 MB/s) - ‘chatml_training_data.jsonl’ saved [306621/306621]\n",
            "\n"
          ]
        }
      ]
    },
    {
      "cell_type": "code",
      "source": [
        "from litellm import completion\n",
        "from rich import print\n",
        "import json"
      ],
      "metadata": {
        "id": "WmYeQ1k6fFpV"
      },
      "execution_count": 27,
      "outputs": []
    },
    {
      "cell_type": "code",
      "source": [
        "eval_conversations = []\n",
        "with open('chatml_evaluation_data.jsonl', 'r') as f:\n",
        "    for line in f:\n",
        "        eval_conversations.append(json.loads(line))"
      ],
      "metadata": {
        "id": "f9EmkQsIFsCl"
      },
      "execution_count": 10,
      "outputs": []
    },
    {
      "cell_type": "code",
      "source": [
        "print(eval_conversations[0].get('conversations'))"
      ],
      "metadata": {
        "id": "DA-PEZMCGEvT",
        "outputId": "cc5325b4-7680-423a-d00f-da1d755054b7",
        "colab": {
          "base_uri": "https://localhost:8080/"
        }
      },
      "execution_count": 13,
      "outputs": [
        {
          "output_type": "stream",
          "name": "stdout",
          "text": [
            "[{'role': 'system', 'content': 'You are an expert SQL developer specializing in SQLite. Generate accurate SQL queries that follow these requirements:\\n\\nSQLITE REQUIREMENTS:\\n1. Use only standard SQLite-compatible SQL syntax\\n2. Avoid PostgreSQL-specific functions like INTERVAL - use date arithmetic instead\\n3. Use SQLite date functions: date(), datetime(), julianday() for date calculations\\n4. For \"recent month\" use: WHERE date_column >= date((SELECT MAX(date_column) FROM table_name), \\'-1 month\\')\\n5. For \"past 30 days\" use: WHERE date_column >= date((SELECT MAX(date_column) FROM table_name), \\'-30 days\\')\\n6. For rolling averages, use window functions or subqueries\\n7. Use MAX(appropriate_date_column) to find the most recent date\\n8. Use proper SQLite column types: INTEGER, TEXT, REAL, BLOB\\n9. Handle foreign key relationships correctly with proper JOIN syntax\\n\\nQUERY STANDARDS:\\n- Write clear, efficient queries\\n- Use appropriate aggregation functions (COUNT, SUM, AVG, MAX, MIN)\\n- Include proper GROUP BY and ORDER BY clauses when needed\\n- Use table aliases for readability in complex queries'}, {'role': 'user', 'content': 'Database Schema:\\nTable: accounts\\n  - id (BIGINT, PRIMARY KEY, NOT NULL)\\n  - account_number (VARCHAR, NOT NULL)\\n  - balance (DOUBLE, NOT NULL)\\n  - account_type (VARCHAR, NOT NULL)\\n  - customer_id (BIGINT, NOT NULL)\\n\\nTable: customers\\n  - id (BIGINT, PRIMARY KEY, NOT NULL)\\n  - name (VARCHAR, NOT NULL)\\n  - address (VARCHAR)\\n  - email (VARCHAR, NOT NULL)\\n  - phone (VARCHAR)\\n\\nTable: loans\\n  - id (BIGINT, PRIMARY KEY, NOT NULL)\\n  - loan_number (VARCHAR, NOT NULL)\\n  - amount (DOUBLE, NOT NULL)\\n  - interest_rate (DOUBLE, NOT NULL)\\n  - status (VARCHAR, NOT NULL)\\n  - customer_id (BIGINT, NOT NULL)\\n\\nTable: transactions\\n  - id (BIGINT, PRIMARY KEY, NOT NULL)\\n  - transaction_type (VARCHAR, NOT NULL)\\n  - amount (DOUBLE, NOT NULL)\\n  - timestamp (TIMESTAMP, NOT NULL)\\n  - account_id (BIGINT, NOT NULL)\\n\\nQuestion: Who are the top 5 customers by the number of transactions in the most recent month?'}, {'role': 'assistant', 'content': \"SELECT c.name, COUNT(t.id) AS transaction_count FROM customers c JOIN accounts a ON c.id = a.customer_id JOIN transactions t ON a.id = t.account_id WHERE t.timestamp >= date((SELECT MAX(timestamp) FROM transactions), '-1 month') GROUP BY c.name ORDER BY transaction_count DESC LIMIT 5;\"}]\n"
          ]
        }
      ]
    },
    {
      "cell_type": "code",
      "source": [
        "convo = eval_conversations[0].get('conversations')\n",
        "messages = convo[:-1]\n",
        "answer = convo[-1]\n",
        "\n",
        "print(\"Messages:\")\n",
        "print(messages)\n",
        "\n",
        "print(\"\\n\\nExpected answer:\")\n",
        "print(answer.get('content'))"
      ],
      "metadata": {
        "id": "Qpn5ZbGrGNiW",
        "outputId": "376af2c9-b2d3-4b91-8109-7b97af33a2f9",
        "colab": {
          "base_uri": "https://localhost:8080/",
          "height": 545
        }
      },
      "execution_count": 28,
      "outputs": [
        {
          "output_type": "display_data",
          "data": {
            "text/plain": [
              "Messages:\n"
            ],
            "text/html": [
              "<pre style=\"white-space:pre;overflow-x:auto;line-height:normal;font-family:Menlo,'DejaVu Sans Mono',consolas,'Courier New',monospace\">Messages:\n",
              "</pre>\n"
            ]
          },
          "metadata": {}
        },
        {
          "output_type": "display_data",
          "data": {
            "text/plain": [
              "\u001b[1m[\u001b[0m\n",
              "    \u001b[1m{\u001b[0m\n",
              "        \u001b[32m'role'\u001b[0m: \u001b[32m'system'\u001b[0m,\n",
              "        \u001b[32m'content'\u001b[0m: \u001b[32m'You are an expert SQL developer specializing in SQLite. Generate accurate SQL queries that \u001b[0m\n",
              "\u001b[32mfollow these requirements:\\n\\nSQLITE REQUIREMENTS:\\n1. Use only standard SQLite-compatible SQL syntax\\n2. Avoid \u001b[0m\n",
              "\u001b[32mPostgreSQL-specific functions like INTERVAL - use date arithmetic instead\\n3. Use SQLite date functions: date\u001b[0m\u001b[32m(\u001b[0m\u001b[32m)\u001b[0m\u001b[32m, \u001b[0m\n",
              "\u001b[32mdatetime\u001b[0m\u001b[32m(\u001b[0m\u001b[32m)\u001b[0m\u001b[32m, julianday\u001b[0m\u001b[32m(\u001b[0m\u001b[32m)\u001b[0m\u001b[32m for date calculations\\n4. For \"recent month\" use: WHERE date_column >= date\u001b[0m\u001b[32m(\u001b[0m\u001b[32m(\u001b[0m\u001b[32mSELECT \u001b[0m\n",
              "\u001b[32mMAX\u001b[0m\u001b[32m(\u001b[0m\u001b[32mdate_column\u001b[0m\u001b[32m)\u001b[0m\u001b[32m FROM table_name\u001b[0m\u001b[32m)\u001b[0m\u001b[32m, \\'-1 month\\'\u001b[0m\u001b[32m)\u001b[0m\u001b[32m\\n5. For \"past 30 days\" use: WHERE date_column >= date\u001b[0m\u001b[32m(\u001b[0m\u001b[32m(\u001b[0m\u001b[32mSELECT \u001b[0m\n",
              "\u001b[32mMAX\u001b[0m\u001b[32m(\u001b[0m\u001b[32mdate_column\u001b[0m\u001b[32m)\u001b[0m\u001b[32m FROM table_name\u001b[0m\u001b[32m)\u001b[0m\u001b[32m, \\'-30 days\\'\u001b[0m\u001b[32m)\u001b[0m\u001b[32m\\n6. For rolling averages, use window functions or subqueries\\n7. \u001b[0m\n",
              "\u001b[32mUse MAX\u001b[0m\u001b[32m(\u001b[0m\u001b[32mappropriate_date_column\u001b[0m\u001b[32m)\u001b[0m\u001b[32m to find the most recent date\\n8. Use proper SQLite column types: INTEGER, TEXT, \u001b[0m\n",
              "\u001b[32mREAL, BLOB\\n9. Handle foreign key relationships correctly with proper JOIN syntax\\n\\nQUERY STANDARDS:\\n- Write \u001b[0m\n",
              "\u001b[32mclear, efficient queries\\n- Use appropriate aggregation functions \u001b[0m\u001b[32m(\u001b[0m\u001b[32mCOUNT, SUM, AVG, MAX, MIN\u001b[0m\u001b[32m)\u001b[0m\u001b[32m\\n- Include proper \u001b[0m\n",
              "\u001b[32mGROUP BY and ORDER BY clauses when needed\\n- Use table aliases for readability in complex queries'\u001b[0m\n",
              "    \u001b[1m}\u001b[0m,\n",
              "    \u001b[1m{\u001b[0m\n",
              "        \u001b[32m'role'\u001b[0m: \u001b[32m'user'\u001b[0m,\n",
              "        \u001b[32m'content'\u001b[0m: \u001b[32m'Database Schema:\\nTable: accounts\\n  - id \u001b[0m\u001b[32m(\u001b[0m\u001b[32mBIGINT, PRIMARY KEY, NOT NULL\u001b[0m\u001b[32m)\u001b[0m\u001b[32m\\n  - account_number \u001b[0m\n",
              "\u001b[32m(\u001b[0m\u001b[32mVARCHAR, NOT NULL\u001b[0m\u001b[32m)\u001b[0m\u001b[32m\\n  - balance \u001b[0m\u001b[32m(\u001b[0m\u001b[32mDOUBLE, NOT NULL\u001b[0m\u001b[32m)\u001b[0m\u001b[32m\\n  - account_type \u001b[0m\u001b[32m(\u001b[0m\u001b[32mVARCHAR, NOT NULL\u001b[0m\u001b[32m)\u001b[0m\u001b[32m\\n  - customer_id \u001b[0m\u001b[32m(\u001b[0m\u001b[32mBIGINT,\u001b[0m\n",
              "\u001b[32mNOT NULL\u001b[0m\u001b[32m)\u001b[0m\u001b[32m\\n\\nTable: customers\\n  - id \u001b[0m\u001b[32m(\u001b[0m\u001b[32mBIGINT, PRIMARY KEY, NOT NULL\u001b[0m\u001b[32m)\u001b[0m\u001b[32m\\n  - name \u001b[0m\u001b[32m(\u001b[0m\u001b[32mVARCHAR, NOT NULL\u001b[0m\u001b[32m)\u001b[0m\u001b[32m\\n  - address \u001b[0m\n",
              "\u001b[32m(\u001b[0m\u001b[32mVARCHAR\u001b[0m\u001b[32m)\u001b[0m\u001b[32m\\n  - email \u001b[0m\u001b[32m(\u001b[0m\u001b[32mVARCHAR, NOT NULL\u001b[0m\u001b[32m)\u001b[0m\u001b[32m\\n  - phone \u001b[0m\u001b[32m(\u001b[0m\u001b[32mVARCHAR\u001b[0m\u001b[32m)\u001b[0m\u001b[32m\\n\\nTable: loans\\n  - id \u001b[0m\u001b[32m(\u001b[0m\u001b[32mBIGINT, PRIMARY KEY, NOT \u001b[0m\n",
              "\u001b[32mNULL\u001b[0m\u001b[32m)\u001b[0m\u001b[32m\\n  - loan_number \u001b[0m\u001b[32m(\u001b[0m\u001b[32mVARCHAR, NOT NULL\u001b[0m\u001b[32m)\u001b[0m\u001b[32m\\n  - amount \u001b[0m\u001b[32m(\u001b[0m\u001b[32mDOUBLE, NOT NULL\u001b[0m\u001b[32m)\u001b[0m\u001b[32m\\n  - interest_rate \u001b[0m\u001b[32m(\u001b[0m\u001b[32mDOUBLE, NOT NULL\u001b[0m\u001b[32m)\u001b[0m\u001b[32m\\n  \u001b[0m\n",
              "\u001b[32m- status \u001b[0m\u001b[32m(\u001b[0m\u001b[32mVARCHAR, NOT NULL\u001b[0m\u001b[32m)\u001b[0m\u001b[32m\\n  - customer_id \u001b[0m\u001b[32m(\u001b[0m\u001b[32mBIGINT, NOT NULL\u001b[0m\u001b[32m)\u001b[0m\u001b[32m\\n\\nTable: transactions\\n  - id \u001b[0m\u001b[32m(\u001b[0m\u001b[32mBIGINT, PRIMARY \u001b[0m\n",
              "\u001b[32mKEY, NOT NULL\u001b[0m\u001b[32m)\u001b[0m\u001b[32m\\n  - transaction_type \u001b[0m\u001b[32m(\u001b[0m\u001b[32mVARCHAR, NOT NULL\u001b[0m\u001b[32m)\u001b[0m\u001b[32m\\n  - amount \u001b[0m\u001b[32m(\u001b[0m\u001b[32mDOUBLE, NOT NULL\u001b[0m\u001b[32m)\u001b[0m\u001b[32m\\n  - timestamp \u001b[0m\u001b[32m(\u001b[0m\u001b[32mTIMESTAMP, \u001b[0m\n",
              "\u001b[32mNOT NULL\u001b[0m\u001b[32m)\u001b[0m\u001b[32m\\n  - account_id \u001b[0m\u001b[32m(\u001b[0m\u001b[32mBIGINT, NOT NULL\u001b[0m\u001b[32m)\u001b[0m\u001b[32m\\n\\nQuestion: Who are the top 5 customers by the number of transactions\u001b[0m\n",
              "\u001b[32min the most recent month?'\u001b[0m\n",
              "    \u001b[1m}\u001b[0m\n",
              "\u001b[1m]\u001b[0m\n"
            ],
            "text/html": [
              "<pre style=\"white-space:pre;overflow-x:auto;line-height:normal;font-family:Menlo,'DejaVu Sans Mono',consolas,'Courier New',monospace\"><span style=\"font-weight: bold\">[</span>\n",
              "    <span style=\"font-weight: bold\">{</span>\n",
              "        <span style=\"color: #008000; text-decoration-color: #008000\">'role'</span>: <span style=\"color: #008000; text-decoration-color: #008000\">'system'</span>,\n",
              "        <span style=\"color: #008000; text-decoration-color: #008000\">'content'</span>: <span style=\"color: #008000; text-decoration-color: #008000\">'You are an expert SQL developer specializing in SQLite. Generate accurate SQL queries that </span>\n",
              "<span style=\"color: #008000; text-decoration-color: #008000\">follow these requirements:\\n\\nSQLITE REQUIREMENTS:\\n1. Use only standard SQLite-compatible SQL syntax\\n2. Avoid </span>\n",
              "<span style=\"color: #008000; text-decoration-color: #008000\">PostgreSQL-specific functions like INTERVAL - use date arithmetic instead\\n3. Use SQLite date functions: date(), </span>\n",
              "<span style=\"color: #008000; text-decoration-color: #008000\">datetime(), julianday() for date calculations\\n4. For \"recent month\" use: WHERE date_column &gt;= date((SELECT </span>\n",
              "<span style=\"color: #008000; text-decoration-color: #008000\">MAX(date_column) FROM table_name), \\'-1 month\\')\\n5. For \"past 30 days\" use: WHERE date_column &gt;= date((SELECT </span>\n",
              "<span style=\"color: #008000; text-decoration-color: #008000\">MAX(date_column) FROM table_name), \\'-30 days\\')\\n6. For rolling averages, use window functions or subqueries\\n7. </span>\n",
              "<span style=\"color: #008000; text-decoration-color: #008000\">Use MAX(appropriate_date_column) to find the most recent date\\n8. Use proper SQLite column types: INTEGER, TEXT, </span>\n",
              "<span style=\"color: #008000; text-decoration-color: #008000\">REAL, BLOB\\n9. Handle foreign key relationships correctly with proper JOIN syntax\\n\\nQUERY STANDARDS:\\n- Write </span>\n",
              "<span style=\"color: #008000; text-decoration-color: #008000\">clear, efficient queries\\n- Use appropriate aggregation functions (COUNT, SUM, AVG, MAX, MIN)\\n- Include proper </span>\n",
              "<span style=\"color: #008000; text-decoration-color: #008000\">GROUP BY and ORDER BY clauses when needed\\n- Use table aliases for readability in complex queries'</span>\n",
              "    <span style=\"font-weight: bold\">}</span>,\n",
              "    <span style=\"font-weight: bold\">{</span>\n",
              "        <span style=\"color: #008000; text-decoration-color: #008000\">'role'</span>: <span style=\"color: #008000; text-decoration-color: #008000\">'user'</span>,\n",
              "        <span style=\"color: #008000; text-decoration-color: #008000\">'content'</span>: <span style=\"color: #008000; text-decoration-color: #008000\">'Database Schema:\\nTable: accounts\\n  - id (BIGINT, PRIMARY KEY, NOT NULL)\\n  - account_number </span>\n",
              "<span style=\"color: #008000; text-decoration-color: #008000\">(VARCHAR, NOT NULL)\\n  - balance (DOUBLE, NOT NULL)\\n  - account_type (VARCHAR, NOT NULL)\\n  - customer_id (BIGINT,</span>\n",
              "<span style=\"color: #008000; text-decoration-color: #008000\">NOT NULL)\\n\\nTable: customers\\n  - id (BIGINT, PRIMARY KEY, NOT NULL)\\n  - name (VARCHAR, NOT NULL)\\n  - address </span>\n",
              "<span style=\"color: #008000; text-decoration-color: #008000\">(VARCHAR)\\n  - email (VARCHAR, NOT NULL)\\n  - phone (VARCHAR)\\n\\nTable: loans\\n  - id (BIGINT, PRIMARY KEY, NOT </span>\n",
              "<span style=\"color: #008000; text-decoration-color: #008000\">NULL)\\n  - loan_number (VARCHAR, NOT NULL)\\n  - amount (DOUBLE, NOT NULL)\\n  - interest_rate (DOUBLE, NOT NULL)\\n  </span>\n",
              "<span style=\"color: #008000; text-decoration-color: #008000\">- status (VARCHAR, NOT NULL)\\n  - customer_id (BIGINT, NOT NULL)\\n\\nTable: transactions\\n  - id (BIGINT, PRIMARY </span>\n",
              "<span style=\"color: #008000; text-decoration-color: #008000\">KEY, NOT NULL)\\n  - transaction_type (VARCHAR, NOT NULL)\\n  - amount (DOUBLE, NOT NULL)\\n  - timestamp (TIMESTAMP, </span>\n",
              "<span style=\"color: #008000; text-decoration-color: #008000\">NOT NULL)\\n  - account_id (BIGINT, NOT NULL)\\n\\nQuestion: Who are the top 5 customers by the number of transactions</span>\n",
              "<span style=\"color: #008000; text-decoration-color: #008000\">in the most recent month?'</span>\n",
              "    <span style=\"font-weight: bold\">}</span>\n",
              "<span style=\"font-weight: bold\">]</span>\n",
              "</pre>\n"
            ]
          },
          "metadata": {}
        },
        {
          "output_type": "display_data",
          "data": {
            "text/plain": [
              "\n",
              "\n",
              "Expected answer:\n"
            ],
            "text/html": [
              "<pre style=\"white-space:pre;overflow-x:auto;line-height:normal;font-family:Menlo,'DejaVu Sans Mono',consolas,'Courier New',monospace\">\n",
              "\n",
              "Expected answer:\n",
              "</pre>\n"
            ]
          },
          "metadata": {}
        },
        {
          "output_type": "display_data",
          "data": {
            "text/plain": [
              "SELECT c.name, \u001b[1;35mCOUNT\u001b[0m\u001b[1m(\u001b[0mt.id\u001b[1m)\u001b[0m AS transaction_count FROM customers c JOIN accounts a ON c.id = a.customer_id JOIN \n",
              "transactions t ON a.id = t.account_id WHERE t.timestamp >= \u001b[1;35mdate\u001b[0m\u001b[1m(\u001b[0m\u001b[1m(\u001b[0mSELECT \u001b[1;35mMAX\u001b[0m\u001b[1m(\u001b[0mtimestamp\u001b[1m)\u001b[0m FROM transactions\u001b[1m)\u001b[0m, \u001b[32m'-1 \u001b[0m\n",
              "\u001b[32mmonth'\u001b[0m\u001b[1m)\u001b[0m GROUP BY c.name ORDER BY transaction_count DESC LIMIT \u001b[1;36m5\u001b[0m;\n"
            ],
            "text/html": [
              "<pre style=\"white-space:pre;overflow-x:auto;line-height:normal;font-family:Menlo,'DejaVu Sans Mono',consolas,'Courier New',monospace\">SELECT c.name, <span style=\"color: #800080; text-decoration-color: #800080; font-weight: bold\">COUNT</span><span style=\"font-weight: bold\">(</span>t.id<span style=\"font-weight: bold\">)</span> AS transaction_count FROM customers c JOIN accounts a ON c.id = a.customer_id JOIN \n",
              "transactions t ON a.id = t.account_id WHERE t.timestamp &gt;= <span style=\"color: #800080; text-decoration-color: #800080; font-weight: bold\">date</span><span style=\"font-weight: bold\">((</span>SELECT <span style=\"color: #800080; text-decoration-color: #800080; font-weight: bold\">MAX</span><span style=\"font-weight: bold\">(</span>timestamp<span style=\"font-weight: bold\">)</span> FROM transactions<span style=\"font-weight: bold\">)</span>, <span style=\"color: #008000; text-decoration-color: #008000\">'-1 </span>\n",
              "<span style=\"color: #008000; text-decoration-color: #008000\">month'</span><span style=\"font-weight: bold\">)</span> GROUP BY c.name ORDER BY transaction_count DESC LIMIT <span style=\"color: #008080; text-decoration-color: #008080; font-weight: bold\">5</span>;\n",
              "</pre>\n"
            ]
          },
          "metadata": {}
        }
      ]
    },
    {
      "cell_type": "code",
      "source": [
        "vllm_url = 'http://localhost:8000/v1/'\n",
        "model = 'openai/sql-lora'"
      ],
      "metadata": {
        "id": "S1JZoBWKGgtr"
      },
      "execution_count": 24,
      "outputs": []
    },
    {
      "cell_type": "code",
      "source": [
        "resp = completion(\n",
        "    model,\n",
        "    messages,\n",
        "    base_url=vllm_url,\n",
        "    api_key='not-needed',\n",
        "    max_completion_tokens=128\n",
        ")"
      ],
      "metadata": {
        "id": "Vsae8aDW4zl9"
      },
      "execution_count": 25,
      "outputs": []
    },
    {
      "cell_type": "code",
      "source": [
        "print(resp.choices[0].message.content)"
      ],
      "metadata": {
        "colab": {
          "base_uri": "https://localhost:8080/"
        },
        "id": "_vCptqWA455l",
        "outputId": "ded3dcb0-feb9-49ee-f246-f91e973da19c"
      },
      "execution_count": 26,
      "outputs": [
        {
          "output_type": "stream",
          "name": "stdout",
          "text": [
            "Solution:\n",
            "1. Recommend database structure changes SUMMARY:\n",
            "The database should be set up with tables that best support the request. The following tables are strategic in supporting this particular use-case; make notes on these tables if any asked for:\n",
            "- account_type: a VARCHAR containing (LIST OF) different loan types\n",
            "- account_number: a VARCHAR 7-digit primary key (foreign key to existing accounts table)\n",
            "- customer_id: a large unique integer.\n",
            "2. Identify and use pro’s and con’s for each logical container SUMMARY:\n",
            "• Find appropriate table types for each type of data. FLOAT and DOUBLE tables include image of details such as fairness,\n"
          ]
        }
      ]
    },
    {
      "cell_type": "code",
      "source": [],
      "metadata": {
        "id": "7RGeOsNx7ceO"
      },
      "execution_count": null,
      "outputs": []
    }
  ]
}