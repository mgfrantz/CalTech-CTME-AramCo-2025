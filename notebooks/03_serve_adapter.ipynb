{
  "nbformat": 4,
  "nbformat_minor": 0,
  "metadata": {
    "colab": {
      "provenance": [],
      "machine_shape": "hm",
      "gpuType": "L4",
      "authorship_tag": "ABX9TyOfgUMbcTvmUezSa0DEiYbA",
      "include_colab_link": true
    },
    "kernelspec": {
      "name": "python3",
      "display_name": "Python 3"
    },
    "language_info": {
      "name": "python"
    },
    "accelerator": "GPU"
  },
  "cells": [
    {
      "cell_type": "markdown",
      "metadata": {
        "id": "view-in-github",
        "colab_type": "text"
      },
      "source": [
        "<a href=\"https://colab.research.google.com/github/mgfrantz/CalTech-CTME-AramCo-2025/blob/main/notebooks/03_serve_adapter.ipynb\" target=\"_parent\"><img src=\"https://colab.research.google.com/assets/colab-badge.svg\" alt=\"Open In Colab\"/></a>"
      ]
    },
    {
      "cell_type": "code",
      "execution_count": 4,
      "metadata": {
        "id": "gXB_MzLfe0ip"
      },
      "outputs": [],
      "source": [
        "!uv pip install -qqq vllm litellm bitsandbytes"
      ]
    },
    {
      "cell_type": "code",
      "source": [
        "import os\n",
        "from google.colab import userdata\n",
        "os.environ['HF_TOKEN'] = userdata.get('HF_TOKEN')"
      ],
      "metadata": {
        "id": "bOzMR1mSgOCL"
      },
      "execution_count": 5,
      "outputs": []
    },
    {
      "cell_type": "markdown",
      "source": [
        "Open a terminal 👇 and run th following commands:\n",
        "\n",
        "1. Add your `HF_TOKEN` env variable (copy from secrets manager 👈)\n",
        "\n",
        "```sh\n",
        "export HF_TOKEN=<your_hf_token>\n",
        "```\n",
        "\n",
        "2. Serve the model with your adapter\n",
        "\n",
        "```sh\n",
        "vllm serve meta-llama/Llama-3.2-3B \\\n",
        "    --max-model-len 2048 \\\n",
        "    --enable-lora \\\n",
        "    --max-lora-rank 32 \\\n",
        "    --lora-modules sql-lora=mgfrantz/ctme-demo\n",
        "```"
      ],
      "metadata": {
        "id": "yoaa0Mnu2x8l"
      }
    },
    {
      "cell_type": "code",
      "source": [
        "from litellm import completion"
      ],
      "metadata": {
        "id": "WmYeQ1k6fFpV"
      },
      "execution_count": 6,
      "outputs": []
    },
    {
      "cell_type": "code",
      "source": [
        "vllm_url = 'http://localhost:8000/v1/'\n",
        "model = 'openai/sql-lora'"
      ],
      "metadata": {
        "id": "F9onC0iF4A2S"
      },
      "execution_count": 19,
      "outputs": []
    },
    {
      "cell_type": "code",
      "source": [
        "messages = [\n",
        "    {\n",
        "      \"role\": \"system\",\n",
        "      \"content\": \"You are an expert SQL developer specializing in SQLite. Generate accurate SQL queries that follow these requirements:\\n\\nSQLITE REQUIREMENTS:\\n1. Use only standard SQLite-compatible SQL syntax\\n2. Avoid PostgreSQL-specific functions like INTERVAL - use date arithmetic instead\\n3. Use SQLite date functions: date(), datetime(), julianday() for date calculations\\n4. For \\\"recent month\\\" use: WHERE date_column >= date((SELECT MAX(date_column) FROM table_name), '-1 month')\\n5. For \\\"past 30 days\\\" use: WHERE date_column >= date((SELECT MAX(date_column) FROM table_name), '-30 days')\\n6. For rolling averages, use window functions or subqueries\\n7. Use MAX(appropriate_date_column) to find the most recent date\\n8. Use proper SQLite column types: INTEGER, TEXT, REAL, BLOB\\n9. Handle foreign key relationships correctly with proper JOIN syntax\\n\\nQUERY STANDARDS:\\n- Write clear, efficient queries\\n- Use appropriate aggregation functions (COUNT, SUM, AVG, MAX, MIN)\\n- Include proper GROUP BY and ORDER BY clauses when needed\\n- Use table aliases for readability in complex queries\"\n",
        "    },\n",
        "    {\n",
        "      \"role\": \"user\",\n",
        "      \"content\": \"Database Schema:\\nTable: customers\\n  - id (BIGINT, PRIMARY KEY, NOT NULL)\\n  - first_name (VARCHAR, NOT NULL)\\n  - last_name (VARCHAR, NOT NULL)\\n  - email (VARCHAR, NOT NULL)\\n  - phone_number (VARCHAR, NOT NULL)\\n\\nTable: drivers\\n  - id (BIGINT, PRIMARY KEY, NOT NULL)\\n  - first_name (VARCHAR, NOT NULL)\\n  - last_name (VARCHAR, NOT NULL)\\n  - phone_number (VARCHAR, NOT NULL)\\n  - license_number (VARCHAR, NOT NULL)\\n\\nTable: orders\\n  - id (BIGINT, PRIMARY KEY, NOT NULL)\\n  - customer_id (BIGINT, NOT NULL)\\n  - restaurant_id (BIGINT, NOT NULL)\\n  - order_date (TIMESTAMP, NOT NULL)\\n  - total_amount (DOUBLE, NOT NULL)\\n  - status (VARCHAR, NOT NULL)\\n\\nTable: restaurants\\n  - id (BIGINT, PRIMARY KEY, NOT NULL)\\n  - name (VARCHAR, NOT NULL)\\n  - address (VARCHAR, NOT NULL)\\n  - phone_number (VARCHAR, NOT NULL)\\n\\nQuestion: How many orders were placed in the most recent month?\"\n",
        "    },\n",
        "    # {\n",
        "    #   \"role\": \"assistant\",\n",
        "    #   \"content\": \"SELECT COUNT(*) FROM orders WHERE order_date >= date((SELECT MAX(order_date) FROM orders), '-1 month')\"\n",
        "    # }\n",
        "]"
      ],
      "metadata": {
        "id": "UkicBR1k4kp6"
      },
      "execution_count": 38,
      "outputs": []
    },
    {
      "cell_type": "code",
      "source": [
        "resp = completion(\n",
        "    model,\n",
        "    messages,\n",
        "    base_url=vllm_url,\n",
        "    api_key='not-needed',\n",
        "    max_completion_tokens=128\n",
        ")"
      ],
      "metadata": {
        "colab": {
          "base_uri": "https://localhost:8080/"
        },
        "id": "Vsae8aDW4zl9",
        "outputId": "367834e6-a6e8-44c1-cc64-725486a2c5fc"
      },
      "execution_count": 40,
      "outputs": [
        {
          "output_type": "stream",
          "name": "stderr",
          "text": [
            "/usr/local/lib/python3.11/dist-packages/pydantic/main.py:463: UserWarning: Pydantic serializer warnings:\n",
            "  PydanticSerializationUnexpectedValue(Expected 9 fields but got 5: Expected `Message` - serialized value may not be as expected [input_value=Message(content=\"Solution...ields={'refusal': None}), input_type=Message])\n",
            "  PydanticSerializationUnexpectedValue(Expected `StreamingChoices` - serialized value may not be as expected [input_value=Choices(finish_reason='st...{'stop_reason': 128001}), input_type=Choices])\n",
            "  return self.__pydantic_serializer__.to_python(\n"
          ]
        }
      ]
    },
    {
      "cell_type": "code",
      "source": [
        "print(resp.choices[0].message.content)"
      ],
      "metadata": {
        "colab": {
          "base_uri": "https://localhost:8080/"
        },
        "id": "_vCptqWA455l",
        "outputId": "c63e7e51-980a-4c0f-a3c7-d4d4f7c90571"
      },
      "execution_count": 41,
      "outputs": [
        {
          "output_type": "stream",
          "name": "stdout",
          "text": [
            "Solution: The following SQL query can be used to find the number of orders placed in the most recent month:\n",
            "\n",
            "SELECT COUNT(*) AS num_orders\n",
            "FROM orders\n",
            "WHERE order_date >= date((SELECT MAX(order_date) FROM orders), '-1 month');\n",
            "\n",
            "This query uses the SQLite date() function to extract the most recent month from the order_date column and then compares it against the current date. It then counts the number of orders placed during this period using the COUNT() function.\n"
          ]
        }
      ]
    },
    {
      "cell_type": "code",
      "source": [],
      "metadata": {
        "id": "7RGeOsNx7ceO"
      },
      "execution_count": null,
      "outputs": []
    }
  ]
}